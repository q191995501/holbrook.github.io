{
 "cells": [
  {
   "cell_type": "markdown",
   "metadata": {},
   "source": [
    "[《概率论与数理统计》](https://book.douban.com/subject/2201479/)，作者陈希孺。\n",
    "\n",
    "\n",
    "#  概率论与数理统计1：事件的概率\n",
    "\n",
    "## 概率P\n",
    "\n",
    " 概率（或然率/几率）：事件出现的可能性的大小。\n",
    " \n",
    " 通常 $ 0 \\leq E \\leq 1 $\n",
    "  \n",
    " 概率的大小有可能与判断的主体有关。此时得出的概率称为“主观概率”。\n",
    "  \n",
    "##  事件 E\n",
    "\n",
    " "
   ]
  },
  {
   "cell_type": "code",
   "execution_count": null,
   "metadata": {
    "collapsed": true
   },
   "outputs": [],
   "source": []
  }
 ],
 "metadata": {
  "kernelspec": {
   "display_name": "Python 3",
   "language": "python",
   "name": "python3"
  },
  "language_info": {
   "codemirror_mode": {
    "name": "ipython",
    "version": 3
   },
   "file_extension": ".py",
   "mimetype": "text/x-python",
   "name": "python",
   "nbconvert_exporter": "python",
   "pygments_lexer": "ipython3",
   "version": "3.6.0"
  }
 },
 "nbformat": 4,
 "nbformat_minor": 2
}
