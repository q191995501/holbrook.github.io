{
 "cells": [
  {
   "cell_type": "markdown",
   "metadata": {},
   "source": [
    "《[利用Python进行数据分析](https://book.douban.com/subject/25779298/)》\n",
    "作者: Wes McKinney\n",
    "译者: 唐学韬\n",
    "\n",
    "# 利用Python进行数据分析(1)：简单介绍\n",
    "\n",
    "大部分问题在[这里](http://holbrook.github.io/2017/02/11/dataology_python_env.html) 都有介绍。\n",
    "\n",
    "一些补充的说明：\n",
    "\n",
    "1. 书中推荐 [Enthought公司](http://code.enthought.com/)的 \n",
    "   [Canopy](https://www.enthought.com/products/canopy/),\n",
    "   但我更喜欢非商业的 [Anaconda](https://www.continuum.io)\n",
    "   \n",
    "2. 我已经把博客从 Jekyll  切换到了 [Pelican](https://github.com/getpelican/pelican)，\n",
    "   一切都回到了纯 python , 这个世界果然清净了许多。\n",
    "   更重要的是， 通过 Pelican 的插件 [pelican-ipynb\n",
    "](https://github.com/getpelican/pelican-plugins) 可以在 bolg 中直接发布 ipython/jupyter notebook。\n",
    "本文就是用 jupyter notebook 直接编辑并通过 Pelican 发布的。"
   ]
  },
  {
   "cell_type": "code",
   "execution_count": null,
   "metadata": {
    "collapsed": true
   },
   "outputs": [],
   "source": []
  }
 ],
 "metadata": {
  "kernelspec": {
   "display_name": "Python 3",
   "language": "python",
   "name": "python3"
  },
  "language_info": {
   "codemirror_mode": {
    "name": "ipython",
    "version": 3
   },
   "file_extension": ".py",
   "mimetype": "text/x-python",
   "name": "python",
   "nbconvert_exporter": "python",
   "pygments_lexer": "ipython3",
   "version": "3.6.0"
  }
 },
 "nbformat": 4,
 "nbformat_minor": 2
}
