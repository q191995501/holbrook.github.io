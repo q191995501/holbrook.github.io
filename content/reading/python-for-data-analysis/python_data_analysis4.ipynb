{
 "cells": [
  {
   "cell_type": "markdown",
   "metadata": {},
   "source": [
    "NumPy(Numerical Python)，python 数值计算包。是所有 python 数据分析包的基础。\n",
    "NumPy提供了大量的数值编程工具，可以方便地处理向量、矩阵等运算，极大地便利了人们在科学计算方面的工作[^1]。\n",
    "\n",
    "NumPy 的主要功能包括：\n",
    "\n",
    "- ndarray, 多维数组，支持快速的矢量运算和复杂广播能力（不同大小的数组之间的运算叫广播（broadcasting）)\n",
    "- 随机数生成\n",
    "- 标准数学函数，用于对这个数组的数据进行快速运算，无需自己编写循环\n",
    "- 磁盘及内存 IO 工具\n",
    "- 线性代数、傅里叶变换\n",
    "- 提供通用数据接口和工具，便于集成其他语言( 如 C/C++ 等）\n",
    "\n",
    "在数据分析时，很重要的功能包括：\n",
    "\n",
    "- 用于数据整理和清理、子集构造和过滤、转换等快速的矢量化运算\n",
    "- 常用的数组解法，如排序、唯一化、集合运算等\n",
    "- 高效的描述统计和数据聚合/摘要运算\n",
    "- 用于异构数据集的合并/连接运算的数据对齐和关系型数据运算\n",
    "- 将条件逻辑表述为数组表达式（而不是带有if-elif-else分支的循环）\n",
    "- 数据的分组运算（聚合、转换、函数应用等）。\n",
    "\n",
    "这些功能 NumPy 都有提供，但是更基础。一般我们不直接使用 Numpy，而是通过 pandas 等包间接调用。\n",
    "\n",
    "\n",
    "## 准备工作"
   ]
  },
  {
   "cell_type": "code",
   "execution_count": 2,
   "metadata": {
    "collapsed": false
   },
   "outputs": [
    {
     "name": "stdout",
     "output_type": "stream",
     "text": [
      "Populating the interactive namespace from numpy and matplotlib\n"
     ]
    }
   ],
   "source": [
    "%pylab inline\n",
    "# import numpy as np\n",
    "import pandas as pd\n",
    "import json"
   ]
  },
  {
   "cell_type": "code",
   "execution_count": 10,
   "metadata": {
    "collapsed": false
   },
   "outputs": [],
   "source": [
    "from __future__ import division\n",
    "\n",
    "np.set_printoptions(precision=4, suppress=True)"
   ]
  },
  {
   "cell_type": "markdown",
   "metadata": {},
   "source": [
    "## ndarray:  多维数组对象\n",
    "\n",
    "ndarray 要求其中所有元素的类型必须相同。 "
   ]
  },
  {
   "cell_type": "code",
   "execution_count": null,
   "metadata": {
    "collapsed": false
   },
   "outputs": [],
   "source": [
    "data = randn(2, 3)"
   ]
  },
  {
   "cell_type": "code",
   "execution_count": null,
   "metadata": {
    "collapsed": false
   },
   "outputs": [],
   "source": [
    "data\n",
    "data * 10\n",
    "data + data"
   ]
  },
  {
   "cell_type": "code",
   "execution_count": null,
   "metadata": {
    "collapsed": false
   },
   "outputs": [],
   "source": [
    "data.shape\n",
    "data.dtype"
   ]
  },
  {
   "cell_type": "markdown",
   "metadata": {},
   "source": [
    "### 创建数组\n",
    "\n",
    "- `np.array()` \n",
    "  将 Python 数组转换为 ndarray 数组\n",
    "- `np.asarray()`\n",
    "  ？\n",
    "- `np.zeros()`\n",
    "  元素全为0的数组\n",
    "- `np.zeros_like()`\n",
    "   创建一个与参数数组形状相同的全0数组\n",
    "- `np.ones()`\n",
    "  元素全为1的数组\n",
    "- `np.ones_like()`\n",
    "   创建一个与参数数组形状相同的全1数组\n",
    "- `np.empty()`\n",
    "  没有任何具体值的 ndarray 数组\n",
    "- `np.empty_like()`\n",
    "   创建一个与参数数组形状相同的全空数组\n",
    "- `np.arange()`\n",
    "  根据 Python 内置函数 range 创建数组\n",
    "- `np.eye()`和`np.identity()`\n",
    "   创建一个 NxN 的单位矩阵（对角线为1，其余全为0）\n",
    "  "
   ]
  },
  {
   "cell_type": "code",
   "execution_count": 4,
   "metadata": {
    "collapsed": false
   },
   "outputs": [
    {
     "data": {
      "text/plain": [
       "array([ 6. ,  7.5,  8. ,  0. ,  1. ])"
      ]
     },
     "execution_count": 4,
     "metadata": {},
     "output_type": "execute_result"
    }
   ],
   "source": [
    "# 创建一维数组\n",
    "data1 = [6, 7.5, 8, 0, 1]\n",
    "arr1 = np.array(data1)\n",
    "arr1"
   ]
  },
  {
   "cell_type": "code",
   "execution_count": 5,
   "metadata": {
    "collapsed": false
   },
   "outputs": [
    {
     "data": {
      "text/plain": [
       "array([[1, 2, 3, 4],\n",
       "       [5, 6, 7, 8]])"
      ]
     },
     "execution_count": 5,
     "metadata": {},
     "output_type": "execute_result"
    }
   ],
   "source": [
    "# 创建多维数组\n",
    "data2 = [[1, 2, 3, 4], [5, 6, 7, 8]]\n",
    "arr2 = np.array(data2)\n",
    "arr2"
   ]
  },
  {
   "cell_type": "code",
   "execution_count": 27,
   "metadata": {
    "collapsed": false
   },
   "outputs": [
    {
     "name": "stdout",
     "output_type": "stream",
     "text": [
      "一维 zero 数组\n",
      "[ 0.  0.  0.  0.  0.  0.  0.  0.  0.  0.]\n",
      "二维空数组\n",
      "[[ 1.  1.  1.]\n",
      " [ 1.  1.  1.]]\n",
      "二维ones数组\n",
      "[[ 1.  1.]\n",
      " [ 1.  1.]\n",
      " [ 1.  1.]]\n",
      "序列数组\n",
      "[ 0  1  2  3  4  5  6  7  8  9 10 11 12 13 14]\n",
      "[0, 1)区间的随机数数组\n",
      "[ 0.4498  0.8318  0.035   0.675   0.9597]\n"
     ]
    }
   ],
   "source": [
    "# 特殊数组\n",
    "\n",
    "print('一维 zero 数组')\n",
    "print(np.zeros(10))\n",
    "\n",
    "print('二维空数组')\n",
    "print(np.empty((2, 3)))\n",
    "\n",
    "print('二维ones数组')\n",
    "print(np.ones((3,2)))\n",
    "\n",
    "print('序列数组')\n",
    "print(np.arange(15))\n",
    "\n",
    "print('[0, 1)区间的随机数数组')\n",
    "print(np.random.rand(5))"
   ]
  },
  {
   "cell_type": "code",
   "execution_count": 15,
   "metadata": {
    "collapsed": false
   },
   "outputs": [
    {
     "name": "stdout",
     "output_type": "stream",
     "text": [
      "float64\n",
      "int64\n",
      "2\n",
      "(2, 4)\n"
     ]
    }
   ],
   "source": [
    "# 数组的属性\n",
    "print(arr1.dtype)\n",
    "print(arr2.dtype)\n",
    "print(arr2.ndim)\n",
    "print(arr2.shape)"
   ]
  },
  {
   "cell_type": "markdown",
   "metadata": {},
   "source": [
    "### 数组类型 `dtype`"
   ]
  },
  {
   "cell_type": "code",
   "execution_count": 25,
   "metadata": {
    "collapsed": false
   },
   "outputs": [
    {
     "name": "stdout",
     "output_type": "stream",
     "text": [
      "float64\n",
      "int32\n"
     ]
    }
   ],
   "source": [
    "arr1 = np.array([1, 2, 3], dtype=np.float64)\n",
    "arr2 = np.array([1, 2, 3], dtype=np.int32)\n",
    "print(arr1.dtype)\n",
    "print(arr2.dtype)"
   ]
  },
  {
   "cell_type": "code",
   "execution_count": 86,
   "metadata": {
    "collapsed": false
   },
   "outputs": [
    {
     "data": {
      "text/plain": [
       "array([ 1.,  2.,  3.])"
      ]
     },
     "execution_count": 86,
     "metadata": {},
     "output_type": "execute_result"
    }
   ],
   "source": [
    "#  类型转换\n",
    "# 调用astype总会创建一个新的数组（原始数组的一个拷贝），即使和原来的数据类型相同\n",
    "float_arr = arr2.astype(np.float64)\n",
    "float_arr"
   ]
  },
  {
   "cell_type": "markdown",
   "metadata": {},
   "source": [
    "### 数组运算"
   ]
  },
  {
   "cell_type": "code",
   "execution_count": 32,
   "metadata": {
    "collapsed": false
   },
   "outputs": [
    {
     "data": {
      "text/plain": [
       "array([[ 1.,  2.,  3.],\n",
       "       [ 4.,  5.,  6.]])"
      ]
     },
     "execution_count": 32,
     "metadata": {},
     "output_type": "execute_result"
    }
   ],
   "source": [
    "arr = np.array([[1., 2., 3.], [4., 5., 6.]])\n",
    "arr"
   ]
  },
  {
   "cell_type": "code",
   "execution_count": 34,
   "metadata": {
    "collapsed": false
   },
   "outputs": [
    {
     "data": {
      "text/plain": [
       "array([[ 0.,  0.,  0.],\n",
       "       [ 0.,  0.,  0.]])"
      ]
     },
     "execution_count": 34,
     "metadata": {},
     "output_type": "execute_result"
    }
   ],
   "source": [
    "arr - arr"
   ]
  },
  {
   "cell_type": "code",
   "execution_count": 37,
   "metadata": {
    "collapsed": false
   },
   "outputs": [
    {
     "data": {
      "text/plain": [
       "array([[  1.,   4.,   9.],\n",
       "       [ 16.,  25.,  36.]])"
      ]
     },
     "execution_count": 37,
     "metadata": {},
     "output_type": "execute_result"
    }
   ],
   "source": [
    "arr * arr"
   ]
  },
  {
   "cell_type": "code",
   "execution_count": 39,
   "metadata": {
    "collapsed": false
   },
   "outputs": [
    {
     "data": {
      "text/plain": [
       "array([[ 1.    ,  1.4142,  1.7321],\n",
       "       [ 2.    ,  2.2361,  2.4495]])"
      ]
     },
     "execution_count": 39,
     "metadata": {},
     "output_type": "execute_result"
    }
   ],
   "source": [
    "arr ** 0.5"
   ]
  },
  {
   "cell_type": "code",
   "execution_count": 40,
   "metadata": {
    "collapsed": false
   },
   "outputs": [
    {
     "data": {
      "text/plain": [
       "array([[ 1.    ,  0.5   ,  0.3333],\n",
       "       [ 0.25  ,  0.2   ,  0.1667]])"
      ]
     },
     "execution_count": 40,
     "metadata": {},
     "output_type": "execute_result"
    }
   ],
   "source": [
    "1 / arr"
   ]
  },
  {
   "cell_type": "markdown",
   "metadata": {},
   "source": [
    "###  索引(indexing) 和 切片(slicing)\n",
    "\n",
    "索引即通过一个无符号整数值获取数组里的值。\n",
    "\n",
    "切片即选择数组里某个片段。"
   ]
  },
  {
   "cell_type": "code",
   "execution_count": 43,
   "metadata": {
    "collapsed": false
   },
   "outputs": [
    {
     "data": {
      "text/plain": [
       "array([ 0,  1,  2,  3,  4, 12, 12, 12,  8,  9])"
      ]
     },
     "execution_count": 43,
     "metadata": {},
     "output_type": "execute_result"
    }
   ],
   "source": [
    "arr = np.arange(10)\n",
    "arr\n",
    "arr[5]\n",
    "arr[5:8]\n",
    "\n",
    "arr[5:8] = 12  #  对切片的操作会改变原始数组\n",
    "arr"
   ]
  },
  {
   "cell_type": "code",
   "execution_count": 44,
   "metadata": {
    "collapsed": false
   },
   "outputs": [
    {
     "data": {
      "text/plain": [
       "array([ 0,  1,  2,  3,  4, 64, 64, 64,  8,  9])"
      ]
     },
     "execution_count": 44,
     "metadata": {},
     "output_type": "execute_result"
    }
   ],
   "source": [
    "#  即使创建了新的变量也是如此。不会复制数据，只会改变源数据\n",
    "arr_slice = arr[5:8]\n",
    "arr_slice[1] = 12345\n",
    "arr\n",
    "arr_slice[:] = 64\n",
    "arr"
   ]
  },
  {
   "cell_type": "code",
   "execution_count": 45,
   "metadata": {
    "collapsed": false
   },
   "outputs": [
    {
     "data": {
      "text/plain": [
       "array([7, 8, 9])"
      ]
     },
     "execution_count": 45,
     "metadata": {},
     "output_type": "execute_result"
    }
   ],
   "source": [
    "arr2d = np.array([[1, 2, 3], [4, 5, 6], [7, 8, 9]])\n",
    "arr2d[2]"
   ]
  },
  {
   "cell_type": "code",
   "execution_count": 48,
   "metadata": {
    "collapsed": false
   },
   "outputs": [
    {
     "data": {
      "text/plain": [
       "3"
      ]
     },
     "execution_count": 48,
     "metadata": {},
     "output_type": "execute_result"
    }
   ],
   "source": [
    "# 这两种方式等价\n",
    "arr2d[0][2]\n",
    "arr2d[0, 2]"
   ]
  },
  {
   "cell_type": "code",
   "execution_count": 49,
   "metadata": {
    "collapsed": false
   },
   "outputs": [
    {
     "data": {
      "text/plain": [
       "array([[[ 1,  2,  3],\n",
       "        [ 4,  5,  6]],\n",
       "\n",
       "       [[ 7,  8,  9],\n",
       "        [10, 11, 12]]])"
      ]
     },
     "execution_count": 49,
     "metadata": {},
     "output_type": "execute_result"
    }
   ],
   "source": [
    "arr3d = np.array([[[1, 2, 3], [4, 5, 6]], [[7, 8, 9], [10, 11, 12]]])\n",
    "arr3d"
   ]
  },
  {
   "cell_type": "code",
   "execution_count": 50,
   "metadata": {
    "collapsed": false
   },
   "outputs": [
    {
     "data": {
      "text/plain": [
       "array([[1, 2, 3],\n",
       "       [4, 5, 6]])"
      ]
     },
     "execution_count": 50,
     "metadata": {},
     "output_type": "execute_result"
    }
   ],
   "source": [
    "arr3d[0]"
   ]
  },
  {
   "cell_type": "code",
   "execution_count": 52,
   "metadata": {
    "collapsed": false
   },
   "outputs": [
    {
     "data": {
      "text/plain": [
       "array([[[ 1,  2,  3],\n",
       "        [ 4,  5,  6]],\n",
       "\n",
       "       [[ 7,  8,  9],\n",
       "        [10, 11, 12]]])"
      ]
     },
     "execution_count": 52,
     "metadata": {},
     "output_type": "execute_result"
    }
   ],
   "source": [
    "# 如果一定要复制数据，使用 `copy()`方法\n",
    "old_values = arr3d[0].copy()\n",
    "arr3d[0] = 42\n",
    "arr3d\n",
    "arr3d[0] = old_values\n",
    "arr3d"
   ]
  },
  {
   "cell_type": "code",
   "execution_count": 53,
   "metadata": {
    "collapsed": false
   },
   "outputs": [
    {
     "data": {
      "text/plain": [
       "array([7, 8, 9])"
      ]
     },
     "execution_count": 53,
     "metadata": {},
     "output_type": "execute_result"
    }
   ],
   "source": [
    "arr3d[1, 0]"
   ]
  },
  {
   "cell_type": "markdown",
   "metadata": {},
   "source": [
    "#### 切片索引(Indexing with slices)"
   ]
  },
  {
   "cell_type": "code",
   "execution_count": 54,
   "metadata": {
    "collapsed": false
   },
   "outputs": [
    {
     "data": {
      "text/plain": [
       "array([ 1,  2,  3,  4, 64])"
      ]
     },
     "execution_count": 54,
     "metadata": {},
     "output_type": "execute_result"
    }
   ],
   "source": [
    "arr[1:6]"
   ]
  },
  {
   "cell_type": "code",
   "execution_count": 55,
   "metadata": {
    "collapsed": false
   },
   "outputs": [
    {
     "data": {
      "text/plain": [
       "array([[1, 2, 3],\n",
       "       [4, 5, 6]])"
      ]
     },
     "execution_count": 55,
     "metadata": {},
     "output_type": "execute_result"
    }
   ],
   "source": [
    "arr2d\n",
    "arr2d[:2]"
   ]
  },
  {
   "cell_type": "code",
   "execution_count": 56,
   "metadata": {
    "collapsed": false
   },
   "outputs": [
    {
     "data": {
      "text/plain": [
       "array([[2, 3],\n",
       "       [5, 6]])"
      ]
     },
     "execution_count": 56,
     "metadata": {},
     "output_type": "execute_result"
    }
   ],
   "source": [
    "arr2d[:2, 1:]"
   ]
  },
  {
   "cell_type": "code",
   "execution_count": 57,
   "metadata": {
    "collapsed": false
   },
   "outputs": [
    {
     "data": {
      "text/plain": [
       "array([7])"
      ]
     },
     "execution_count": 57,
     "metadata": {},
     "output_type": "execute_result"
    }
   ],
   "source": [
    "arr2d[1, :2]\n",
    "arr2d[2, :1]"
   ]
  },
  {
   "cell_type": "code",
   "execution_count": 58,
   "metadata": {
    "collapsed": false
   },
   "outputs": [
    {
     "data": {
      "text/plain": [
       "array([[1],\n",
       "       [4],\n",
       "       [7]])"
      ]
     },
     "execution_count": 58,
     "metadata": {},
     "output_type": "execute_result"
    }
   ],
   "source": [
    "arr2d[:, :1]"
   ]
  },
  {
   "cell_type": "code",
   "execution_count": 59,
   "metadata": {
    "collapsed": false
   },
   "outputs": [],
   "source": [
    "arr2d[:2, 1:] = 0"
   ]
  },
  {
   "cell_type": "markdown",
   "metadata": {},
   "source": [
    "###  布尔索引"
   ]
  },
  {
   "cell_type": "code",
   "execution_count": 60,
   "metadata": {
    "collapsed": false
   },
   "outputs": [
    {
     "data": {
      "text/plain": [
       "array([[ 0.0811,  1.0996, -2.6783, -0.5158],\n",
       "       [-0.5067, -1.7738, -1.793 ,  1.0596],\n",
       "       [ 1.8766, -0.5277, -0.2344, -0.7429],\n",
       "       [ 0.9576, -2.5491,  1.4975,  0.8165],\n",
       "       [-0.1607,  1.1135,  0.8363,  1.006 ],\n",
       "       [ 0.6853, -0.8449, -0.7045,  1.5061],\n",
       "       [-0.9308,  0.1374,  0.3917, -0.0104]])"
      ]
     },
     "execution_count": 60,
     "metadata": {},
     "output_type": "execute_result"
    }
   ],
   "source": [
    "names = np.array(['Bob', 'Joe', 'Will', 'Bob', 'Will', 'Joe', 'Joe'])\n",
    "data = randn(7, 4)\n",
    "names\n",
    "data"
   ]
  },
  {
   "cell_type": "code",
   "execution_count": 61,
   "metadata": {
    "collapsed": false
   },
   "outputs": [
    {
     "data": {
      "text/plain": [
       "array([ True, False, False,  True, False, False, False], dtype=bool)"
      ]
     },
     "execution_count": 61,
     "metadata": {},
     "output_type": "execute_result"
    }
   ],
   "source": [
    "names == 'Bob'"
   ]
  },
  {
   "cell_type": "code",
   "execution_count": 62,
   "metadata": {
    "collapsed": false
   },
   "outputs": [
    {
     "data": {
      "text/plain": [
       "array([[ 0.0811,  1.0996, -2.6783, -0.5158],\n",
       "       [ 0.9576, -2.5491,  1.4975,  0.8165]])"
      ]
     },
     "execution_count": 62,
     "metadata": {},
     "output_type": "execute_result"
    }
   ],
   "source": [
    "data[names == 'Bob']"
   ]
  },
  {
   "cell_type": "code",
   "execution_count": 63,
   "metadata": {
    "collapsed": false
   },
   "outputs": [
    {
     "data": {
      "text/plain": [
       "array([-0.5158,  0.8165])"
      ]
     },
     "execution_count": 63,
     "metadata": {},
     "output_type": "execute_result"
    }
   ],
   "source": [
    "data[names == 'Bob', 2:]\n",
    "data[names == 'Bob', 3]"
   ]
  },
  {
   "cell_type": "code",
   "execution_count": 68,
   "metadata": {
    "collapsed": false
   },
   "outputs": [
    {
     "data": {
      "text/plain": [
       "array([[-0.5067, -1.7738, -1.793 ,  1.0596],\n",
       "       [ 1.8766, -0.5277, -0.2344, -0.7429],\n",
       "       [-0.1607,  1.1135,  0.8363,  1.006 ],\n",
       "       [ 0.6853, -0.8449, -0.7045,  1.5061],\n",
       "       [-0.9308,  0.1374,  0.3917, -0.0104]])"
      ]
     },
     "execution_count": 68,
     "metadata": {},
     "output_type": "execute_result"
    }
   ],
   "source": [
    "names != 'Bob'\n",
    "data[~(names == 'Bob')]"
   ]
  },
  {
   "cell_type": "code",
   "execution_count": null,
   "metadata": {
    "collapsed": false
   },
   "outputs": [],
   "source": [
    "mask = (names == 'Bob') | (names == 'Will')\n",
    "mask\n",
    "data[mask]"
   ]
  },
  {
   "cell_type": "code",
   "execution_count": 69,
   "metadata": {
    "collapsed": false
   },
   "outputs": [
    {
     "data": {
      "text/plain": [
       "array([[ 0.0811,  1.0996,  0.    ,  0.    ],\n",
       "       [ 0.    ,  0.    ,  0.    ,  1.0596],\n",
       "       [ 1.8766,  0.    ,  0.    ,  0.    ],\n",
       "       [ 0.9576,  0.    ,  1.4975,  0.8165],\n",
       "       [ 0.    ,  1.1135,  0.8363,  1.006 ],\n",
       "       [ 0.6853,  0.    ,  0.    ,  1.5061],\n",
       "       [ 0.    ,  0.1374,  0.3917,  0.    ]])"
      ]
     },
     "execution_count": 69,
     "metadata": {},
     "output_type": "execute_result"
    }
   ],
   "source": [
    "data[data < 0] = 0\n",
    "data"
   ]
  },
  {
   "cell_type": "code",
   "execution_count": 70,
   "metadata": {
    "collapsed": false
   },
   "outputs": [
    {
     "data": {
      "text/plain": [
       "array([[ 7.    ,  7.    ,  7.    ,  7.    ],\n",
       "       [ 0.    ,  0.    ,  0.    ,  1.0596],\n",
       "       [ 7.    ,  7.    ,  7.    ,  7.    ],\n",
       "       [ 7.    ,  7.    ,  7.    ,  7.    ],\n",
       "       [ 7.    ,  7.    ,  7.    ,  7.    ],\n",
       "       [ 0.6853,  0.    ,  0.    ,  1.5061],\n",
       "       [ 0.    ,  0.1374,  0.3917,  0.    ]])"
      ]
     },
     "execution_count": 70,
     "metadata": {},
     "output_type": "execute_result"
    }
   ],
   "source": [
    "data[names != 'Joe'] = 7\n",
    "data"
   ]
  },
  {
   "cell_type": "markdown",
   "metadata": {},
   "source": [
    "###  花式索引(Fancy indexing)\n",
    "\n",
    "花式索引是指利用整数数组进行索引。\n",
    "\n",
    "与切片索引不同，* 花式索引总是将数据复制到新数组中 * 。"
   ]
  },
  {
   "cell_type": "code",
   "execution_count": 71,
   "metadata": {
    "collapsed": false
   },
   "outputs": [
    {
     "data": {
      "text/plain": [
       "array([[ 0.,  0.,  0.,  0.],\n",
       "       [ 1.,  1.,  1.,  1.],\n",
       "       [ 2.,  2.,  2.,  2.],\n",
       "       [ 3.,  3.,  3.,  3.],\n",
       "       [ 4.,  4.,  4.,  4.],\n",
       "       [ 5.,  5.,  5.,  5.],\n",
       "       [ 6.,  6.,  6.,  6.],\n",
       "       [ 7.,  7.,  7.,  7.]])"
      ]
     },
     "execution_count": 71,
     "metadata": {},
     "output_type": "execute_result"
    }
   ],
   "source": [
    "arr = np.empty((8, 4))\n",
    "for i in range(8):\n",
    "    arr[i] = i\n",
    "arr"
   ]
  },
  {
   "cell_type": "code",
   "execution_count": 72,
   "metadata": {
    "collapsed": false
   },
   "outputs": [
    {
     "data": {
      "text/plain": [
       "array([[ 4.,  4.,  4.,  4.],\n",
       "       [ 3.,  3.,  3.,  3.],\n",
       "       [ 0.,  0.,  0.,  0.],\n",
       "       [ 6.,  6.,  6.,  6.]])"
      ]
     },
     "execution_count": 72,
     "metadata": {},
     "output_type": "execute_result"
    }
   ],
   "source": [
    "arr[[4, 3, 0, 6]]"
   ]
  },
  {
   "cell_type": "code",
   "execution_count": 73,
   "metadata": {
    "collapsed": false
   },
   "outputs": [
    {
     "data": {
      "text/plain": [
       "array([[ 5.,  5.,  5.,  5.],\n",
       "       [ 3.,  3.,  3.,  3.],\n",
       "       [ 1.,  1.,  1.,  1.]])"
      ]
     },
     "execution_count": 73,
     "metadata": {},
     "output_type": "execute_result"
    }
   ],
   "source": [
    "arr[[-3, -5, -7]]"
   ]
  },
  {
   "cell_type": "code",
   "execution_count": 74,
   "metadata": {
    "collapsed": false
   },
   "outputs": [
    {
     "data": {
      "text/plain": [
       "array([ 4, 23, 29, 10])"
      ]
     },
     "execution_count": 74,
     "metadata": {},
     "output_type": "execute_result"
    }
   ],
   "source": [
    "# more on reshape in Chapter 12\n",
    "arr = np.arange(32).reshape((8, 4))\n",
    "arr\n",
    "arr[[1, 5, 7, 2], [0, 3, 1, 2]]"
   ]
  },
  {
   "cell_type": "code",
   "execution_count": 75,
   "metadata": {
    "collapsed": false
   },
   "outputs": [
    {
     "data": {
      "text/plain": [
       "array([[ 4,  7,  5,  6],\n",
       "       [20, 23, 21, 22],\n",
       "       [28, 31, 29, 30],\n",
       "       [ 8, 11,  9, 10]])"
      ]
     },
     "execution_count": 75,
     "metadata": {},
     "output_type": "execute_result"
    }
   ],
   "source": [
    "arr[[1, 5, 7, 2]][:, [0, 3, 1, 2]]"
   ]
  },
  {
   "cell_type": "code",
   "execution_count": 76,
   "metadata": {
    "collapsed": false
   },
   "outputs": [
    {
     "data": {
      "text/plain": [
       "array([[ 4,  7,  5,  6],\n",
       "       [20, 23, 21, 22],\n",
       "       [28, 31, 29, 30],\n",
       "       [ 8, 11,  9, 10]])"
      ]
     },
     "execution_count": 76,
     "metadata": {},
     "output_type": "execute_result"
    }
   ],
   "source": [
    "arr[np.ix_([1, 5, 7, 2], [0, 3, 1, 2])]"
   ]
  },
  {
   "cell_type": "markdown",
   "metadata": {},
   "source": [
    "### 数组转置和轴对换\n",
    "\n",
    "转置(transpose)，是一种对源数据的视图，不会进行复制。"
   ]
  },
  {
   "cell_type": "code",
   "execution_count": 88,
   "metadata": {
    "collapsed": false
   },
   "outputs": [
    {
     "name": "stdout",
     "output_type": "stream",
     "text": [
      "[[ 0  1  2  3  4]\n",
      " [ 5  6  7  8  9]\n",
      " [10 11 12 13 14]]\n",
      "-------\n",
      "[[ 0  5 10]\n",
      " [ 1  6 11]\n",
      " [ 2  7 12]\n",
      " [ 3  8 13]\n",
      " [ 4  9 14]]\n"
     ]
    }
   ],
   "source": [
    "arr = np.arange(15).reshape((3, 5))\n",
    "print(arr)\n",
    "print('-------')\n",
    "print(arr.T)"
   ]
  },
  {
   "cell_type": "markdown",
   "metadata": {},
   "source": [
    "`np.dot()`: 矩阵乘积"
   ]
  },
  {
   "cell_type": "code",
   "execution_count": 93,
   "metadata": {
    "collapsed": false
   },
   "outputs": [
    {
     "name": "stdout",
     "output_type": "stream",
     "text": [
      "[[0 1 2]\n",
      " [3 4 5]]\n",
      "-------\n",
      "[[0 3]\n",
      " [1 4]\n",
      " [2 5]]\n",
      "-------\n",
      "[[ 9 12 15]\n",
      " [12 17 22]\n",
      " [15 22 29]]\n"
     ]
    }
   ],
   "source": [
    "arr = np.arange(6).reshape((2,3))\n",
    "print(arr)\n",
    "print('-------')\n",
    "print(arr.T)\n",
    "print('-------')\n",
    "print(np.dot(arr.T, arr))"
   ]
  },
  {
   "cell_type": "code",
   "execution_count": 94,
   "metadata": {
    "collapsed": false
   },
   "outputs": [
    {
     "name": "stdout",
     "output_type": "stream",
     "text": [
      "[[[ 0  1  2  3]\n",
      "  [ 4  5  6  7]]\n",
      "\n",
      " [[ 8  9 10 11]\n",
      "  [12 13 14 15]]]\n",
      "--------\n",
      "[[[ 0  1  2  3]\n",
      "  [ 8  9 10 11]]\n",
      "\n",
      " [[ 4  5  6  7]\n",
      "  [12 13 14 15]]]\n"
     ]
    }
   ],
   "source": [
    "# 多维的情况比较复杂\n",
    "arr = np.arange(16).reshape((2, 2, 4))\n",
    "print(arr)\n",
    "print('--------')\n",
    "print(arr.transpose((1, 0, 2)))"
   ]
  },
  {
   "cell_type": "markdown",
   "metadata": {},
   "source": [
    "交换坐标轴"
   ]
  },
  {
   "cell_type": "code",
   "execution_count": 95,
   "metadata": {
    "collapsed": false
   },
   "outputs": [
    {
     "name": "stdout",
     "output_type": "stream",
     "text": [
      "[[[ 0  1  2  3]\n",
      "  [ 4  5  6  7]]\n",
      "\n",
      " [[ 8  9 10 11]\n",
      "  [12 13 14 15]]]\n",
      "--------\n",
      "[[[ 0  4]\n",
      "  [ 1  5]\n",
      "  [ 2  6]\n",
      "  [ 3  7]]\n",
      "\n",
      " [[ 8 12]\n",
      "  [ 9 13]\n",
      "  [10 14]\n",
      "  [11 15]]]\n"
     ]
    }
   ],
   "source": [
    "print(arr)\n",
    "print('--------')\n",
    "print(arr.swapaxes(1, 2))"
   ]
  },
  {
   "cell_type": "markdown",
   "metadata": {},
   "source": [
    "## 通用函数：快速的元素级数组函数\n",
    "\n",
    "NumPy 中的通用函数(ufunc), 可以对ndarray中的数据逐个执行运算。\n",
    "\n",
    "常见的 ufunc 包括：\n",
    " \n",
    "#### 一元 ufunc\n",
    "\n",
    "- abs、fabs： 计算绝对值。对于非复数，fabs 更快\n",
    "- sqrt: 平方根\n",
    "- square: 平方\n",
    "- exp: e^x\n",
    "- log, log10, log2:  底数为 e,10,2的对数\n",
    "- log1p: log(1+x)\n",
    "- sign: 符号。（返回1，0，-1)\n",
    "- cell: ceiling 值，即>=x 的最小整数\n",
    "- floor: floor 值，即<=x 的最大整数\n",
    "- rint: 四舍五入的整数，保留 type\n",
    "- modf: 将小数和整数部分返回两个独立数组\n",
    "- isnan: 返回是否为 非数字(NaN)的布尔数组\n",
    "- isfinite, isinf: 返回是否为有穷(非 inf,非 NaN) / 无穷 的布尔数组\n",
    "- cos, cosh, sin, sinh, tan, tanh: 三角函数\n",
    "- arcos, arccosh, arcsin, arcsinh, arctan, arctanh: 反三角函数\n",
    "- logical_not: 计算 非， 相当于 `~attr`\n",
    "\n",
    "\n",
    "####  二元 ufunc\n",
    "\n",
    "//TODO:"
   ]
  },
  {
   "cell_type": "code",
   "execution_count": 81,
   "metadata": {
    "collapsed": false
   },
   "outputs": [
    {
     "data": {
      "text/plain": [
       "array([    1.    ,     2.7183,     7.3891,    20.0855,    54.5982,\n",
       "         148.4132,   403.4288,  1096.6332,  2980.958 ,  8103.0839])"
      ]
     },
     "execution_count": 81,
     "metadata": {},
     "output_type": "execute_result"
    }
   ],
   "source": [
    "arr = np.arange(10)\n",
    "np.sqrt(arr)\n",
    "np.exp(arr)"
   ]
  },
  {
   "cell_type": "code",
   "execution_count": 83,
   "metadata": {
    "collapsed": false
   },
   "outputs": [
    {
     "data": {
      "text/plain": [
       "array([ 0.28  ,  0.5968,  0.411 ,  1.2473,  0.6441,  3.7458, -0.3028,\n",
       "        0.0777])"
      ]
     },
     "execution_count": 83,
     "metadata": {},
     "output_type": "execute_result"
    }
   ],
   "source": [
    "x = randn(8)\n",
    "y = randn(8)\n",
    "x\n",
    "y\n",
    "\n",
    "#  以两个数组为参数，并返回数组\n",
    "np.maximum(x, y) # element-wise maximum"
   ]
  },
  {
   "cell_type": "code",
   "execution_count": 85,
   "metadata": {
    "collapsed": false
   },
   "outputs": [
    {
     "data": {
      "text/plain": [
       "(array([-0.5937,  0.9759,  0.1092,  0.307 ,  0.2041,  0.053 ,  0.0242]),\n",
       " array([-4.,  3.,  0.,  7.,  7.,  2.,  0.]))"
      ]
     },
     "execution_count": 85,
     "metadata": {},
     "output_type": "execute_result"
    }
   ],
   "source": [
    "arr = randn(7) * 5\n",
    "\n",
    "# 返回两个数组\n",
    "np.modf(arr)"
   ]
  },
  {
   "cell_type": "markdown",
   "metadata": {},
   "source": [
    "## 利用数组进行数据处理\n",
    "\n",
    "矢量化数组运算比纯pyhton方式快1-2个数量级（or more）, 因为broadcasting作用很强大。"
   ]
  },
  {
   "cell_type": "code",
   "execution_count": 96,
   "metadata": {
    "collapsed": false
   },
   "outputs": [
    {
     "data": {
      "text/plain": [
       "array([[-5.  , -5.  , -5.  , ..., -5.  , -5.  , -5.  ],\n",
       "       [-4.99, -4.99, -4.99, ..., -4.99, -4.99, -4.99],\n",
       "       [-4.98, -4.98, -4.98, ..., -4.98, -4.98, -4.98],\n",
       "       ..., \n",
       "       [ 4.97,  4.97,  4.97, ...,  4.97,  4.97,  4.97],\n",
       "       [ 4.98,  4.98,  4.98, ...,  4.98,  4.98,  4.98],\n",
       "       [ 4.99,  4.99,  4.99, ...,  4.99,  4.99,  4.99]])"
      ]
     },
     "execution_count": 96,
     "metadata": {},
     "output_type": "execute_result"
    }
   ],
   "source": [
    "points = np.arange(-5, 5, 0.01) # 1000 equally spaced points\n",
    "xs, ys = np.meshgrid(points, points)\n",
    "ys"
   ]
  },
  {
   "cell_type": "code",
   "execution_count": 98,
   "metadata": {
    "collapsed": false
   },
   "outputs": [
    {
     "data": {
      "text/plain": [
       "<matplotlib.text.Text at 0x1164f1c50>"
      ]
     },
     "execution_count": 98,
     "metadata": {},
     "output_type": "execute_result"
    },
    {
     "data": {
      "image/png": "[encoded data removed]",
      "text/plain": [
       "<matplotlib.figure.Figure at 0x1118e74e0>"
      ]
     },
     "metadata": {},
     "output_type": "display_data"
    }
   ],
   "source": [
    "from matplotlib.pyplot import imshow, title\n",
    "import matplotlib.pyplot as plt\n",
    "z = np.sqrt(xs ** 2 + ys ** 2)\n",
    "z\n",
    "plt.imshow(z, cmap=plt.cm.gray); plt.colorbar()\n",
    "plt.title(\"Image plot of $\\sqrt{x^2 + y^2}$ for a grid of values\")"
   ]
  },
  {
   "cell_type": "markdown",
   "metadata": {},
   "source": [
    "### 将条件逻辑表述为数组运算\n",
    "\n",
    "`np.where()`: x if condition else y 的矢量版"
   ]
  },
  {
   "cell_type": "code",
   "execution_count": 100,
   "metadata": {
    "collapsed": false
   },
   "outputs": [],
   "source": [
    "xarr = np.array([1.1, 1.2, 1.3, 1.4, 1.5])\n",
    "yarr = np.array([2.1, 2.2, 2.3, 2.4, 2.5])\n",
    "cond = np.array([True, False, True, True, False])"
   ]
  },
  {
   "cell_type": "code",
   "execution_count": 101,
   "metadata": {
    "collapsed": false
   },
   "outputs": [
    {
     "data": {
      "text/plain": [
       "[1.1000000000000001, 2.2000000000000002, 1.3, 1.3999999999999999, 2.5]"
      ]
     },
     "execution_count": 101,
     "metadata": {},
     "output_type": "execute_result"
    }
   ],
   "source": [
    "result = [(x if c else y)\n",
    "          for x, y, c in zip(xarr, yarr, cond)]\n",
    "result"
   ]
  },
  {
   "cell_type": "code",
   "execution_count": 102,
   "metadata": {
    "collapsed": false
   },
   "outputs": [
    {
     "data": {
      "text/plain": [
       "array([ 1.1,  2.2,  1.3,  1.4,  2.5])"
      ]
     },
     "execution_count": 102,
     "metadata": {},
     "output_type": "execute_result"
    }
   ],
   "source": [
    "result = np.where(cond, xarr, yarr)\n",
    "result"
   ]
  },
  {
   "cell_type": "code",
   "execution_count": 103,
   "metadata": {
    "collapsed": false
   },
   "outputs": [
    {
     "data": {
      "text/plain": [
       "array([[-0.0841, -0.5415, -0.3519, -0.0315],\n",
       "       [-0.4407,  2.    , -1.1352,  2.    ],\n",
       "       [-0.0242,  2.    , -0.8126,  2.    ],\n",
       "       [-1.7144, -2.0976, -0.3619, -0.5783]])"
      ]
     },
     "execution_count": 103,
     "metadata": {},
     "output_type": "execute_result"
    }
   ],
   "source": [
    "arr = randn(4, 4)\n",
    "arr\n",
    "np.where(arr > 0, 2, -2)\n",
    "np.where(arr > 0, 2, arr) # set only positive values to 2"
   ]
  },
  {
   "cell_type": "code",
   "execution_count": 105,
   "metadata": {
    "collapsed": false
   },
   "outputs": [],
   "source": [
    "# 更复杂的用法\n",
    "# result = 1 * cond1 + 2 * cond2 + 3 * -(cond1 | cond2)\n",
    "\n",
    "# np.where(cond1 & cond2, 0,\n",
    "#    np.where(cond1, 1, \n",
    "#    np.where(cond2, 2, 3)))"
   ]
  },
  {
   "cell_type": "markdown",
   "metadata": {},
   "source": [
    "### 数学和统计方法\n",
    "\n",
    "##### 常用的统计计算\n",
    "\n",
    "- sum: 求和\n",
    "- mean: 算术平均数\n",
    "- min, max: 最小值、最大值\n",
    "- argmin, argmax: 最小元素、最大元素的索引\n",
    "- std,var: 标准差和方差\n",
    "- cumsum:  所有元素的累计和\n",
    "- cumprod:  所有元素的累计积\n",
    "\n",
    "用于布尔数组时，\n",
    " \n",
    "- sum: 用于 True 的加和\n",
    "- any: 是否存在 True\n",
    "- all: 是否全为 True\n",
    "\n",
    "排序和唯一化\n",
    "\n",
    "\n",
    "##### 常用集合运算\n",
    "\n",
    "- sort: 排序\n",
    "- unique: 唯一化，返回有序结果\n",
    "- intersect1d(x,y): 计算公共元素，返回有序结果\n",
    "- union1d(x,y): 计算并集，返回有序结果\n",
    "- in1d(x,y):  返回关于“x数组中的元素是否在y中” 的布尔数组\n",
    "- setdiff1d(x,y): 集合的差，返回元素在 x 中且不在 y 中的数组\n",
    "- setxor1d(x,y):  集合异或，返回元素在一个集合中但不同时在两个集合中的数组\n",
    "\n",
    "这些运算可以使用参数axis表示对哪个维度计算"
   ]
  },
  {
   "cell_type": "code",
   "execution_count": 3,
   "metadata": {
    "collapsed": false
   },
   "outputs": [
    {
     "name": "stdout",
     "output_type": "stream",
     "text": [
      "-0.396496459415\n",
      "-7.9299291883\n"
     ]
    }
   ],
   "source": [
    "arr = np.random.randn(5, 4) # 正态分布数据\n",
    "print(arr.mean())#等价于 np.mean(arr)\n",
    "print(arr.sum())"
   ]
  },
  {
   "cell_type": "code",
   "execution_count": 5,
   "metadata": {
    "collapsed": false
   },
   "outputs": [
    {
     "name": "stdout",
     "output_type": "stream",
     "text": [
      "[-0.64956646 -0.11051716 -0.15849652 -0.62669822 -0.43720393]\n",
      "[-4.4768861  -1.13397655  1.23167117 -3.55073771]\n"
     ]
    }
   ],
   "source": [
    "print(arr.mean(axis=1)) #\n",
    "print(arr.sum(0))"
   ]
  },
  {
   "cell_type": "code",
   "execution_count": 10,
   "metadata": {
    "collapsed": false
   },
   "outputs": [
    {
     "name": "stdout",
     "output_type": "stream",
     "text": [
      "[[ 0  1  2]\n",
      " [ 3  5  7]\n",
      " [ 9 12 15]]\n",
      "-------\n",
      "[[  0   0   0]\n",
      " [  3  12  60]\n",
      " [  6  42 336]]\n"
     ]
    }
   ],
   "source": [
    "arr = np.array([[0, 1, 2], [3, 4, 5], [6, 7, 8]])\n",
    "print(arr.cumsum(0))\n",
    "print('-------')\n",
    "print(arr.cumprod(1))"
   ]
  },
  {
   "cell_type": "markdown",
   "metadata": {},
   "source": [
    "### Methods for boolean arrays"
   ]
  },
  {
   "cell_type": "code",
   "execution_count": 11,
   "metadata": {
    "collapsed": false
   },
   "outputs": [
    {
     "data": {
      "text/plain": [
       "48"
      ]
     },
     "execution_count": 11,
     "metadata": {},
     "output_type": "execute_result"
    }
   ],
   "source": [
    "arr = randn(100)\n",
    "(arr > 0).sum() # Number of positive values"
   ]
  },
  {
   "cell_type": "code",
   "execution_count": 12,
   "metadata": {
    "collapsed": false
   },
   "outputs": [
    {
     "data": {
      "text/plain": [
       "False"
      ]
     },
     "execution_count": 12,
     "metadata": {},
     "output_type": "execute_result"
    }
   ],
   "source": [
    "bools = np.array([False, False, True, False])\n",
    "bools.any()\n",
    "bools.all()"
   ]
  },
  {
   "cell_type": "markdown",
   "metadata": {},
   "source": [
    "### Sorting"
   ]
  },
  {
   "cell_type": "code",
   "execution_count": 13,
   "metadata": {
    "collapsed": false
   },
   "outputs": [
    {
     "data": {
      "text/plain": [
       "array([-1.44379493, -1.00480601, -0.85448292, -0.81900953, -0.34626339,\n",
       "        0.51552924,  0.91006618,  1.64684261])"
      ]
     },
     "execution_count": 13,
     "metadata": {},
     "output_type": "execute_result"
    }
   ],
   "source": [
    "arr = randn(8)\n",
    "arr\n",
    "arr.sort()\n",
    "arr"
   ]
  },
  {
   "cell_type": "code",
   "execution_count": 14,
   "metadata": {
    "collapsed": false
   },
   "outputs": [
    {
     "data": {
      "text/plain": [
       "array([[ 0.07787912,  0.2126551 ,  1.11128042],\n",
       "       [-0.66499524,  0.14805099,  0.80263139],\n",
       "       [-1.16102765, -0.68351397, -0.00972547],\n",
       "       [-2.93358171, -1.31426926, -0.17672943],\n",
       "       [-1.37254879, -1.30564166,  0.64966682]])"
      ]
     },
     "execution_count": 14,
     "metadata": {},
     "output_type": "execute_result"
    }
   ],
   "source": [
    "arr = randn(5, 3)\n",
    "arr\n",
    "arr.sort(1)\n",
    "arr"
   ]
  },
  {
   "cell_type": "code",
   "execution_count": 15,
   "metadata": {
    "collapsed": false
   },
   "outputs": [
    {
     "data": {
      "text/plain": [
       "-1.7359669942395233"
      ]
     },
     "execution_count": 15,
     "metadata": {},
     "output_type": "execute_result"
    }
   ],
   "source": [
    "large_arr = randn(1000)\n",
    "large_arr.sort()\n",
    "large_arr[int(0.05 * len(large_arr))] # 5% quantile"
   ]
  },
  {
   "cell_type": "markdown",
   "metadata": {},
   "source": [
    "### Unique and other set logic"
   ]
  },
  {
   "cell_type": "code",
   "execution_count": 17,
   "metadata": {
    "collapsed": false
   },
   "outputs": [
    {
     "name": "stdout",
     "output_type": "stream",
     "text": [
      "['Bob' 'Joe' 'Will']\n",
      "[1 2 3 4]\n"
     ]
    }
   ],
   "source": [
    "names = np.array(['Bob', 'Joe', 'Will', 'Bob', 'Will', 'Joe', 'Joe'])\n",
    "print(np.unique(names))\n",
    "ints = np.array([3, 3, 3, 2, 2, 1, 1, 4, 4])\n",
    "print(np.unique(ints))"
   ]
  },
  {
   "cell_type": "code",
   "execution_count": 18,
   "metadata": {
    "collapsed": false
   },
   "outputs": [
    {
     "data": {
      "text/plain": [
       "['Bob', 'Joe', 'Will']"
      ]
     },
     "execution_count": 18,
     "metadata": {},
     "output_type": "execute_result"
    }
   ],
   "source": [
    "sorted(set(names))"
   ]
  },
  {
   "cell_type": "code",
   "execution_count": 19,
   "metadata": {
    "collapsed": false
   },
   "outputs": [
    {
     "data": {
      "text/plain": [
       "array([ True, False, False,  True,  True, False,  True], dtype=bool)"
      ]
     },
     "execution_count": 19,
     "metadata": {},
     "output_type": "execute_result"
    }
   ],
   "source": [
    "values = np.array([6, 0, 0, 3, 2, 5, 6])\n",
    "np.in1d(values, [2, 3, 6])"
   ]
  },
  {
   "cell_type": "markdown",
   "metadata": {},
   "source": [
    "##  保存和读取数组文件（二进制）"
   ]
  },
  {
   "cell_type": "code",
   "execution_count": 20,
   "metadata": {
    "collapsed": false
   },
   "outputs": [],
   "source": [
    "arr = np.arange(10)\n",
    "np.save('some_array', arr)"
   ]
  },
  {
   "cell_type": "code",
   "execution_count": 21,
   "metadata": {
    "collapsed": false
   },
   "outputs": [
    {
     "data": {
      "text/plain": [
       "array([0, 1, 2, 3, 4, 5, 6, 7, 8, 9])"
      ]
     },
     "execution_count": 21,
     "metadata": {},
     "output_type": "execute_result"
    }
   ],
   "source": [
    "np.load('some_array.npy')"
   ]
  },
  {
   "cell_type": "code",
   "execution_count": 25,
   "metadata": {
    "collapsed": false
   },
   "outputs": [],
   "source": [
    "np.savez('array_archive.npz', a=arr, b=arr)  #  压缩保存"
   ]
  },
  {
   "cell_type": "code",
   "execution_count": 26,
   "metadata": {
    "collapsed": false
   },
   "outputs": [
    {
     "data": {
      "text/plain": [
       "array([0, 1, 2, 3, 4, 5, 6, 7, 8, 9])"
      ]
     },
     "execution_count": 26,
     "metadata": {},
     "output_type": "execute_result"
    }
   ],
   "source": [
    "arch = np.load('array_archive.npz')  # 解压读取\n",
    "arch['b']"
   ]
  },
  {
   "cell_type": "code",
   "execution_count": 24,
   "metadata": {
    "collapsed": false
   },
   "outputs": [],
   "source": [
    "!rm some_array.npy\n",
    "!rm array_archive.npz"
   ]
  },
  {
   "cell_type": "markdown",
   "metadata": {},
   "source": [
    "### 保存和读取文本文件"
   ]
  },
  {
   "cell_type": "code",
   "execution_count": 27,
   "metadata": {
    "collapsed": false
   },
   "outputs": [
    {
     "name": "stdout",
     "output_type": "stream",
     "text": [
      "cat: array_ex.txt: No such file or directory\r\n"
     ]
    }
   ],
   "source": [
    "!cat array_ex.txt"
   ]
  },
  {
   "cell_type": "code",
   "execution_count": null,
   "metadata": {
    "collapsed": false
   },
   "outputs": [],
   "source": [
    "arr = np.loadtxt('array_ex.txt', delimiter=',')\n",
    "arr"
   ]
  },
  {
   "cell_type": "markdown",
   "metadata": {},
   "source": [
    "## 线性代数 (Linear algebra)\n",
    "\n",
    "NumPy 的linalg中有很多关于矩阵的函数，与MATLAB、R使用的是相同的行业标准级Fortran库。\n",
    "\n",
    "常用的函数包括：\n",
    "\n",
    "- diag 返回方阵的对角线/非对角线元素数组，或者将一位数组转换为方阵\n",
    "- dot  矩阵相乘\n",
    "- trace 计算对角线元素之和\n",
    "- det 计算矩阵行列式\n",
    "- eig 计算方阵的本征值和本征向量\n",
    "- inv 计算方阵的逆\n",
    "- pinv 计算矩阵的 Moore-Penrose 伪逆\n",
    "- qr 计算 QR 分解\n",
    "- svd 计算奇异值分解(SVD)\n",
    "- solve  解线性方程组 Ax=b, 其中 A 为一个方阵\n",
    "- lstsq 计算 Ax=b 的最小二乘解"
   ]
  },
  {
   "cell_type": "code",
   "execution_count": 28,
   "metadata": {
    "collapsed": false
   },
   "outputs": [
    {
     "data": {
      "text/plain": [
       "array([[  28.,   64.],\n",
       "       [  67.,  181.]])"
      ]
     },
     "execution_count": 28,
     "metadata": {},
     "output_type": "execute_result"
    }
   ],
   "source": [
    "x = np.array([[1., 2., 3.], [4., 5., 6.]])\n",
    "y = np.array([[6., 23.], [-1, 7], [8, 9]])\n",
    "x\n",
    "y\n",
    "x.dot(y)  # equivalently np.dot(x, y)"
   ]
  },
  {
   "cell_type": "code",
   "execution_count": 29,
   "metadata": {
    "collapsed": false
   },
   "outputs": [
    {
     "data": {
      "text/plain": [
       "array([  6.,  15.])"
      ]
     },
     "execution_count": 29,
     "metadata": {},
     "output_type": "execute_result"
    }
   ],
   "source": [
    "np.dot(x, np.ones(3))"
   ]
  },
  {
   "cell_type": "code",
   "execution_count": 30,
   "metadata": {
    "collapsed": false
   },
   "outputs": [],
   "source": [
    "np.random.seed(12345)"
   ]
  },
  {
   "cell_type": "code",
   "execution_count": 31,
   "metadata": {
    "collapsed": false
   },
   "outputs": [
    {
     "data": {
      "text/plain": [
       "array([[ -6.92714002,   7.38899524,   6.12272905,  -7.11625341,\n",
       "         -4.92150833],\n",
       "       [  0.        ,  -3.97347612,  -0.86707993,   2.97472904,\n",
       "         -5.74024113],\n",
       "       [  0.        ,   0.        , -10.26810228,   1.89090298,\n",
       "          1.60790112],\n",
       "       [  0.        ,   0.        ,   0.        ,  -1.29964934,\n",
       "          3.35772244],\n",
       "       [  0.        ,   0.        ,   0.        ,   0.        ,\n",
       "          0.55705805]])"
      ]
     },
     "execution_count": 31,
     "metadata": {},
     "output_type": "execute_result"
    }
   ],
   "source": [
    "from numpy.linalg import inv, qr\n",
    "X = randn(5, 5)\n",
    "mat = X.T.dot(X)\n",
    "inv(mat)\n",
    "mat.dot(inv(mat))\n",
    "q, r = qr(mat)\n",
    "r"
   ]
  },
  {
   "cell_type": "markdown",
   "metadata": {},
   "source": [
    "## 生成随机数\n",
    "\n",
    "NumPy.random模块对Python内置的random进行了补充，增加了一些用于高效生成多种概率分布的样本值的函数。\n",
    "\n",
    "常用的函数包括：\n",
    "\n",
    "- seed\n",
    "- permutation\n",
    "- shuffle\n",
    "- rand\n",
    "- randint\n",
    "- randn\n",
    "- binomial\n",
    "- normal\n",
    "- beta\n",
    "- chisquare\n",
    "- gamma\n",
    "- uniform"
   ]
  },
  {
   "cell_type": "code",
   "execution_count": 32,
   "metadata": {
    "collapsed": false
   },
   "outputs": [
    {
     "data": {
      "text/plain": [
       "array([[  1.24121276e-01,   3.02613562e-01,   5.23772068e-01,\n",
       "          9.40277775e-04],\n",
       "       [  1.34380979e+00,  -7.13543985e-01,  -8.31153539e-01,\n",
       "         -2.37023165e+00],\n",
       "       [ -1.86076079e+00,  -8.60757398e-01,   5.60145293e-01,\n",
       "         -1.26593449e+00],\n",
       "       [  1.19827125e-01,  -1.06351245e+00,   3.32882716e-01,\n",
       "         -2.35941881e+00]])"
      ]
     },
     "execution_count": 32,
     "metadata": {},
     "output_type": "execute_result"
    }
   ],
   "source": [
    "samples = np.random.normal(size=(4, 4))\n",
    "samples"
   ]
  },
  {
   "cell_type": "code",
   "execution_count": 37,
   "metadata": {
    "collapsed": false
   },
   "outputs": [
    {
     "ename": "ModuleNotFoundError",
     "evalue": "No module named 'np'",
     "output_type": "error",
     "traceback": [
      "\u001b[0;31m---------------------------------------------------------------------------\u001b[0m",
      "\u001b[0;31mModuleNotFoundError\u001b[0m                       Traceback (most recent call last)",
      "\u001b[0;32m<ipython-input-37-0b64fa2cfe35>\u001b[0m in \u001b[0;36m<module>\u001b[0;34m()\u001b[0m\n\u001b[0;32m----> 1\u001b[0;31m \u001b[0;32mfrom\u001b[0m \u001b[0mnp\u001b[0m\u001b[0;34m.\u001b[0m\u001b[0mrandom\u001b[0m \u001b[0;32mimport\u001b[0m \u001b[0mnormalvariate\u001b[0m\u001b[0;34m\u001b[0m\u001b[0m\n\u001b[0m\u001b[1;32m      2\u001b[0m \u001b[0mN\u001b[0m \u001b[0;34m=\u001b[0m \u001b[0;36m1000000\u001b[0m\u001b[0;34m\u001b[0m\u001b[0m\n\u001b[1;32m      3\u001b[0m \u001b[0mget_ipython\u001b[0m\u001b[0;34m(\u001b[0m\u001b[0;34m)\u001b[0m\u001b[0;34m.\u001b[0m\u001b[0mmagic\u001b[0m\u001b[0;34m(\u001b[0m\u001b[0;34m'timeit samples = [normalvariate(0, 1) for _ in xrange(N)]'\u001b[0m\u001b[0;34m)\u001b[0m\u001b[0;34m\u001b[0m\u001b[0m\n\u001b[1;32m      4\u001b[0m \u001b[0mget_ipython\u001b[0m\u001b[0;34m(\u001b[0m\u001b[0;34m)\u001b[0m\u001b[0;34m.\u001b[0m\u001b[0mmagic\u001b[0m\u001b[0;34m(\u001b[0m\u001b[0;34m'timeit np.random.normal(size=N)'\u001b[0m\u001b[0;34m)\u001b[0m\u001b[0;34m\u001b[0m\u001b[0m\n",
      "\u001b[0;31mModuleNotFoundError\u001b[0m: No module named 'np'"
     ]
    }
   ],
   "source": [
    "from np.random import normalvariate\n",
    "N = 1000000\n",
    "%timeit samples = [normalvariate(0, 1) for _ in xrange(N)]\n",
    "%timeit np.random.normal(size=N)"
   ]
  },
  {
   "cell_type": "markdown",
   "metadata": {},
   "source": [
    "##  示例：随机漫步"
   ]
  },
  {
   "cell_type": "code",
   "execution_count": 9,
   "metadata": {
    "collapsed": false
   },
   "outputs": [
    {
     "data": {
      "text/plain": [
       "[<matplotlib.lines.Line2D at 0x11cb9b898>]"
      ]
     },
     "execution_count": 9,
     "metadata": {},
     "output_type": "execute_result"
    },
    {
     "data": {
      "image/png": "[encoded data removed]",
      "text/plain": [
       "<matplotlib.figure.Figure at 0x11c8c26a0>"
      ]
     },
     "metadata": {},
     "output_type": "display_data"
    }
   ],
   "source": [
    "nsteps = 1000\n",
    "draws = np.random.randint(0, 2, size=nsteps)\n",
    "steps = np.where(draws > 0, 1, -1)\n",
    "walk = steps.cumsum()\n",
    "plt.plot(walk)"
   ]
  },
  {
   "cell_type": "code",
   "execution_count": 10,
   "metadata": {
    "collapsed": false
   },
   "outputs": [
    {
     "name": "stdout",
     "output_type": "stream",
     "text": [
      "-5\n",
      "26\n",
      "103\n"
     ]
    }
   ],
   "source": [
    "print(walk.min())\n",
    "print(walk.max())\n",
    "print((np.abs(walk) >= 10).argmax())"
   ]
  },
  {
   "cell_type": "markdown",
   "metadata": {},
   "source": [
    "###  一次模拟多个随机漫步"
   ]
  },
  {
   "cell_type": "code",
   "execution_count": 3,
   "metadata": {
    "collapsed": false
   },
   "outputs": [
    {
     "data": {
      "text/plain": [
       "[<matplotlib.lines.Line2D at 0x115285f28>,\n",
       " <matplotlib.lines.Line2D at 0x11eb5f400>,\n",
       " <matplotlib.lines.Line2D at 0x11eb5fcf8>,\n",
       " <matplotlib.lines.Line2D at 0x11ebb7208>,\n",
       " <matplotlib.lines.Line2D at 0x11ebb7400>,\n",
       " <matplotlib.lines.Line2D at 0x11ebb75f8>,\n",
       " <matplotlib.lines.Line2D at 0x11ebb77f0>,\n",
       " <matplotlib.lines.Line2D at 0x11ebb79e8>,\n",
       " <matplotlib.lines.Line2D at 0x11ebb7be0>,\n",
       " <matplotlib.lines.Line2D at 0x11ebb7dd8>,\n",
       " <matplotlib.lines.Line2D at 0x11eb771d0>,\n",
       " <matplotlib.lines.Line2D at 0x11ebc21d0>,\n",
       " <matplotlib.lines.Line2D at 0x11ebc23c8>,\n",
       " <matplotlib.lines.Line2D at 0x11ebc25c0>,\n",
       " <matplotlib.lines.Line2D at 0x11ebc27b8>,\n",
       " <matplotlib.lines.Line2D at 0x11ebc29b0>,\n",
       " <matplotlib.lines.Line2D at 0x11ebc2ba8>,\n",
       " <matplotlib.lines.Line2D at 0x11ebc2da0>,\n",
       " <matplotlib.lines.Line2D at 0x11ebc2f98>,\n",
       " <matplotlib.lines.Line2D at 0x11ebc91d0>,\n",
       " <matplotlib.lines.Line2D at 0x11ebc93c8>,\n",
       " <matplotlib.lines.Line2D at 0x11ebc95c0>,\n",
       " <matplotlib.lines.Line2D at 0x11ebc97b8>,\n",
       " <matplotlib.lines.Line2D at 0x11ebc99b0>,\n",
       " <matplotlib.lines.Line2D at 0x11ebc9ba8>,\n",
       " <matplotlib.lines.Line2D at 0x11ebc9da0>,\n",
       " <matplotlib.lines.Line2D at 0x11ebc9f98>,\n",
       " <matplotlib.lines.Line2D at 0x11ebcf1d0>,\n",
       " <matplotlib.lines.Line2D at 0x11ebcf3c8>,\n",
       " <matplotlib.lines.Line2D at 0x11ebcf5c0>,\n",
       " <matplotlib.lines.Line2D at 0x11ebcf7b8>,\n",
       " <matplotlib.lines.Line2D at 0x11ebcf9b0>,\n",
       " <matplotlib.lines.Line2D at 0x11ebcfba8>,\n",
       " <matplotlib.lines.Line2D at 0x11ebcfda0>,\n",
       " <matplotlib.lines.Line2D at 0x11ebcff98>,\n",
       " <matplotlib.lines.Line2D at 0x1211fa1d0>,\n",
       " <matplotlib.lines.Line2D at 0x1211fa3c8>,\n",
       " <matplotlib.lines.Line2D at 0x1211fa5c0>,\n",
       " <matplotlib.lines.Line2D at 0x1211fa7b8>,\n",
       " <matplotlib.lines.Line2D at 0x1211fa9b0>,\n",
       " <matplotlib.lines.Line2D at 0x1211faba8>,\n",
       " <matplotlib.lines.Line2D at 0x1211fada0>,\n",
       " <matplotlib.lines.Line2D at 0x1211faf98>,\n",
       " <matplotlib.lines.Line2D at 0x1211ff1d0>,\n",
       " <matplotlib.lines.Line2D at 0x1211ff3c8>,\n",
       " <matplotlib.lines.Line2D at 0x1211ff5c0>,\n",
       " <matplotlib.lines.Line2D at 0x1211ff7b8>,\n",
       " <matplotlib.lines.Line2D at 0x1211ff9b0>,\n",
       " <matplotlib.lines.Line2D at 0x1211ffba8>,\n",
       " <matplotlib.lines.Line2D at 0x1211ffda0>,\n",
       " <matplotlib.lines.Line2D at 0x1211fff98>,\n",
       " <matplotlib.lines.Line2D at 0x1212041d0>,\n",
       " <matplotlib.lines.Line2D at 0x1212043c8>,\n",
       " <matplotlib.lines.Line2D at 0x1212045c0>,\n",
       " <matplotlib.lines.Line2D at 0x1212047b8>,\n",
       " <matplotlib.lines.Line2D at 0x1212049b0>,\n",
       " <matplotlib.lines.Line2D at 0x121204ba8>,\n",
       " <matplotlib.lines.Line2D at 0x121204da0>,\n",
       " <matplotlib.lines.Line2D at 0x121204f98>,\n",
       " <matplotlib.lines.Line2D at 0x12120a1d0>,\n",
       " <matplotlib.lines.Line2D at 0x12120a3c8>,\n",
       " <matplotlib.lines.Line2D at 0x12120a5c0>,\n",
       " <matplotlib.lines.Line2D at 0x12120a7b8>,\n",
       " <matplotlib.lines.Line2D at 0x12120a9b0>,\n",
       " <matplotlib.lines.Line2D at 0x12120aba8>,\n",
       " <matplotlib.lines.Line2D at 0x12120ada0>,\n",
       " <matplotlib.lines.Line2D at 0x12120af98>,\n",
       " <matplotlib.lines.Line2D at 0x1212101d0>,\n",
       " <matplotlib.lines.Line2D at 0x1212103c8>,\n",
       " <matplotlib.lines.Line2D at 0x1212105c0>,\n",
       " <matplotlib.lines.Line2D at 0x1212107b8>,\n",
       " <matplotlib.lines.Line2D at 0x1212109b0>,\n",
       " <matplotlib.lines.Line2D at 0x121210ba8>,\n",
       " <matplotlib.lines.Line2D at 0x121210da0>,\n",
       " <matplotlib.lines.Line2D at 0x121210f98>,\n",
       " <matplotlib.lines.Line2D at 0x1212151d0>,\n",
       " <matplotlib.lines.Line2D at 0x1212153c8>,\n",
       " <matplotlib.lines.Line2D at 0x1212155c0>,\n",
       " <matplotlib.lines.Line2D at 0x1212157b8>,\n",
       " <matplotlib.lines.Line2D at 0x1212159b0>,\n",
       " <matplotlib.lines.Line2D at 0x121215ba8>,\n",
       " <matplotlib.lines.Line2D at 0x121215da0>,\n",
       " <matplotlib.lines.Line2D at 0x121215f98>,\n",
       " <matplotlib.lines.Line2D at 0x12121b1d0>,\n",
       " <matplotlib.lines.Line2D at 0x12121b3c8>,\n",
       " <matplotlib.lines.Line2D at 0x12121b5c0>,\n",
       " <matplotlib.lines.Line2D at 0x12121b7b8>,\n",
       " <matplotlib.lines.Line2D at 0x12121b9b0>,\n",
       " <matplotlib.lines.Line2D at 0x12121bba8>,\n",
       " <matplotlib.lines.Line2D at 0x12121bda0>,\n",
       " <matplotlib.lines.Line2D at 0x12121bf98>,\n",
       " <matplotlib.lines.Line2D at 0x1212211d0>,\n",
       " <matplotlib.lines.Line2D at 0x1212213c8>,\n",
       " <matplotlib.lines.Line2D at 0x1212215c0>,\n",
       " <matplotlib.lines.Line2D at 0x1212217b8>,\n",
       " <matplotlib.lines.Line2D at 0x1212219b0>,\n",
       " <matplotlib.lines.Line2D at 0x121221ba8>,\n",
       " <matplotlib.lines.Line2D at 0x121221da0>,\n",
       " <matplotlib.lines.Line2D at 0x121221f98>,\n",
       " <matplotlib.lines.Line2D at 0x1212271d0>,\n",
       " <matplotlib.lines.Line2D at 0x1212273c8>,\n",
       " <matplotlib.lines.Line2D at 0x1212275c0>,\n",
       " <matplotlib.lines.Line2D at 0x1212277b8>,\n",
       " <matplotlib.lines.Line2D at 0x1212279b0>,\n",
       " <matplotlib.lines.Line2D at 0x121227ba8>,\n",
       " <matplotlib.lines.Line2D at 0x121227da0>,\n",
       " <matplotlib.lines.Line2D at 0x121227f98>,\n",
       " <matplotlib.lines.Line2D at 0x12122d1d0>,\n",
       " <matplotlib.lines.Line2D at 0x12122d3c8>,\n",
       " <matplotlib.lines.Line2D at 0x12122d5c0>,\n",
       " <matplotlib.lines.Line2D at 0x12122d7b8>,\n",
       " <matplotlib.lines.Line2D at 0x12122d9b0>,\n",
       " <matplotlib.lines.Line2D at 0x12122dba8>,\n",
       " <matplotlib.lines.Line2D at 0x12122dda0>,\n",
       " <matplotlib.lines.Line2D at 0x12122df98>,\n",
       " <matplotlib.lines.Line2D at 0x1212301d0>,\n",
       " <matplotlib.lines.Line2D at 0x1212303c8>,\n",
       " <matplotlib.lines.Line2D at 0x1212305c0>,\n",
       " <matplotlib.lines.Line2D at 0x1212307b8>,\n",
       " <matplotlib.lines.Line2D at 0x1212309b0>,\n",
       " <matplotlib.lines.Line2D at 0x121230ba8>,\n",
       " <matplotlib.lines.Line2D at 0x121230da0>,\n",
       " <matplotlib.lines.Line2D at 0x121230f98>,\n",
       " <matplotlib.lines.Line2D at 0x1212371d0>,\n",
       " <matplotlib.lines.Line2D at 0x1212373c8>,\n",
       " <matplotlib.lines.Line2D at 0x1212375c0>,\n",
       " <matplotlib.lines.Line2D at 0x1212377b8>,\n",
       " <matplotlib.lines.Line2D at 0x1212379b0>,\n",
       " <matplotlib.lines.Line2D at 0x121237ba8>,\n",
       " <matplotlib.lines.Line2D at 0x121237da0>,\n",
       " <matplotlib.lines.Line2D at 0x121237f98>,\n",
       " <matplotlib.lines.Line2D at 0x12123d1d0>,\n",
       " <matplotlib.lines.Line2D at 0x12123d3c8>,\n",
       " <matplotlib.lines.Line2D at 0x12123d5c0>,\n",
       " <matplotlib.lines.Line2D at 0x12123d7b8>,\n",
       " <matplotlib.lines.Line2D at 0x12123d9b0>,\n",
       " <matplotlib.lines.Line2D at 0x12123dba8>,\n",
       " <matplotlib.lines.Line2D at 0x12123dda0>,\n",
       " <matplotlib.lines.Line2D at 0x12123df98>,\n",
       " <matplotlib.lines.Line2D at 0x1212441d0>,\n",
       " <matplotlib.lines.Line2D at 0x1212443c8>,\n",
       " <matplotlib.lines.Line2D at 0x1212445c0>,\n",
       " <matplotlib.lines.Line2D at 0x1212447b8>,\n",
       " <matplotlib.lines.Line2D at 0x1212449b0>,\n",
       " <matplotlib.lines.Line2D at 0x121244ba8>,\n",
       " <matplotlib.lines.Line2D at 0x121244da0>,\n",
       " <matplotlib.lines.Line2D at 0x121244f98>,\n",
       " <matplotlib.lines.Line2D at 0x1212491d0>,\n",
       " <matplotlib.lines.Line2D at 0x1212493c8>,\n",
       " <matplotlib.lines.Line2D at 0x1212495c0>,\n",
       " <matplotlib.lines.Line2D at 0x1212497b8>,\n",
       " <matplotlib.lines.Line2D at 0x1212499b0>,\n",
       " <matplotlib.lines.Line2D at 0x121249ba8>,\n",
       " <matplotlib.lines.Line2D at 0x121249da0>,\n",
       " <matplotlib.lines.Line2D at 0x121249f98>,\n",
       " <matplotlib.lines.Line2D at 0x12124d1d0>,\n",
       " <matplotlib.lines.Line2D at 0x12124d3c8>,\n",
       " <matplotlib.lines.Line2D at 0x12124d5c0>,\n",
       " <matplotlib.lines.Line2D at 0x12124d7b8>,\n",
       " <matplotlib.lines.Line2D at 0x12124d9b0>,\n",
       " <matplotlib.lines.Line2D at 0x12124dba8>,\n",
       " <matplotlib.lines.Line2D at 0x12124dda0>,\n",
       " <matplotlib.lines.Line2D at 0x12124df98>,\n",
       " <matplotlib.lines.Line2D at 0x1212531d0>,\n",
       " <matplotlib.lines.Line2D at 0x1212533c8>,\n",
       " <matplotlib.lines.Line2D at 0x1212535c0>,\n",
       " <matplotlib.lines.Line2D at 0x1212537b8>,\n",
       " <matplotlib.lines.Line2D at 0x1212539b0>,\n",
       " <matplotlib.lines.Line2D at 0x121253ba8>,\n",
       " <matplotlib.lines.Line2D at 0x121253da0>,\n",
       " <matplotlib.lines.Line2D at 0x121253f98>,\n",
       " <matplotlib.lines.Line2D at 0x1212591d0>,\n",
       " <matplotlib.lines.Line2D at 0x1212593c8>,\n",
       " <matplotlib.lines.Line2D at 0x1212595c0>,\n",
       " <matplotlib.lines.Line2D at 0x1212597b8>,\n",
       " <matplotlib.lines.Line2D at 0x1212599b0>,\n",
       " <matplotlib.lines.Line2D at 0x121259ba8>,\n",
       " <matplotlib.lines.Line2D at 0x121259da0>,\n",
       " <matplotlib.lines.Line2D at 0x121259f98>,\n",
       " <matplotlib.lines.Line2D at 0x1212601d0>,\n",
       " <matplotlib.lines.Line2D at 0x1212603c8>,\n",
       " <matplotlib.lines.Line2D at 0x1212605c0>,\n",
       " <matplotlib.lines.Line2D at 0x1212607b8>,\n",
       " <matplotlib.lines.Line2D at 0x1212609b0>,\n",
       " <matplotlib.lines.Line2D at 0x121260ba8>,\n",
       " <matplotlib.lines.Line2D at 0x121260da0>,\n",
       " <matplotlib.lines.Line2D at 0x121260f98>,\n",
       " <matplotlib.lines.Line2D at 0x1212651d0>,\n",
       " <matplotlib.lines.Line2D at 0x1212653c8>,\n",
       " <matplotlib.lines.Line2D at 0x1212655c0>,\n",
       " <matplotlib.lines.Line2D at 0x1212657b8>,\n",
       " <matplotlib.lines.Line2D at 0x1212659b0>,\n",
       " <matplotlib.lines.Line2D at 0x121265ba8>,\n",
       " <matplotlib.lines.Line2D at 0x121265da0>,\n",
       " <matplotlib.lines.Line2D at 0x121265f98>,\n",
       " <matplotlib.lines.Line2D at 0x12126b1d0>,\n",
       " <matplotlib.lines.Line2D at 0x12126b3c8>,\n",
       " <matplotlib.lines.Line2D at 0x12126b5c0>,\n",
       " <matplotlib.lines.Line2D at 0x12126b7b8>,\n",
       " <matplotlib.lines.Line2D at 0x12126b9b0>,\n",
       " <matplotlib.lines.Line2D at 0x12126bba8>,\n",
       " <matplotlib.lines.Line2D at 0x12126bda0>,\n",
       " <matplotlib.lines.Line2D at 0x12126bf98>,\n",
       " <matplotlib.lines.Line2D at 0x12126f1d0>,\n",
       " <matplotlib.lines.Line2D at 0x12126f3c8>,\n",
       " <matplotlib.lines.Line2D at 0x12126f5c0>,\n",
       " <matplotlib.lines.Line2D at 0x12126f7b8>,\n",
       " <matplotlib.lines.Line2D at 0x12126f9b0>,\n",
       " <matplotlib.lines.Line2D at 0x12126fba8>,\n",
       " <matplotlib.lines.Line2D at 0x12126fda0>,\n",
       " <matplotlib.lines.Line2D at 0x12126ff98>,\n",
       " <matplotlib.lines.Line2D at 0x1212751d0>,\n",
       " <matplotlib.lines.Line2D at 0x1212753c8>,\n",
       " <matplotlib.lines.Line2D at 0x1212755c0>,\n",
       " <matplotlib.lines.Line2D at 0x1212757b8>,\n",
       " <matplotlib.lines.Line2D at 0x1212759b0>,\n",
       " <matplotlib.lines.Line2D at 0x121275ba8>,\n",
       " <matplotlib.lines.Line2D at 0x121275da0>,\n",
       " <matplotlib.lines.Line2D at 0x121275f98>,\n",
       " <matplotlib.lines.Line2D at 0x12127c1d0>,\n",
       " <matplotlib.lines.Line2D at 0x12127c3c8>,\n",
       " <matplotlib.lines.Line2D at 0x12127c5c0>,\n",
       " <matplotlib.lines.Line2D at 0x12127c7b8>,\n",
       " <matplotlib.lines.Line2D at 0x12127c9b0>,\n",
       " <matplotlib.lines.Line2D at 0x12127cba8>,\n",
       " <matplotlib.lines.Line2D at 0x12127cda0>,\n",
       " <matplotlib.lines.Line2D at 0x12127cf98>,\n",
       " <matplotlib.lines.Line2D at 0x1212811d0>,\n",
       " <matplotlib.lines.Line2D at 0x1212813c8>,\n",
       " <matplotlib.lines.Line2D at 0x1212815c0>,\n",
       " <matplotlib.lines.Line2D at 0x1212817b8>,\n",
       " <matplotlib.lines.Line2D at 0x1212819b0>,\n",
       " <matplotlib.lines.Line2D at 0x121281ba8>,\n",
       " <matplotlib.lines.Line2D at 0x121281da0>,\n",
       " <matplotlib.lines.Line2D at 0x121281f98>,\n",
       " <matplotlib.lines.Line2D at 0x1212861d0>,\n",
       " <matplotlib.lines.Line2D at 0x1212863c8>,\n",
       " <matplotlib.lines.Line2D at 0x1212865c0>,\n",
       " <matplotlib.lines.Line2D at 0x1212867b8>,\n",
       " <matplotlib.lines.Line2D at 0x1212869b0>,\n",
       " <matplotlib.lines.Line2D at 0x121286ba8>,\n",
       " <matplotlib.lines.Line2D at 0x121286da0>,\n",
       " <matplotlib.lines.Line2D at 0x121286f98>,\n",
       " <matplotlib.lines.Line2D at 0x12128b1d0>,\n",
       " <matplotlib.lines.Line2D at 0x12128b3c8>,\n",
       " <matplotlib.lines.Line2D at 0x12128b5c0>,\n",
       " <matplotlib.lines.Line2D at 0x12128b7b8>,\n",
       " <matplotlib.lines.Line2D at 0x12128b9b0>,\n",
       " <matplotlib.lines.Line2D at 0x12128bba8>,\n",
       " <matplotlib.lines.Line2D at 0x12128bda0>,\n",
       " <matplotlib.lines.Line2D at 0x12128bf98>,\n",
       " <matplotlib.lines.Line2D at 0x1212921d0>,\n",
       " <matplotlib.lines.Line2D at 0x1212923c8>,\n",
       " <matplotlib.lines.Line2D at 0x1212925c0>,\n",
       " <matplotlib.lines.Line2D at 0x1212927b8>,\n",
       " <matplotlib.lines.Line2D at 0x1212929b0>,\n",
       " <matplotlib.lines.Line2D at 0x121292ba8>,\n",
       " <matplotlib.lines.Line2D at 0x121292da0>,\n",
       " <matplotlib.lines.Line2D at 0x121292f98>,\n",
       " <matplotlib.lines.Line2D at 0x1212971d0>,\n",
       " <matplotlib.lines.Line2D at 0x1212973c8>,\n",
       " <matplotlib.lines.Line2D at 0x1212975c0>,\n",
       " <matplotlib.lines.Line2D at 0x1212977b8>,\n",
       " <matplotlib.lines.Line2D at 0x1212979b0>,\n",
       " <matplotlib.lines.Line2D at 0x121297ba8>,\n",
       " <matplotlib.lines.Line2D at 0x121297da0>,\n",
       " <matplotlib.lines.Line2D at 0x121297f98>,\n",
       " <matplotlib.lines.Line2D at 0x12129e1d0>,\n",
       " <matplotlib.lines.Line2D at 0x12129e3c8>,\n",
       " <matplotlib.lines.Line2D at 0x12129e5c0>,\n",
       " <matplotlib.lines.Line2D at 0x12129e7b8>,\n",
       " <matplotlib.lines.Line2D at 0x12129e9b0>,\n",
       " <matplotlib.lines.Line2D at 0x12129eba8>,\n",
       " <matplotlib.lines.Line2D at 0x12129eda0>,\n",
       " <matplotlib.lines.Line2D at 0x12129ef98>,\n",
       " <matplotlib.lines.Line2D at 0x1212a31d0>,\n",
       " <matplotlib.lines.Line2D at 0x1212a33c8>,\n",
       " <matplotlib.lines.Line2D at 0x1212a35c0>,\n",
       " <matplotlib.lines.Line2D at 0x1212a37b8>,\n",
       " <matplotlib.lines.Line2D at 0x1212a39b0>,\n",
       " <matplotlib.lines.Line2D at 0x1212a3ba8>,\n",
       " <matplotlib.lines.Line2D at 0x1212a3da0>,\n",
       " <matplotlib.lines.Line2D at 0x1212a3f98>,\n",
       " <matplotlib.lines.Line2D at 0x1212a91d0>,\n",
       " <matplotlib.lines.Line2D at 0x1212a93c8>,\n",
       " <matplotlib.lines.Line2D at 0x1212a95c0>,\n",
       " <matplotlib.lines.Line2D at 0x1212a97b8>,\n",
       " <matplotlib.lines.Line2D at 0x1212a99b0>,\n",
       " <matplotlib.lines.Line2D at 0x1212a9ba8>,\n",
       " <matplotlib.lines.Line2D at 0x1212a9da0>,\n",
       " <matplotlib.lines.Line2D at 0x1212a9f98>,\n",
       " <matplotlib.lines.Line2D at 0x1212ad1d0>,\n",
       " <matplotlib.lines.Line2D at 0x1212ad3c8>,\n",
       " <matplotlib.lines.Line2D at 0x1212ad5c0>,\n",
       " <matplotlib.lines.Line2D at 0x1212ad7b8>,\n",
       " <matplotlib.lines.Line2D at 0x1212ad9b0>,\n",
       " <matplotlib.lines.Line2D at 0x1212adba8>,\n",
       " <matplotlib.lines.Line2D at 0x1212adda0>,\n",
       " <matplotlib.lines.Line2D at 0x1212adf98>,\n",
       " <matplotlib.lines.Line2D at 0x1212b21d0>,\n",
       " <matplotlib.lines.Line2D at 0x1212b23c8>,\n",
       " <matplotlib.lines.Line2D at 0x1212b25c0>,\n",
       " <matplotlib.lines.Line2D at 0x1212b27b8>,\n",
       " <matplotlib.lines.Line2D at 0x1212b29b0>,\n",
       " <matplotlib.lines.Line2D at 0x1212b2ba8>,\n",
       " <matplotlib.lines.Line2D at 0x1212b2da0>,\n",
       " <matplotlib.lines.Line2D at 0x1212b2f98>,\n",
       " <matplotlib.lines.Line2D at 0x1212bb1d0>,\n",
       " <matplotlib.lines.Line2D at 0x1212bb3c8>,\n",
       " <matplotlib.lines.Line2D at 0x1212bb5c0>,\n",
       " <matplotlib.lines.Line2D at 0x1212bb7b8>,\n",
       " <matplotlib.lines.Line2D at 0x1212bb9b0>,\n",
       " <matplotlib.lines.Line2D at 0x1212bbba8>,\n",
       " <matplotlib.lines.Line2D at 0x1212bbda0>,\n",
       " <matplotlib.lines.Line2D at 0x1212bbf98>,\n",
       " <matplotlib.lines.Line2D at 0x1212be1d0>,\n",
       " <matplotlib.lines.Line2D at 0x1212be3c8>,\n",
       " <matplotlib.lines.Line2D at 0x1212be5c0>,\n",
       " <matplotlib.lines.Line2D at 0x1212be7b8>,\n",
       " <matplotlib.lines.Line2D at 0x1212be9b0>,\n",
       " <matplotlib.lines.Line2D at 0x1212beba8>,\n",
       " <matplotlib.lines.Line2D at 0x1212beda0>,\n",
       " <matplotlib.lines.Line2D at 0x1212bef98>,\n",
       " <matplotlib.lines.Line2D at 0x1212c51d0>,\n",
       " <matplotlib.lines.Line2D at 0x1212c53c8>,\n",
       " <matplotlib.lines.Line2D at 0x1212c55c0>,\n",
       " <matplotlib.lines.Line2D at 0x1212c57b8>,\n",
       " <matplotlib.lines.Line2D at 0x1212c59b0>,\n",
       " <matplotlib.lines.Line2D at 0x1212c5ba8>,\n",
       " <matplotlib.lines.Line2D at 0x1212c5da0>,\n",
       " <matplotlib.lines.Line2D at 0x1212c5f98>,\n",
       " <matplotlib.lines.Line2D at 0x1212cb1d0>,\n",
       " <matplotlib.lines.Line2D at 0x1212cb3c8>,\n",
       " <matplotlib.lines.Line2D at 0x1212cb5c0>,\n",
       " <matplotlib.lines.Line2D at 0x1212cb7b8>,\n",
       " <matplotlib.lines.Line2D at 0x1212cb9b0>,\n",
       " <matplotlib.lines.Line2D at 0x1212cbba8>,\n",
       " <matplotlib.lines.Line2D at 0x1212cbda0>,\n",
       " <matplotlib.lines.Line2D at 0x1212cbf98>,\n",
       " <matplotlib.lines.Line2D at 0x1212d01d0>,\n",
       " <matplotlib.lines.Line2D at 0x1212d03c8>,\n",
       " <matplotlib.lines.Line2D at 0x1212d05c0>,\n",
       " <matplotlib.lines.Line2D at 0x1212d07b8>,\n",
       " <matplotlib.lines.Line2D at 0x1212d09b0>,\n",
       " <matplotlib.lines.Line2D at 0x1212d0ba8>,\n",
       " <matplotlib.lines.Line2D at 0x1212d0da0>,\n",
       " <matplotlib.lines.Line2D at 0x1212d0f98>,\n",
       " <matplotlib.lines.Line2D at 0x1212d61d0>,\n",
       " <matplotlib.lines.Line2D at 0x1212d63c8>,\n",
       " <matplotlib.lines.Line2D at 0x1212d65c0>,\n",
       " <matplotlib.lines.Line2D at 0x1212d67b8>,\n",
       " <matplotlib.lines.Line2D at 0x1212d69b0>,\n",
       " <matplotlib.lines.Line2D at 0x1212d6ba8>,\n",
       " <matplotlib.lines.Line2D at 0x1212d6da0>,\n",
       " <matplotlib.lines.Line2D at 0x1212d6f98>,\n",
       " <matplotlib.lines.Line2D at 0x1212db1d0>,\n",
       " <matplotlib.lines.Line2D at 0x1212db3c8>,\n",
       " <matplotlib.lines.Line2D at 0x1212db5c0>,\n",
       " <matplotlib.lines.Line2D at 0x1212db7b8>,\n",
       " <matplotlib.lines.Line2D at 0x1212db9b0>,\n",
       " <matplotlib.lines.Line2D at 0x1212dbba8>,\n",
       " <matplotlib.lines.Line2D at 0x1212dbda0>,\n",
       " <matplotlib.lines.Line2D at 0x1212dbf98>,\n",
       " <matplotlib.lines.Line2D at 0x1212e11d0>,\n",
       " <matplotlib.lines.Line2D at 0x1212e13c8>,\n",
       " <matplotlib.lines.Line2D at 0x1212e15c0>,\n",
       " <matplotlib.lines.Line2D at 0x1212e17b8>,\n",
       " <matplotlib.lines.Line2D at 0x1212e19b0>,\n",
       " <matplotlib.lines.Line2D at 0x1212e1ba8>,\n",
       " <matplotlib.lines.Line2D at 0x1212e1da0>,\n",
       " <matplotlib.lines.Line2D at 0x1212e1f98>,\n",
       " <matplotlib.lines.Line2D at 0x1212e71d0>,\n",
       " <matplotlib.lines.Line2D at 0x1212e73c8>,\n",
       " <matplotlib.lines.Line2D at 0x1212e75c0>,\n",
       " <matplotlib.lines.Line2D at 0x1212e77b8>,\n",
       " <matplotlib.lines.Line2D at 0x1212e79b0>,\n",
       " <matplotlib.lines.Line2D at 0x1212e7ba8>,\n",
       " <matplotlib.lines.Line2D at 0x1212e7da0>,\n",
       " <matplotlib.lines.Line2D at 0x1212e7f98>,\n",
       " <matplotlib.lines.Line2D at 0x1212ec1d0>,\n",
       " <matplotlib.lines.Line2D at 0x1212ec3c8>,\n",
       " <matplotlib.lines.Line2D at 0x1212ec5c0>,\n",
       " <matplotlib.lines.Line2D at 0x1212ec7b8>,\n",
       " <matplotlib.lines.Line2D at 0x1212ec9b0>,\n",
       " <matplotlib.lines.Line2D at 0x1212ecba8>,\n",
       " <matplotlib.lines.Line2D at 0x1212ecda0>,\n",
       " <matplotlib.lines.Line2D at 0x1212ecf98>,\n",
       " <matplotlib.lines.Line2D at 0x1212f11d0>,\n",
       " <matplotlib.lines.Line2D at 0x1212f13c8>,\n",
       " <matplotlib.lines.Line2D at 0x1212f15c0>,\n",
       " <matplotlib.lines.Line2D at 0x1212f17b8>,\n",
       " <matplotlib.lines.Line2D at 0x1212f19b0>,\n",
       " <matplotlib.lines.Line2D at 0x1212f1ba8>,\n",
       " <matplotlib.lines.Line2D at 0x1212f1da0>,\n",
       " <matplotlib.lines.Line2D at 0x1212f1f98>,\n",
       " <matplotlib.lines.Line2D at 0x1212f81d0>,\n",
       " <matplotlib.lines.Line2D at 0x1212f83c8>,\n",
       " <matplotlib.lines.Line2D at 0x1212f85c0>,\n",
       " <matplotlib.lines.Line2D at 0x1212f87b8>,\n",
       " <matplotlib.lines.Line2D at 0x1212f89b0>,\n",
       " <matplotlib.lines.Line2D at 0x1212f8ba8>,\n",
       " <matplotlib.lines.Line2D at 0x1212f8da0>,\n",
       " <matplotlib.lines.Line2D at 0x1212f8f98>,\n",
       " <matplotlib.lines.Line2D at 0x1212fc1d0>,\n",
       " <matplotlib.lines.Line2D at 0x1212fc3c8>,\n",
       " <matplotlib.lines.Line2D at 0x1212fc5c0>,\n",
       " <matplotlib.lines.Line2D at 0x1212fc7b8>,\n",
       " <matplotlib.lines.Line2D at 0x1212fc9b0>,\n",
       " <matplotlib.lines.Line2D at 0x1212fcba8>,\n",
       " <matplotlib.lines.Line2D at 0x1212fcda0>,\n",
       " <matplotlib.lines.Line2D at 0x1212fcf98>,\n",
       " <matplotlib.lines.Line2D at 0x1213021d0>,\n",
       " <matplotlib.lines.Line2D at 0x1213023c8>,\n",
       " <matplotlib.lines.Line2D at 0x1213025c0>,\n",
       " <matplotlib.lines.Line2D at 0x1213027b8>,\n",
       " <matplotlib.lines.Line2D at 0x1213029b0>,\n",
       " <matplotlib.lines.Line2D at 0x121302ba8>,\n",
       " <matplotlib.lines.Line2D at 0x121302da0>,\n",
       " <matplotlib.lines.Line2D at 0x121302f98>,\n",
       " <matplotlib.lines.Line2D at 0x1213091d0>,\n",
       " <matplotlib.lines.Line2D at 0x1213093c8>,\n",
       " <matplotlib.lines.Line2D at 0x1213095c0>,\n",
       " <matplotlib.lines.Line2D at 0x1213097b8>,\n",
       " <matplotlib.lines.Line2D at 0x1213099b0>,\n",
       " <matplotlib.lines.Line2D at 0x121309ba8>,\n",
       " <matplotlib.lines.Line2D at 0x121309da0>,\n",
       " <matplotlib.lines.Line2D at 0x121309f98>,\n",
       " <matplotlib.lines.Line2D at 0x12130f1d0>,\n",
       " <matplotlib.lines.Line2D at 0x12130f3c8>,\n",
       " <matplotlib.lines.Line2D at 0x12130f5c0>,\n",
       " <matplotlib.lines.Line2D at 0x12130f7b8>,\n",
       " <matplotlib.lines.Line2D at 0x12130f9b0>,\n",
       " <matplotlib.lines.Line2D at 0x12130fba8>,\n",
       " <matplotlib.lines.Line2D at 0x12130fda0>,\n",
       " <matplotlib.lines.Line2D at 0x12130ff98>,\n",
       " <matplotlib.lines.Line2D at 0x1213141d0>,\n",
       " <matplotlib.lines.Line2D at 0x1213143c8>,\n",
       " <matplotlib.lines.Line2D at 0x1213145c0>,\n",
       " <matplotlib.lines.Line2D at 0x1213147b8>,\n",
       " <matplotlib.lines.Line2D at 0x1213149b0>,\n",
       " <matplotlib.lines.Line2D at 0x121314ba8>,\n",
       " <matplotlib.lines.Line2D at 0x121314da0>,\n",
       " <matplotlib.lines.Line2D at 0x121314f98>,\n",
       " <matplotlib.lines.Line2D at 0x1213191d0>,\n",
       " <matplotlib.lines.Line2D at 0x1213193c8>,\n",
       " <matplotlib.lines.Line2D at 0x1213195c0>,\n",
       " <matplotlib.lines.Line2D at 0x1213197b8>,\n",
       " <matplotlib.lines.Line2D at 0x1213199b0>,\n",
       " <matplotlib.lines.Line2D at 0x121319ba8>,\n",
       " <matplotlib.lines.Line2D at 0x121319da0>,\n",
       " <matplotlib.lines.Line2D at 0x121319f98>,\n",
       " <matplotlib.lines.Line2D at 0x12131f1d0>,\n",
       " <matplotlib.lines.Line2D at 0x12131f3c8>,\n",
       " <matplotlib.lines.Line2D at 0x12131f5c0>,\n",
       " <matplotlib.lines.Line2D at 0x12131f7b8>,\n",
       " <matplotlib.lines.Line2D at 0x12131f9b0>,\n",
       " <matplotlib.lines.Line2D at 0x12131fba8>,\n",
       " <matplotlib.lines.Line2D at 0x12131fda0>,\n",
       " <matplotlib.lines.Line2D at 0x12131ff98>,\n",
       " <matplotlib.lines.Line2D at 0x1213241d0>,\n",
       " <matplotlib.lines.Line2D at 0x1213243c8>,\n",
       " <matplotlib.lines.Line2D at 0x1213245c0>,\n",
       " <matplotlib.lines.Line2D at 0x1213247b8>,\n",
       " <matplotlib.lines.Line2D at 0x1213249b0>,\n",
       " <matplotlib.lines.Line2D at 0x121324ba8>,\n",
       " <matplotlib.lines.Line2D at 0x121324da0>,\n",
       " <matplotlib.lines.Line2D at 0x121324f98>,\n",
       " <matplotlib.lines.Line2D at 0x1213291d0>,\n",
       " <matplotlib.lines.Line2D at 0x1213293c8>,\n",
       " <matplotlib.lines.Line2D at 0x1213295c0>,\n",
       " <matplotlib.lines.Line2D at 0x1213297b8>,\n",
       " <matplotlib.lines.Line2D at 0x1213299b0>,\n",
       " <matplotlib.lines.Line2D at 0x121329ba8>,\n",
       " <matplotlib.lines.Line2D at 0x121329da0>,\n",
       " <matplotlib.lines.Line2D at 0x121329f98>,\n",
       " <matplotlib.lines.Line2D at 0x1213301d0>,\n",
       " <matplotlib.lines.Line2D at 0x1213303c8>,\n",
       " <matplotlib.lines.Line2D at 0x1213305c0>,\n",
       " <matplotlib.lines.Line2D at 0x1213307b8>,\n",
       " <matplotlib.lines.Line2D at 0x1213309b0>,\n",
       " <matplotlib.lines.Line2D at 0x121330ba8>,\n",
       " <matplotlib.lines.Line2D at 0x121330da0>,\n",
       " <matplotlib.lines.Line2D at 0x121330f98>,\n",
       " <matplotlib.lines.Line2D at 0x1213371d0>,\n",
       " <matplotlib.lines.Line2D at 0x1213373c8>,\n",
       " <matplotlib.lines.Line2D at 0x1213375c0>,\n",
       " <matplotlib.lines.Line2D at 0x1213377b8>,\n",
       " <matplotlib.lines.Line2D at 0x1213379b0>,\n",
       " <matplotlib.lines.Line2D at 0x121337ba8>,\n",
       " <matplotlib.lines.Line2D at 0x121337da0>,\n",
       " <matplotlib.lines.Line2D at 0x121337f98>,\n",
       " <matplotlib.lines.Line2D at 0x12133b1d0>,\n",
       " <matplotlib.lines.Line2D at 0x12133b3c8>,\n",
       " <matplotlib.lines.Line2D at 0x12133b5c0>,\n",
       " <matplotlib.lines.Line2D at 0x12133b7b8>,\n",
       " <matplotlib.lines.Line2D at 0x12133b9b0>,\n",
       " <matplotlib.lines.Line2D at 0x12133bba8>,\n",
       " <matplotlib.lines.Line2D at 0x12133bda0>,\n",
       " <matplotlib.lines.Line2D at 0x12133bf98>,\n",
       " <matplotlib.lines.Line2D at 0x1213411d0>,\n",
       " <matplotlib.lines.Line2D at 0x1213413c8>,\n",
       " <matplotlib.lines.Line2D at 0x1213415c0>,\n",
       " <matplotlib.lines.Line2D at 0x1213417b8>,\n",
       " <matplotlib.lines.Line2D at 0x1213419b0>,\n",
       " <matplotlib.lines.Line2D at 0x121341ba8>,\n",
       " <matplotlib.lines.Line2D at 0x121341da0>,\n",
       " <matplotlib.lines.Line2D at 0x121341f98>,\n",
       " <matplotlib.lines.Line2D at 0x1213471d0>,\n",
       " <matplotlib.lines.Line2D at 0x1213473c8>,\n",
       " <matplotlib.lines.Line2D at 0x1213475c0>,\n",
       " <matplotlib.lines.Line2D at 0x1213477b8>,\n",
       " <matplotlib.lines.Line2D at 0x1213479b0>,\n",
       " <matplotlib.lines.Line2D at 0x121347ba8>,\n",
       " <matplotlib.lines.Line2D at 0x121347da0>,\n",
       " <matplotlib.lines.Line2D at 0x121347f98>,\n",
       " <matplotlib.lines.Line2D at 0x12134b1d0>,\n",
       " <matplotlib.lines.Line2D at 0x12134b3c8>,\n",
       " <matplotlib.lines.Line2D at 0x12134b5c0>,\n",
       " <matplotlib.lines.Line2D at 0x12134b7b8>,\n",
       " <matplotlib.lines.Line2D at 0x12134b9b0>,\n",
       " <matplotlib.lines.Line2D at 0x12134bba8>,\n",
       " <matplotlib.lines.Line2D at 0x12134bda0>,\n",
       " <matplotlib.lines.Line2D at 0x12134bf98>,\n",
       " <matplotlib.lines.Line2D at 0x1213521d0>,\n",
       " <matplotlib.lines.Line2D at 0x1213523c8>,\n",
       " <matplotlib.lines.Line2D at 0x1213525c0>,\n",
       " <matplotlib.lines.Line2D at 0x1213527b8>,\n",
       " <matplotlib.lines.Line2D at 0x1213529b0>,\n",
       " <matplotlib.lines.Line2D at 0x121352ba8>,\n",
       " <matplotlib.lines.Line2D at 0x121352da0>,\n",
       " <matplotlib.lines.Line2D at 0x121352f98>,\n",
       " <matplotlib.lines.Line2D at 0x1213571d0>,\n",
       " <matplotlib.lines.Line2D at 0x1213573c8>,\n",
       " <matplotlib.lines.Line2D at 0x1213575c0>,\n",
       " <matplotlib.lines.Line2D at 0x1213577b8>,\n",
       " <matplotlib.lines.Line2D at 0x1213579b0>,\n",
       " <matplotlib.lines.Line2D at 0x121357ba8>,\n",
       " <matplotlib.lines.Line2D at 0x121357da0>,\n",
       " <matplotlib.lines.Line2D at 0x121357f98>,\n",
       " <matplotlib.lines.Line2D at 0x12135e1d0>,\n",
       " <matplotlib.lines.Line2D at 0x12135e3c8>,\n",
       " <matplotlib.lines.Line2D at 0x12135e5c0>,\n",
       " <matplotlib.lines.Line2D at 0x12135e7b8>,\n",
       " <matplotlib.lines.Line2D at 0x12135e9b0>,\n",
       " <matplotlib.lines.Line2D at 0x12135eba8>,\n",
       " <matplotlib.lines.Line2D at 0x12135eda0>,\n",
       " <matplotlib.lines.Line2D at 0x12135ef98>,\n",
       " <matplotlib.lines.Line2D at 0x1213631d0>,\n",
       " <matplotlib.lines.Line2D at 0x1213633c8>,\n",
       " <matplotlib.lines.Line2D at 0x1213635c0>,\n",
       " <matplotlib.lines.Line2D at 0x1213637b8>,\n",
       " <matplotlib.lines.Line2D at 0x1213639b0>,\n",
       " <matplotlib.lines.Line2D at 0x121363ba8>,\n",
       " <matplotlib.lines.Line2D at 0x121363da0>,\n",
       " <matplotlib.lines.Line2D at 0x121363f98>,\n",
       " <matplotlib.lines.Line2D at 0x1213671d0>,\n",
       " <matplotlib.lines.Line2D at 0x1213673c8>,\n",
       " <matplotlib.lines.Line2D at 0x1213675c0>,\n",
       " <matplotlib.lines.Line2D at 0x1213677b8>,\n",
       " <matplotlib.lines.Line2D at 0x1213679b0>,\n",
       " <matplotlib.lines.Line2D at 0x121367ba8>,\n",
       " <matplotlib.lines.Line2D at 0x121367da0>,\n",
       " <matplotlib.lines.Line2D at 0x121367f98>,\n",
       " <matplotlib.lines.Line2D at 0x12136e1d0>,\n",
       " <matplotlib.lines.Line2D at 0x12136e3c8>,\n",
       " <matplotlib.lines.Line2D at 0x12136e5c0>,\n",
       " <matplotlib.lines.Line2D at 0x12136e7b8>,\n",
       " <matplotlib.lines.Line2D at 0x12136e9b0>,\n",
       " <matplotlib.lines.Line2D at 0x12136eba8>,\n",
       " <matplotlib.lines.Line2D at 0x12136eda0>,\n",
       " <matplotlib.lines.Line2D at 0x12136ef98>,\n",
       " <matplotlib.lines.Line2D at 0x1213741d0>,\n",
       " <matplotlib.lines.Line2D at 0x1213743c8>,\n",
       " <matplotlib.lines.Line2D at 0x1213745c0>,\n",
       " <matplotlib.lines.Line2D at 0x1213747b8>,\n",
       " <matplotlib.lines.Line2D at 0x1213749b0>,\n",
       " <matplotlib.lines.Line2D at 0x121374ba8>,\n",
       " <matplotlib.lines.Line2D at 0x121374da0>,\n",
       " <matplotlib.lines.Line2D at 0x121374f98>,\n",
       " <matplotlib.lines.Line2D at 0x1213791d0>,\n",
       " <matplotlib.lines.Line2D at 0x1213793c8>,\n",
       " <matplotlib.lines.Line2D at 0x1213795c0>,\n",
       " <matplotlib.lines.Line2D at 0x1213797b8>,\n",
       " <matplotlib.lines.Line2D at 0x1213799b0>,\n",
       " <matplotlib.lines.Line2D at 0x121379ba8>,\n",
       " <matplotlib.lines.Line2D at 0x121379da0>,\n",
       " <matplotlib.lines.Line2D at 0x121379f98>,\n",
       " <matplotlib.lines.Line2D at 0x12137f1d0>,\n",
       " <matplotlib.lines.Line2D at 0x12137f3c8>,\n",
       " <matplotlib.lines.Line2D at 0x12137f5c0>,\n",
       " <matplotlib.lines.Line2D at 0x12137f7b8>,\n",
       " <matplotlib.lines.Line2D at 0x12137f9b0>,\n",
       " <matplotlib.lines.Line2D at 0x12137fba8>,\n",
       " <matplotlib.lines.Line2D at 0x12137fda0>,\n",
       " <matplotlib.lines.Line2D at 0x12137ff98>,\n",
       " <matplotlib.lines.Line2D at 0x1213851d0>,\n",
       " <matplotlib.lines.Line2D at 0x1213853c8>,\n",
       " <matplotlib.lines.Line2D at 0x1213855c0>,\n",
       " <matplotlib.lines.Line2D at 0x1213857b8>,\n",
       " <matplotlib.lines.Line2D at 0x1213859b0>,\n",
       " <matplotlib.lines.Line2D at 0x121385ba8>,\n",
       " <matplotlib.lines.Line2D at 0x121385da0>,\n",
       " <matplotlib.lines.Line2D at 0x121385f98>,\n",
       " <matplotlib.lines.Line2D at 0x12138a1d0>,\n",
       " <matplotlib.lines.Line2D at 0x12138a3c8>,\n",
       " <matplotlib.lines.Line2D at 0x12138a5c0>,\n",
       " <matplotlib.lines.Line2D at 0x12138a7b8>,\n",
       " <matplotlib.lines.Line2D at 0x12138a9b0>,\n",
       " <matplotlib.lines.Line2D at 0x12138aba8>,\n",
       " <matplotlib.lines.Line2D at 0x12138ada0>,\n",
       " <matplotlib.lines.Line2D at 0x12138af98>,\n",
       " <matplotlib.lines.Line2D at 0x1213901d0>,\n",
       " <matplotlib.lines.Line2D at 0x1213903c8>,\n",
       " <matplotlib.lines.Line2D at 0x1213905c0>,\n",
       " <matplotlib.lines.Line2D at 0x1213907b8>,\n",
       " <matplotlib.lines.Line2D at 0x1213909b0>,\n",
       " <matplotlib.lines.Line2D at 0x121390ba8>,\n",
       " <matplotlib.lines.Line2D at 0x121390da0>,\n",
       " <matplotlib.lines.Line2D at 0x121390f98>,\n",
       " <matplotlib.lines.Line2D at 0x1213941d0>,\n",
       " <matplotlib.lines.Line2D at 0x1213943c8>,\n",
       " <matplotlib.lines.Line2D at 0x1213945c0>,\n",
       " <matplotlib.lines.Line2D at 0x1213947b8>,\n",
       " <matplotlib.lines.Line2D at 0x1213949b0>,\n",
       " <matplotlib.lines.Line2D at 0x121394ba8>,\n",
       " <matplotlib.lines.Line2D at 0x121394da0>,\n",
       " <matplotlib.lines.Line2D at 0x121394f98>,\n",
       " <matplotlib.lines.Line2D at 0x12139c1d0>,\n",
       " <matplotlib.lines.Line2D at 0x12139c3c8>,\n",
       " <matplotlib.lines.Line2D at 0x12139c5c0>,\n",
       " <matplotlib.lines.Line2D at 0x12139c7b8>,\n",
       " <matplotlib.lines.Line2D at 0x12139c9b0>,\n",
       " <matplotlib.lines.Line2D at 0x12139cba8>,\n",
       " <matplotlib.lines.Line2D at 0x12139cda0>,\n",
       " <matplotlib.lines.Line2D at 0x12139cf98>,\n",
       " <matplotlib.lines.Line2D at 0x1213a01d0>,\n",
       " <matplotlib.lines.Line2D at 0x1213a03c8>,\n",
       " <matplotlib.lines.Line2D at 0x1213a05c0>,\n",
       " <matplotlib.lines.Line2D at 0x1213a07b8>,\n",
       " <matplotlib.lines.Line2D at 0x1213a09b0>,\n",
       " <matplotlib.lines.Line2D at 0x1213a0ba8>,\n",
       " <matplotlib.lines.Line2D at 0x1213a0da0>,\n",
       " <matplotlib.lines.Line2D at 0x1213a0f98>,\n",
       " <matplotlib.lines.Line2D at 0x1213a71d0>,\n",
       " <matplotlib.lines.Line2D at 0x1213a73c8>,\n",
       " <matplotlib.lines.Line2D at 0x1213a75c0>,\n",
       " <matplotlib.lines.Line2D at 0x1213a77b8>,\n",
       " <matplotlib.lines.Line2D at 0x1213a79b0>,\n",
       " <matplotlib.lines.Line2D at 0x1213a7ba8>,\n",
       " <matplotlib.lines.Line2D at 0x1213a7da0>,\n",
       " <matplotlib.lines.Line2D at 0x1213a7f98>,\n",
       " <matplotlib.lines.Line2D at 0x1213ad1d0>,\n",
       " <matplotlib.lines.Line2D at 0x1213ad3c8>,\n",
       " <matplotlib.lines.Line2D at 0x1213ad5c0>,\n",
       " <matplotlib.lines.Line2D at 0x1213ad7b8>,\n",
       " <matplotlib.lines.Line2D at 0x1213ad9b0>,\n",
       " <matplotlib.lines.Line2D at 0x1213adba8>,\n",
       " <matplotlib.lines.Line2D at 0x1213adda0>,\n",
       " <matplotlib.lines.Line2D at 0x1213adf98>,\n",
       " <matplotlib.lines.Line2D at 0x1213b21d0>,\n",
       " <matplotlib.lines.Line2D at 0x1213b23c8>,\n",
       " <matplotlib.lines.Line2D at 0x1213b25c0>,\n",
       " <matplotlib.lines.Line2D at 0x1213b27b8>,\n",
       " <matplotlib.lines.Line2D at 0x1213b29b0>,\n",
       " <matplotlib.lines.Line2D at 0x1213b2ba8>,\n",
       " <matplotlib.lines.Line2D at 0x1213b2da0>,\n",
       " <matplotlib.lines.Line2D at 0x1213b2f98>,\n",
       " <matplotlib.lines.Line2D at 0x1213b71d0>,\n",
       " <matplotlib.lines.Line2D at 0x1213b73c8>,\n",
       " <matplotlib.lines.Line2D at 0x1213b75c0>,\n",
       " <matplotlib.lines.Line2D at 0x1213b77b8>,\n",
       " <matplotlib.lines.Line2D at 0x1213b79b0>,\n",
       " <matplotlib.lines.Line2D at 0x1213b7ba8>,\n",
       " <matplotlib.lines.Line2D at 0x1213b7da0>,\n",
       " <matplotlib.lines.Line2D at 0x1213b7f98>,\n",
       " <matplotlib.lines.Line2D at 0x1213bc1d0>,\n",
       " <matplotlib.lines.Line2D at 0x1213bc3c8>,\n",
       " <matplotlib.lines.Line2D at 0x1213bc5c0>,\n",
       " <matplotlib.lines.Line2D at 0x1213bc7b8>,\n",
       " <matplotlib.lines.Line2D at 0x1213bc9b0>,\n",
       " <matplotlib.lines.Line2D at 0x1213bcba8>,\n",
       " <matplotlib.lines.Line2D at 0x1213bcda0>,\n",
       " <matplotlib.lines.Line2D at 0x1213bcf98>,\n",
       " <matplotlib.lines.Line2D at 0x1213c41d0>,\n",
       " <matplotlib.lines.Line2D at 0x1213c43c8>,\n",
       " <matplotlib.lines.Line2D at 0x1213c45c0>,\n",
       " <matplotlib.lines.Line2D at 0x1213c47b8>,\n",
       " <matplotlib.lines.Line2D at 0x1213c49b0>,\n",
       " <matplotlib.lines.Line2D at 0x1213c4ba8>,\n",
       " <matplotlib.lines.Line2D at 0x1213c4da0>,\n",
       " <matplotlib.lines.Line2D at 0x1213c4f98>,\n",
       " <matplotlib.lines.Line2D at 0x1213c81d0>,\n",
       " <matplotlib.lines.Line2D at 0x1213c83c8>,\n",
       " <matplotlib.lines.Line2D at 0x1213c85c0>,\n",
       " <matplotlib.lines.Line2D at 0x1213c87b8>,\n",
       " <matplotlib.lines.Line2D at 0x1213c89b0>,\n",
       " <matplotlib.lines.Line2D at 0x1213c8ba8>,\n",
       " <matplotlib.lines.Line2D at 0x1213c8da0>,\n",
       " <matplotlib.lines.Line2D at 0x1213c8f98>,\n",
       " <matplotlib.lines.Line2D at 0x1213cf1d0>,\n",
       " <matplotlib.lines.Line2D at 0x1213cf3c8>,\n",
       " <matplotlib.lines.Line2D at 0x1213cf5c0>,\n",
       " <matplotlib.lines.Line2D at 0x1213cf7b8>,\n",
       " <matplotlib.lines.Line2D at 0x1213cf9b0>,\n",
       " <matplotlib.lines.Line2D at 0x1213cfba8>,\n",
       " <matplotlib.lines.Line2D at 0x1213cfda0>,\n",
       " <matplotlib.lines.Line2D at 0x1213cff98>,\n",
       " <matplotlib.lines.Line2D at 0x1213d31d0>,\n",
       " <matplotlib.lines.Line2D at 0x1213d33c8>,\n",
       " <matplotlib.lines.Line2D at 0x1213d35c0>,\n",
       " <matplotlib.lines.Line2D at 0x1213d37b8>,\n",
       " <matplotlib.lines.Line2D at 0x1213d39b0>,\n",
       " <matplotlib.lines.Line2D at 0x1213d3ba8>,\n",
       " <matplotlib.lines.Line2D at 0x1213d3da0>,\n",
       " <matplotlib.lines.Line2D at 0x1213d3f98>,\n",
       " <matplotlib.lines.Line2D at 0x1213d91d0>,\n",
       " <matplotlib.lines.Line2D at 0x1213d93c8>,\n",
       " <matplotlib.lines.Line2D at 0x1213d95c0>,\n",
       " <matplotlib.lines.Line2D at 0x1213d97b8>,\n",
       " <matplotlib.lines.Line2D at 0x1213d99b0>,\n",
       " <matplotlib.lines.Line2D at 0x1213d9ba8>,\n",
       " <matplotlib.lines.Line2D at 0x1213d9da0>,\n",
       " <matplotlib.lines.Line2D at 0x1213d9f98>,\n",
       " <matplotlib.lines.Line2D at 0x1213de1d0>,\n",
       " <matplotlib.lines.Line2D at 0x1213de3c8>,\n",
       " <matplotlib.lines.Line2D at 0x1213de5c0>,\n",
       " <matplotlib.lines.Line2D at 0x1213de7b8>,\n",
       " <matplotlib.lines.Line2D at 0x1213de9b0>,\n",
       " <matplotlib.lines.Line2D at 0x1213deba8>,\n",
       " <matplotlib.lines.Line2D at 0x1213deda0>,\n",
       " <matplotlib.lines.Line2D at 0x1213def98>,\n",
       " <matplotlib.lines.Line2D at 0x1213e41d0>,\n",
       " <matplotlib.lines.Line2D at 0x1213e43c8>,\n",
       " <matplotlib.lines.Line2D at 0x1213e45c0>,\n",
       " <matplotlib.lines.Line2D at 0x1213e47b8>,\n",
       " <matplotlib.lines.Line2D at 0x1213e49b0>,\n",
       " <matplotlib.lines.Line2D at 0x1213e4ba8>,\n",
       " <matplotlib.lines.Line2D at 0x1213e4da0>,\n",
       " <matplotlib.lines.Line2D at 0x1213e4f98>,\n",
       " <matplotlib.lines.Line2D at 0x1213eb1d0>,\n",
       " <matplotlib.lines.Line2D at 0x1213eb3c8>,\n",
       " <matplotlib.lines.Line2D at 0x1213eb5c0>,\n",
       " <matplotlib.lines.Line2D at 0x1213eb7b8>,\n",
       " <matplotlib.lines.Line2D at 0x1213eb9b0>,\n",
       " <matplotlib.lines.Line2D at 0x1213ebba8>,\n",
       " <matplotlib.lines.Line2D at 0x1213ebda0>,\n",
       " <matplotlib.lines.Line2D at 0x1213ebf98>,\n",
       " <matplotlib.lines.Line2D at 0x1213f01d0>,\n",
       " <matplotlib.lines.Line2D at 0x1213f03c8>,\n",
       " <matplotlib.lines.Line2D at 0x1213f05c0>,\n",
       " <matplotlib.lines.Line2D at 0x1213f07b8>,\n",
       " <matplotlib.lines.Line2D at 0x1213f09b0>,\n",
       " <matplotlib.lines.Line2D at 0x1213f0ba8>,\n",
       " <matplotlib.lines.Line2D at 0x1213f0da0>,\n",
       " <matplotlib.lines.Line2D at 0x1213f0f98>,\n",
       " <matplotlib.lines.Line2D at 0x1213f51d0>,\n",
       " <matplotlib.lines.Line2D at 0x1213f53c8>,\n",
       " <matplotlib.lines.Line2D at 0x1213f55c0>,\n",
       " <matplotlib.lines.Line2D at 0x1213f57b8>,\n",
       " <matplotlib.lines.Line2D at 0x1213f59b0>,\n",
       " <matplotlib.lines.Line2D at 0x1213f5ba8>,\n",
       " <matplotlib.lines.Line2D at 0x1213f5da0>,\n",
       " <matplotlib.lines.Line2D at 0x1213f5f98>,\n",
       " <matplotlib.lines.Line2D at 0x1213fa1d0>,\n",
       " <matplotlib.lines.Line2D at 0x1213fa3c8>,\n",
       " <matplotlib.lines.Line2D at 0x1213fa5c0>,\n",
       " <matplotlib.lines.Line2D at 0x1213fa7b8>,\n",
       " <matplotlib.lines.Line2D at 0x1213fa9b0>,\n",
       " <matplotlib.lines.Line2D at 0x1213faba8>,\n",
       " <matplotlib.lines.Line2D at 0x1213fada0>,\n",
       " <matplotlib.lines.Line2D at 0x1213faf98>,\n",
       " <matplotlib.lines.Line2D at 0x1214021d0>,\n",
       " <matplotlib.lines.Line2D at 0x1214023c8>,\n",
       " <matplotlib.lines.Line2D at 0x1214025c0>,\n",
       " <matplotlib.lines.Line2D at 0x1214027b8>,\n",
       " <matplotlib.lines.Line2D at 0x1214029b0>,\n",
       " <matplotlib.lines.Line2D at 0x121402ba8>,\n",
       " <matplotlib.lines.Line2D at 0x121402da0>,\n",
       " <matplotlib.lines.Line2D at 0x121402f98>,\n",
       " <matplotlib.lines.Line2D at 0x1214071d0>,\n",
       " <matplotlib.lines.Line2D at 0x1214073c8>,\n",
       " <matplotlib.lines.Line2D at 0x1214075c0>,\n",
       " <matplotlib.lines.Line2D at 0x1214077b8>,\n",
       " <matplotlib.lines.Line2D at 0x1214079b0>,\n",
       " <matplotlib.lines.Line2D at 0x121407ba8>,\n",
       " <matplotlib.lines.Line2D at 0x121407da0>,\n",
       " <matplotlib.lines.Line2D at 0x121407f98>,\n",
       " <matplotlib.lines.Line2D at 0x12140d1d0>,\n",
       " <matplotlib.lines.Line2D at 0x12140d3c8>,\n",
       " <matplotlib.lines.Line2D at 0x12140d5c0>,\n",
       " <matplotlib.lines.Line2D at 0x12140d7b8>,\n",
       " <matplotlib.lines.Line2D at 0x12140d9b0>,\n",
       " <matplotlib.lines.Line2D at 0x12140dba8>,\n",
       " <matplotlib.lines.Line2D at 0x12140dda0>,\n",
       " <matplotlib.lines.Line2D at 0x12140df98>,\n",
       " <matplotlib.lines.Line2D at 0x1214111d0>,\n",
       " <matplotlib.lines.Line2D at 0x1214113c8>,\n",
       " <matplotlib.lines.Line2D at 0x1214115c0>,\n",
       " <matplotlib.lines.Line2D at 0x1214117b8>,\n",
       " <matplotlib.lines.Line2D at 0x1214119b0>,\n",
       " <matplotlib.lines.Line2D at 0x121411ba8>,\n",
       " <matplotlib.lines.Line2D at 0x121411da0>,\n",
       " <matplotlib.lines.Line2D at 0x121411f98>,\n",
       " <matplotlib.lines.Line2D at 0x1214161d0>,\n",
       " <matplotlib.lines.Line2D at 0x1214163c8>,\n",
       " <matplotlib.lines.Line2D at 0x1214165c0>,\n",
       " <matplotlib.lines.Line2D at 0x1214167b8>,\n",
       " <matplotlib.lines.Line2D at 0x1214169b0>,\n",
       " <matplotlib.lines.Line2D at 0x121416ba8>,\n",
       " <matplotlib.lines.Line2D at 0x121416da0>,\n",
       " <matplotlib.lines.Line2D at 0x121416f98>,\n",
       " <matplotlib.lines.Line2D at 0x12141e1d0>,\n",
       " <matplotlib.lines.Line2D at 0x12141e3c8>,\n",
       " <matplotlib.lines.Line2D at 0x12141e5c0>,\n",
       " <matplotlib.lines.Line2D at 0x12141e7b8>,\n",
       " <matplotlib.lines.Line2D at 0x12141e9b0>,\n",
       " <matplotlib.lines.Line2D at 0x12141eba8>,\n",
       " <matplotlib.lines.Line2D at 0x12141eda0>,\n",
       " <matplotlib.lines.Line2D at 0x12141ef98>,\n",
       " <matplotlib.lines.Line2D at 0x1214221d0>,\n",
       " <matplotlib.lines.Line2D at 0x1214223c8>,\n",
       " <matplotlib.lines.Line2D at 0x1214225c0>,\n",
       " <matplotlib.lines.Line2D at 0x1214227b8>,\n",
       " <matplotlib.lines.Line2D at 0x1214229b0>,\n",
       " <matplotlib.lines.Line2D at 0x121422ba8>,\n",
       " <matplotlib.lines.Line2D at 0x121422da0>,\n",
       " <matplotlib.lines.Line2D at 0x121422f98>,\n",
       " <matplotlib.lines.Line2D at 0x12142a1d0>,\n",
       " <matplotlib.lines.Line2D at 0x12142a3c8>,\n",
       " <matplotlib.lines.Line2D at 0x12142a5c0>,\n",
       " <matplotlib.lines.Line2D at 0x12142a7b8>,\n",
       " <matplotlib.lines.Line2D at 0x12142a9b0>,\n",
       " <matplotlib.lines.Line2D at 0x12142aba8>,\n",
       " <matplotlib.lines.Line2D at 0x12142ada0>,\n",
       " <matplotlib.lines.Line2D at 0x12142af98>,\n",
       " <matplotlib.lines.Line2D at 0x12142e1d0>,\n",
       " <matplotlib.lines.Line2D at 0x12142e3c8>,\n",
       " <matplotlib.lines.Line2D at 0x12142e5c0>,\n",
       " <matplotlib.lines.Line2D at 0x12142e7b8>,\n",
       " <matplotlib.lines.Line2D at 0x12142e9b0>,\n",
       " <matplotlib.lines.Line2D at 0x12142eba8>,\n",
       " <matplotlib.lines.Line2D at 0x12142eda0>,\n",
       " <matplotlib.lines.Line2D at 0x12142ef98>,\n",
       " <matplotlib.lines.Line2D at 0x1214331d0>,\n",
       " <matplotlib.lines.Line2D at 0x1214333c8>,\n",
       " <matplotlib.lines.Line2D at 0x1214335c0>,\n",
       " <matplotlib.lines.Line2D at 0x1214337b8>,\n",
       " <matplotlib.lines.Line2D at 0x1214339b0>,\n",
       " <matplotlib.lines.Line2D at 0x121433ba8>,\n",
       " <matplotlib.lines.Line2D at 0x121433da0>,\n",
       " <matplotlib.lines.Line2D at 0x121433f98>,\n",
       " <matplotlib.lines.Line2D at 0x1214391d0>,\n",
       " <matplotlib.lines.Line2D at 0x1214393c8>,\n",
       " <matplotlib.lines.Line2D at 0x1214395c0>,\n",
       " <matplotlib.lines.Line2D at 0x1214397b8>,\n",
       " <matplotlib.lines.Line2D at 0x1214399b0>,\n",
       " <matplotlib.lines.Line2D at 0x121439ba8>,\n",
       " <matplotlib.lines.Line2D at 0x121439da0>,\n",
       " <matplotlib.lines.Line2D at 0x121439f98>,\n",
       " <matplotlib.lines.Line2D at 0x1214401d0>,\n",
       " <matplotlib.lines.Line2D at 0x1214403c8>,\n",
       " <matplotlib.lines.Line2D at 0x1214405c0>,\n",
       " <matplotlib.lines.Line2D at 0x1214407b8>,\n",
       " <matplotlib.lines.Line2D at 0x1214409b0>,\n",
       " <matplotlib.lines.Line2D at 0x121440ba8>,\n",
       " <matplotlib.lines.Line2D at 0x121440da0>,\n",
       " <matplotlib.lines.Line2D at 0x121440f98>,\n",
       " <matplotlib.lines.Line2D at 0x1214451d0>,\n",
       " <matplotlib.lines.Line2D at 0x1214453c8>,\n",
       " <matplotlib.lines.Line2D at 0x1214455c0>,\n",
       " <matplotlib.lines.Line2D at 0x1214457b8>,\n",
       " <matplotlib.lines.Line2D at 0x1214459b0>,\n",
       " <matplotlib.lines.Line2D at 0x121445ba8>,\n",
       " <matplotlib.lines.Line2D at 0x121445da0>,\n",
       " <matplotlib.lines.Line2D at 0x121445f98>,\n",
       " <matplotlib.lines.Line2D at 0x1214491d0>,\n",
       " <matplotlib.lines.Line2D at 0x1214493c8>,\n",
       " <matplotlib.lines.Line2D at 0x1214495c0>,\n",
       " <matplotlib.lines.Line2D at 0x1214497b8>,\n",
       " <matplotlib.lines.Line2D at 0x1214499b0>,\n",
       " <matplotlib.lines.Line2D at 0x121449ba8>,\n",
       " <matplotlib.lines.Line2D at 0x121449da0>,\n",
       " <matplotlib.lines.Line2D at 0x121449f98>,\n",
       " <matplotlib.lines.Line2D at 0x1214501d0>,\n",
       " <matplotlib.lines.Line2D at 0x1214503c8>,\n",
       " <matplotlib.lines.Line2D at 0x1214505c0>,\n",
       " <matplotlib.lines.Line2D at 0x1214507b8>,\n",
       " <matplotlib.lines.Line2D at 0x1214509b0>,\n",
       " <matplotlib.lines.Line2D at 0x121450ba8>,\n",
       " <matplotlib.lines.Line2D at 0x121450da0>,\n",
       " <matplotlib.lines.Line2D at 0x121450f98>,\n",
       " <matplotlib.lines.Line2D at 0x1214551d0>,\n",
       " <matplotlib.lines.Line2D at 0x1214553c8>,\n",
       " <matplotlib.lines.Line2D at 0x1214555c0>,\n",
       " <matplotlib.lines.Line2D at 0x1214557b8>,\n",
       " <matplotlib.lines.Line2D at 0x1214559b0>,\n",
       " <matplotlib.lines.Line2D at 0x121455ba8>,\n",
       " <matplotlib.lines.Line2D at 0x121455da0>,\n",
       " <matplotlib.lines.Line2D at 0x121455f98>,\n",
       " <matplotlib.lines.Line2D at 0x12145c1d0>,\n",
       " <matplotlib.lines.Line2D at 0x12145c3c8>,\n",
       " <matplotlib.lines.Line2D at 0x12145c5c0>,\n",
       " <matplotlib.lines.Line2D at 0x12145c7b8>,\n",
       " <matplotlib.lines.Line2D at 0x12145c9b0>,\n",
       " <matplotlib.lines.Line2D at 0x12145cba8>,\n",
       " <matplotlib.lines.Line2D at 0x12145cda0>,\n",
       " <matplotlib.lines.Line2D at 0x12145cf98>,\n",
       " <matplotlib.lines.Line2D at 0x1214601d0>,\n",
       " <matplotlib.lines.Line2D at 0x1214603c8>,\n",
       " <matplotlib.lines.Line2D at 0x1214605c0>,\n",
       " <matplotlib.lines.Line2D at 0x1214607b8>,\n",
       " <matplotlib.lines.Line2D at 0x1214609b0>,\n",
       " <matplotlib.lines.Line2D at 0x121460ba8>,\n",
       " <matplotlib.lines.Line2D at 0x121460da0>,\n",
       " <matplotlib.lines.Line2D at 0x121460f98>,\n",
       " <matplotlib.lines.Line2D at 0x1214661d0>,\n",
       " <matplotlib.lines.Line2D at 0x1214663c8>,\n",
       " <matplotlib.lines.Line2D at 0x1214665c0>,\n",
       " <matplotlib.lines.Line2D at 0x1214667b8>,\n",
       " <matplotlib.lines.Line2D at 0x1214669b0>,\n",
       " <matplotlib.lines.Line2D at 0x121466ba8>,\n",
       " <matplotlib.lines.Line2D at 0x121466da0>,\n",
       " <matplotlib.lines.Line2D at 0x121466f98>,\n",
       " <matplotlib.lines.Line2D at 0x12146c1d0>,\n",
       " <matplotlib.lines.Line2D at 0x12146c3c8>,\n",
       " <matplotlib.lines.Line2D at 0x12146c5c0>,\n",
       " <matplotlib.lines.Line2D at 0x12146c7b8>,\n",
       " <matplotlib.lines.Line2D at 0x12146c9b0>,\n",
       " <matplotlib.lines.Line2D at 0x12146cba8>,\n",
       " <matplotlib.lines.Line2D at 0x12146cda0>,\n",
       " <matplotlib.lines.Line2D at 0x12146cf98>,\n",
       " <matplotlib.lines.Line2D at 0x1214721d0>,\n",
       " <matplotlib.lines.Line2D at 0x1214723c8>,\n",
       " <matplotlib.lines.Line2D at 0x1214725c0>,\n",
       " <matplotlib.lines.Line2D at 0x1214727b8>,\n",
       " <matplotlib.lines.Line2D at 0x1214729b0>,\n",
       " <matplotlib.lines.Line2D at 0x121472ba8>,\n",
       " <matplotlib.lines.Line2D at 0x121472da0>,\n",
       " <matplotlib.lines.Line2D at 0x121472f98>,\n",
       " <matplotlib.lines.Line2D at 0x1214781d0>,\n",
       " <matplotlib.lines.Line2D at 0x1214783c8>,\n",
       " <matplotlib.lines.Line2D at 0x1214785c0>,\n",
       " <matplotlib.lines.Line2D at 0x1214787b8>,\n",
       " <matplotlib.lines.Line2D at 0x1214789b0>,\n",
       " <matplotlib.lines.Line2D at 0x121478ba8>,\n",
       " <matplotlib.lines.Line2D at 0x121478da0>,\n",
       " <matplotlib.lines.Line2D at 0x121478f98>,\n",
       " <matplotlib.lines.Line2D at 0x12147e1d0>,\n",
       " <matplotlib.lines.Line2D at 0x12147e3c8>,\n",
       " <matplotlib.lines.Line2D at 0x12147e5c0>,\n",
       " <matplotlib.lines.Line2D at 0x12147e7b8>,\n",
       " <matplotlib.lines.Line2D at 0x12147e9b0>,\n",
       " <matplotlib.lines.Line2D at 0x12147eba8>,\n",
       " <matplotlib.lines.Line2D at 0x12147eda0>,\n",
       " <matplotlib.lines.Line2D at 0x12147ef98>,\n",
       " <matplotlib.lines.Line2D at 0x1214821d0>,\n",
       " <matplotlib.lines.Line2D at 0x1214823c8>,\n",
       " <matplotlib.lines.Line2D at 0x1214825c0>,\n",
       " <matplotlib.lines.Line2D at 0x1214827b8>,\n",
       " <matplotlib.lines.Line2D at 0x1214829b0>,\n",
       " <matplotlib.lines.Line2D at 0x121482ba8>,\n",
       " <matplotlib.lines.Line2D at 0x121482da0>,\n",
       " <matplotlib.lines.Line2D at 0x121482f98>,\n",
       " <matplotlib.lines.Line2D at 0x1214871d0>,\n",
       " <matplotlib.lines.Line2D at 0x1214873c8>,\n",
       " <matplotlib.lines.Line2D at 0x1214875c0>,\n",
       " <matplotlib.lines.Line2D at 0x1214877b8>,\n",
       " <matplotlib.lines.Line2D at 0x1214879b0>,\n",
       " <matplotlib.lines.Line2D at 0x121487ba8>,\n",
       " <matplotlib.lines.Line2D at 0x121487da0>,\n",
       " <matplotlib.lines.Line2D at 0x121487f98>,\n",
       " <matplotlib.lines.Line2D at 0x12148d1d0>,\n",
       " <matplotlib.lines.Line2D at 0x12148d3c8>,\n",
       " <matplotlib.lines.Line2D at 0x12148d5c0>,\n",
       " <matplotlib.lines.Line2D at 0x12148d7b8>,\n",
       " <matplotlib.lines.Line2D at 0x12148d9b0>,\n",
       " <matplotlib.lines.Line2D at 0x12148dba8>,\n",
       " <matplotlib.lines.Line2D at 0x12148dda0>,\n",
       " <matplotlib.lines.Line2D at 0x12148df98>,\n",
       " <matplotlib.lines.Line2D at 0x1214951d0>,\n",
       " <matplotlib.lines.Line2D at 0x1214953c8>,\n",
       " <matplotlib.lines.Line2D at 0x1214955c0>,\n",
       " <matplotlib.lines.Line2D at 0x1214957b8>,\n",
       " <matplotlib.lines.Line2D at 0x1214959b0>,\n",
       " <matplotlib.lines.Line2D at 0x121495ba8>,\n",
       " <matplotlib.lines.Line2D at 0x121495da0>,\n",
       " <matplotlib.lines.Line2D at 0x121495f98>,\n",
       " <matplotlib.lines.Line2D at 0x12149b1d0>,\n",
       " <matplotlib.lines.Line2D at 0x12149b3c8>,\n",
       " <matplotlib.lines.Line2D at 0x12149b5c0>,\n",
       " <matplotlib.lines.Line2D at 0x12149b7b8>,\n",
       " <matplotlib.lines.Line2D at 0x12149b9b0>,\n",
       " <matplotlib.lines.Line2D at 0x12149bba8>,\n",
       " <matplotlib.lines.Line2D at 0x12149bda0>,\n",
       " <matplotlib.lines.Line2D at 0x12149bf98>,\n",
       " <matplotlib.lines.Line2D at 0x12149e1d0>,\n",
       " <matplotlib.lines.Line2D at 0x12149e3c8>,\n",
       " <matplotlib.lines.Line2D at 0x12149e5c0>,\n",
       " <matplotlib.lines.Line2D at 0x12149e7b8>,\n",
       " <matplotlib.lines.Line2D at 0x12149e9b0>,\n",
       " ...]"
      ]
     },
     "execution_count": 3,
     "metadata": {},
     "output_type": "execute_result"
    },
    {
     "data": {
      "image/png": "[encoded data removed]",
      "text/plain": [
       "<matplotlib.figure.Figure at 0x10cd117f0>"
      ]
     },
     "metadata": {},
     "output_type": "display_data"
    }
   ],
   "source": [
    "nwalks = 5000\n",
    "nsteps = 1000\n",
    "draws = np.random.randint(0, 2, size=(nwalks, nsteps)) # 0 or 1\n",
    "steps = np.where(draws > 0, 1, -1)\n",
    "walks = steps.cumsum(1)\n",
    "X = range(1000)\n",
    "plt.plot(X,walks.T)"
   ]
  },
  {
   "cell_type": "code",
   "execution_count": 4,
   "metadata": {
    "collapsed": false
   },
   "outputs": [
    {
     "name": "stdout",
     "output_type": "stream",
     "text": [
      "126\n",
      "-115\n"
     ]
    }
   ],
   "source": [
    "print(walks.max())\n",
    "print(walks.min())"
   ]
  },
  {
   "cell_type": "code",
   "execution_count": 5,
   "metadata": {
    "collapsed": false
   },
   "outputs": [
    {
     "data": {
      "text/plain": [
       "3384"
      ]
     },
     "execution_count": 5,
     "metadata": {},
     "output_type": "execute_result"
    }
   ],
   "source": [
    "hits30 = (np.abs(walks) >= 30).any(1)\n",
    "hits30\n",
    "hits30.sum() # Number that hit 30 or -30"
   ]
  },
  {
   "cell_type": "code",
   "execution_count": 6,
   "metadata": {
    "collapsed": false
   },
   "outputs": [
    {
     "data": {
      "text/plain": [
       "503.45390070921985"
      ]
     },
     "execution_count": 6,
     "metadata": {},
     "output_type": "execute_result"
    }
   ],
   "source": [
    "crossing_times = (np.abs(walks[hits30]) >= 30).argmax(1)\n",
    "crossing_times.mean()"
   ]
  },
  {
   "cell_type": "code",
   "execution_count": 8,
   "metadata": {
    "collapsed": false
   },
   "outputs": [
    {
     "data": {
      "text/plain": [
       "array([[ 0.03286574, -0.45207339,  0.17026854, ...,  0.27212713,\n",
       "        -0.31667164,  0.27444454],\n",
       "       [ 0.01559133,  0.38612333, -0.0041582 , ...,  0.20513382,\n",
       "        -0.27255838,  0.24467084],\n",
       "       [ 0.31672773, -0.1436589 ,  0.19202007, ...,  0.55997996,\n",
       "        -0.04651806, -0.20882187],\n",
       "       ..., \n",
       "       [ 0.21754568, -0.0075774 ,  0.06407988, ...,  0.21964187,\n",
       "         0.38577389, -0.15963637],\n",
       "       [ 0.17128004, -0.45363438,  0.20921587, ...,  0.05007464,\n",
       "        -0.3100797 , -0.32913814],\n",
       "       [-0.08854988, -0.07950819, -0.23258406, ...,  0.04237744,\n",
       "         0.1356457 , -0.0150747 ]])"
      ]
     },
     "execution_count": 8,
     "metadata": {},
     "output_type": "execute_result"
    }
   ],
   "source": [
    "steps = np.random.normal(loc=0, scale=0.25,\n",
    "                         size=(nwalks, nsteps))\n",
    "steps"
   ]
  },
  {
   "cell_type": "markdown",
   "metadata": {
    "collapsed": true
   },
   "source": [
    "## 参考资料\n",
    "\n",
    "- [^1]: [一大波金融Library来袭之numpy篇](https://uqer.io/community/share/54ca15f9f9f06c276f651a56)\n",
    "- [^2]: [司空格子Ored 的笔记](http://www.cnblogs.com/batteryhp/p/5000104.html)"
   ]
  },
  {
   "cell_type": "code",
   "execution_count": null,
   "metadata": {
    "collapsed": true
   },
   "outputs": [],
   "source": []
  }
 ],
 "metadata": {
  "kernelspec": {
   "display_name": "Python 3",
   "language": "python",
   "name": "python3"
  },
  "language_info": {
   "codemirror_mode": {
    "name": "ipython",
    "version": 3
   },
   "file_extension": ".py",
   "mimetype": "text/x-python",
   "name": "python",
   "nbconvert_exporter": "python",
   "pygments_lexer": "ipython3",
   "version": "3.6.0"
  }
 },
 "nbformat": 4,
 "nbformat_minor": 0
}
