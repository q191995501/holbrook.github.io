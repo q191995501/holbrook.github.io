{
 "cells": [
  {
   "cell_type": "markdown",
   "metadata": {},
   "source": [
    "《[利用Python进行数据分析](https://book.douban.com/subject/25779298/)》读书笔记。\n",
    " \n",
    " [第10章](/2017/07/20/python_data_analysis10.html)  第6节：重采样及频率转换\n",
    "\n",
    "所有用到的数据可以从[作者的 github](https://github.com/wesm/pydata-book)下载。\n"
   ]
  },
  {
   "cell_type": "code",
   "execution_count": 1,
   "metadata": {
    "collapsed": false
   },
   "outputs": [
    {
     "name": "stdout",
     "output_type": "stream",
     "text": [
      "Populating the interactive namespace from numpy and matplotlib\n"
     ]
    }
   ],
   "source": [
    "%pylab inline\n",
    "import pandas as pd\n",
    "from datetime import datetime\n",
    "from pandas import Series, DataFrame"
   ]
  },
  {
   "cell_type": "markdown",
   "metadata": {},
   "source": [
    "pandas对象都提供了resample方法，用于重采样。\n",
    "\n",
    "对于时间序列来说，重采样（resampling）指的是将时间序列从一个频率转换到另一个频率的过程。\n",
    "\n",
    "其中两类特殊的重采样是：将高频率数据聚合到低频率称为降采样（downsampling），而将低频率数据转换到高频率称为升采样（uosampling）。\n",
    "\n",
    "并不是所有的重采样都能被划分到这两类中，比如将W-WED转换为W-FRI既不是降采样也不是升采样。"
   ]
  },
  {
   "cell_type": "code",
   "execution_count": 3,
   "metadata": {
    "collapsed": false
   },
   "outputs": [
    {
     "data": {
      "text/plain": [
       "2000-01-31   -0.102857\n",
       "2000-02-29    0.042360\n",
       "2000-03-31   -0.065909\n",
       "2000-04-30   -0.058290\n",
       "Freq: M, dtype: float64"
      ]
     },
     "execution_count": 3,
     "metadata": {},
     "output_type": "execute_result"
    }
   ],
   "source": [
    "rng = pd.date_range('1/1/2000', periods=100, freq='D')\n",
    "ts = Series(randn(len(rng)), index=rng)\n",
    "ts.resample('M').mean()"
   ]
  },
  {
   "cell_type": "code",
   "execution_count": 4,
   "metadata": {
    "collapsed": false
   },
   "outputs": [
    {
     "data": {
      "text/plain": [
       "2000-01   -0.102857\n",
       "2000-02    0.042360\n",
       "2000-03   -0.065909\n",
       "2000-04   -0.058290\n",
       "Freq: M, dtype: float64"
      ]
     },
     "execution_count": 4,
     "metadata": {},
     "output_type": "execute_result"
    }
   ],
   "source": [
    "ts.resample('M', kind='period').mean()"
   ]
  },
  {
   "cell_type": "markdown",
   "metadata": {
    "collapsed": false
   },
   "source": [
    "resample方法的主要参数包括：\n",
    "\n",
    "![重采样参数](resample_params.png)\n",
    "![重采样参数（续）](resample_params1.png)"
   ]
  },
  {
   "cell_type": "markdown",
   "metadata": {
    "collapsed": false
   },
   "source": [
    "## 降采样\n",
    "\n",
    "将数据的频率降低称为降采样，也就是将数据进行聚合。\n",
    "一个数据点只能属于一个聚合时间段，所有时间段的并集组成整个时间帧。\n",
    "在进行降采样时，应该考虑如下：\n",
    "\n",
    "- 各区间那便是闭合的\n",
    "- 如何标记各个聚合面元，用区间的开头还是结尾"
   ]
  },
  {
   "cell_type": "code",
   "execution_count": 6,
   "metadata": {
    "collapsed": false
   },
   "outputs": [
    {
     "data": {
      "text/plain": [
       "2000-01-01 00:00:00     0\n",
       "2000-01-01 00:01:00     1\n",
       "2000-01-01 00:02:00     2\n",
       "2000-01-01 00:03:00     3\n",
       "2000-01-01 00:04:00     4\n",
       "2000-01-01 00:05:00     5\n",
       "2000-01-01 00:06:00     6\n",
       "2000-01-01 00:07:00     7\n",
       "2000-01-01 00:08:00     8\n",
       "2000-01-01 00:09:00     9\n",
       "2000-01-01 00:10:00    10\n",
       "2000-01-01 00:11:00    11\n",
       "Freq: T, dtype: int32"
      ]
     },
     "execution_count": 6,
     "metadata": {},
     "output_type": "execute_result"
    }
   ],
   "source": [
    "# 1分钟数据\n",
    "rng = pd.date_range('1/1/2000', periods=12, freq='T')\n",
    "ts = Series(np.arange(12), index=rng)\n",
    "ts"
   ]
  },
  {
   "cell_type": "code",
   "execution_count": 14,
   "metadata": {
    "collapsed": false
   },
   "outputs": [
    {
     "data": {
      "text/plain": [
       "2000-01-01 00:00:00     4\n",
       "2000-01-01 00:05:00     9\n",
       "2000-01-01 00:10:00    11\n",
       "Freq: 5T, dtype: int32"
      ]
     },
     "execution_count": 14,
     "metadata": {},
     "output_type": "execute_result"
    }
   ],
   "source": [
    "# 聚合到5分钟\n",
    "# 注意:默认情况下，为 闭-开区间\n",
    "ts.resample('5min').last()"
   ]
  },
  {
   "cell_type": "code",
   "execution_count": 21,
   "metadata": {
    "collapsed": false
   },
   "outputs": [
    {
     "data": {
      "text/plain": [
       "1999-12-31 23:55:00     0\n",
       "2000-01-01 00:00:00     5\n",
       "2000-01-01 00:05:00    10\n",
       "2000-01-01 00:10:00    11\n",
       "Freq: 5T, dtype: int32"
      ]
     },
     "execution_count": 21,
     "metadata": {},
     "output_type": "execute_result"
    }
   ],
   "source": [
    "# 指定closed = 'right' 改为 开- 闭 区间\n",
    "ts.resample('5min', closed='right').last()"
   ]
  },
  {
   "cell_type": "code",
   "execution_count": 22,
   "metadata": {
    "collapsed": false
   },
   "outputs": [
    {
     "data": {
      "text/plain": [
       "2000-01-01 00:00:00     0\n",
       "2000-01-01 00:05:00     5\n",
       "2000-01-01 00:10:00    10\n",
       "2000-01-01 00:15:00    11\n",
       "Freq: 5T, dtype: int32"
      ]
     },
     "execution_count": 22,
     "metadata": {},
     "output_type": "execute_result"
    }
   ],
   "source": [
    "# 指定使用右侧标记作为标签\n",
    "ts.resample('5min', closed='right', label='right').last()"
   ]
  },
  {
   "cell_type": "code",
   "execution_count": 24,
   "metadata": {
    "collapsed": false
   },
   "outputs": [
    {
     "data": {
      "text/plain": [
       "1999-12-31 23:59:59     4\n",
       "2000-01-01 00:04:59     9\n",
       "2000-01-01 00:09:59    11\n",
       "Freq: 5T, dtype: int32"
      ]
     },
     "execution_count": 24,
     "metadata": {},
     "output_type": "execute_result"
    }
   ],
   "source": [
    "# 对结果索引做一些位移\n",
    "ts.resample('5min', loffset='-1s').last()\n",
    "\n",
    "# 也可以通过调用结果对象的shift方法来实现。"
   ]
  },
  {
   "cell_type": "markdown",
   "metadata": {
    "collapsed": false
   },
   "source": [
    "### OHLC重采样\n",
    "\n",
    "对于ohlc数据，pandas做了专门处理"
   ]
  },
  {
   "cell_type": "code",
   "execution_count": 26,
   "metadata": {
    "collapsed": false
   },
   "outputs": [
    {
     "data": {
      "text/html": [
       "<div>\n",
       "<table border=\"1\" class=\"dataframe\">\n",
       "  <thead>\n",
       "    <tr style=\"text-align: right;\">\n",
       "      <th></th>\n",
       "      <th>open</th>\n",
       "      <th>high</th>\n",
       "      <th>low</th>\n",
       "      <th>close</th>\n",
       "    </tr>\n",
       "  </thead>\n",
       "  <tbody>\n",
       "    <tr>\n",
       "      <th>2000-01-01 00:00:00</th>\n",
       "      <td>0</td>\n",
       "      <td>4</td>\n",
       "      <td>0</td>\n",
       "      <td>4</td>\n",
       "    </tr>\n",
       "    <tr>\n",
       "      <th>2000-01-01 00:05:00</th>\n",
       "      <td>5</td>\n",
       "      <td>9</td>\n",
       "      <td>5</td>\n",
       "      <td>9</td>\n",
       "    </tr>\n",
       "    <tr>\n",
       "      <th>2000-01-01 00:10:00</th>\n",
       "      <td>10</td>\n",
       "      <td>11</td>\n",
       "      <td>10</td>\n",
       "      <td>11</td>\n",
       "    </tr>\n",
       "  </tbody>\n",
       "</table>\n",
       "</div>"
      ],
      "text/plain": [
       "                     open  high  low  close\n",
       "2000-01-01 00:00:00     0     4    0      4\n",
       "2000-01-01 00:05:00     5     9    5      9\n",
       "2000-01-01 00:10:00    10    11   10     11"
      ]
     },
     "execution_count": 26,
     "metadata": {},
     "output_type": "execute_result"
    }
   ],
   "source": [
    "ts.resample('5min').ohlc()"
   ]
  },
  {
   "cell_type": "markdown",
   "metadata": {
    "collapsed": false
   },
   "source": [
    "### 通过groupby进行重采样\n",
    "\n",
    "另一种方法是使用pandas的groupby功能。例如，你打算根据月份或者周几进行分组，只需传入一个能够访问时间序列的索引上的这些字段的函数即可："
   ]
  },
  {
   "cell_type": "code",
   "execution_count": 27,
   "metadata": {
    "collapsed": false
   },
   "outputs": [
    {
     "data": {
      "text/plain": [
       "1    15\n",
       "2    45\n",
       "3    75\n",
       "4    95\n",
       "dtype: int32"
      ]
     },
     "execution_count": 27,
     "metadata": {},
     "output_type": "execute_result"
    }
   ],
   "source": [
    "rng = pd.date_range('1/1/2000', periods=100, freq='D')\n",
    "ts = Series(np.arange(100), index=rng)\n",
    "ts.groupby(lambda x: x.month).mean()"
   ]
  },
  {
   "cell_type": "code",
   "execution_count": 28,
   "metadata": {
    "collapsed": false
   },
   "outputs": [
    {
     "data": {
      "text/plain": [
       "0    47.5\n",
       "1    48.5\n",
       "2    49.5\n",
       "3    50.5\n",
       "4    51.5\n",
       "5    49.0\n",
       "6    50.0\n",
       "dtype: float64"
      ]
     },
     "execution_count": 28,
     "metadata": {},
     "output_type": "execute_result"
    }
   ],
   "source": [
    "ts.groupby(lambda x: x.weekday).mean()"
   ]
  },
  {
   "cell_type": "markdown",
   "metadata": {
    "collapsed": false
   },
   "source": [
    "## 升采样和插值\n",
    "\n",
    "将数据从低频率转换到高频率时，就不需要聚合了。"
   ]
  },
  {
   "cell_type": "code",
   "execution_count": 29,
   "metadata": {
    "collapsed": false
   },
   "outputs": [
    {
     "data": {
      "text/html": [
       "<div>\n",
       "<table border=\"1\" class=\"dataframe\">\n",
       "  <thead>\n",
       "    <tr style=\"text-align: right;\">\n",
       "      <th></th>\n",
       "      <th>Colorado</th>\n",
       "      <th>Texas</th>\n",
       "      <th>New York</th>\n",
       "      <th>Ohio</th>\n",
       "    </tr>\n",
       "  </thead>\n",
       "  <tbody>\n",
       "    <tr>\n",
       "      <th>2000-01-05</th>\n",
       "      <td>-0.847635</td>\n",
       "      <td>0.66079</td>\n",
       "      <td>2.916199</td>\n",
       "      <td>-0.503541</td>\n",
       "    </tr>\n",
       "    <tr>\n",
       "      <th>2000-01-12</th>\n",
       "      <td>0.052009</td>\n",
       "      <td>-0.76434</td>\n",
       "      <td>-1.662339</td>\n",
       "      <td>0.125280</td>\n",
       "    </tr>\n",
       "  </tbody>\n",
       "</table>\n",
       "</div>"
      ],
      "text/plain": [
       "            Colorado    Texas  New York      Ohio\n",
       "2000-01-05 -0.847635  0.66079  2.916199 -0.503541\n",
       "2000-01-12  0.052009 -0.76434 -1.662339  0.125280"
      ]
     },
     "execution_count": 29,
     "metadata": {},
     "output_type": "execute_result"
    }
   ],
   "source": [
    "frame = DataFrame(np.random.randn(2, 4),\n",
    "                  index=pd.date_range('1/1/2000', periods=2, freq='W-WED'),\n",
    "                  columns=['Colorado', 'Texas', 'New York', 'Ohio'])\n",
    "frame"
   ]
  },
  {
   "cell_type": "code",
   "execution_count": 32,
   "metadata": {
    "collapsed": false
   },
   "outputs": [
    {
     "data": {
      "text/html": [
       "<div>\n",
       "<table border=\"1\" class=\"dataframe\">\n",
       "  <thead>\n",
       "    <tr style=\"text-align: right;\">\n",
       "      <th></th>\n",
       "      <th>Colorado</th>\n",
       "      <th>Texas</th>\n",
       "      <th>New York</th>\n",
       "      <th>Ohio</th>\n",
       "    </tr>\n",
       "  </thead>\n",
       "  <tbody>\n",
       "    <tr>\n",
       "      <th>2000-01-05</th>\n",
       "      <td>-0.847635</td>\n",
       "      <td>0.66079</td>\n",
       "      <td>2.916199</td>\n",
       "      <td>-0.503541</td>\n",
       "    </tr>\n",
       "    <tr>\n",
       "      <th>2000-01-06</th>\n",
       "      <td>NaN</td>\n",
       "      <td>NaN</td>\n",
       "      <td>NaN</td>\n",
       "      <td>NaN</td>\n",
       "    </tr>\n",
       "    <tr>\n",
       "      <th>2000-01-07</th>\n",
       "      <td>NaN</td>\n",
       "      <td>NaN</td>\n",
       "      <td>NaN</td>\n",
       "      <td>NaN</td>\n",
       "    </tr>\n",
       "    <tr>\n",
       "      <th>2000-01-08</th>\n",
       "      <td>NaN</td>\n",
       "      <td>NaN</td>\n",
       "      <td>NaN</td>\n",
       "      <td>NaN</td>\n",
       "    </tr>\n",
       "    <tr>\n",
       "      <th>2000-01-09</th>\n",
       "      <td>NaN</td>\n",
       "      <td>NaN</td>\n",
       "      <td>NaN</td>\n",
       "      <td>NaN</td>\n",
       "    </tr>\n",
       "    <tr>\n",
       "      <th>2000-01-10</th>\n",
       "      <td>NaN</td>\n",
       "      <td>NaN</td>\n",
       "      <td>NaN</td>\n",
       "      <td>NaN</td>\n",
       "    </tr>\n",
       "    <tr>\n",
       "      <th>2000-01-11</th>\n",
       "      <td>NaN</td>\n",
       "      <td>NaN</td>\n",
       "      <td>NaN</td>\n",
       "      <td>NaN</td>\n",
       "    </tr>\n",
       "    <tr>\n",
       "      <th>2000-01-12</th>\n",
       "      <td>0.052009</td>\n",
       "      <td>-0.76434</td>\n",
       "      <td>-1.662339</td>\n",
       "      <td>0.125280</td>\n",
       "    </tr>\n",
       "  </tbody>\n",
       "</table>\n",
       "</div>"
      ],
      "text/plain": [
       "            Colorado    Texas  New York      Ohio\n",
       "2000-01-05 -0.847635  0.66079  2.916199 -0.503541\n",
       "2000-01-06       NaN      NaN       NaN       NaN\n",
       "2000-01-07       NaN      NaN       NaN       NaN\n",
       "2000-01-08       NaN      NaN       NaN       NaN\n",
       "2000-01-09       NaN      NaN       NaN       NaN\n",
       "2000-01-10       NaN      NaN       NaN       NaN\n",
       "2000-01-11       NaN      NaN       NaN       NaN\n",
       "2000-01-12  0.052009 -0.76434 -1.662339  0.125280"
      ]
     },
     "execution_count": 32,
     "metadata": {},
     "output_type": "execute_result"
    }
   ],
   "source": [
    "# 重采样到日频率，默认会引入缺失值\n",
    "df_daily = frame.resample('D')\n",
    "df_daily.last()"
   ]
  },
  {
   "cell_type": "code",
   "execution_count": 34,
   "metadata": {
    "collapsed": false
   },
   "outputs": [
    {
     "data": {
      "text/html": [
       "<div>\n",
       "<table border=\"1\" class=\"dataframe\">\n",
       "  <thead>\n",
       "    <tr style=\"text-align: right;\">\n",
       "      <th></th>\n",
       "      <th>Colorado</th>\n",
       "      <th>Texas</th>\n",
       "      <th>New York</th>\n",
       "      <th>Ohio</th>\n",
       "    </tr>\n",
       "  </thead>\n",
       "  <tbody>\n",
       "    <tr>\n",
       "      <th>2000-01-05</th>\n",
       "      <td>-0.847635</td>\n",
       "      <td>0.66079</td>\n",
       "      <td>2.916199</td>\n",
       "      <td>-0.503541</td>\n",
       "    </tr>\n",
       "    <tr>\n",
       "      <th>2000-01-06</th>\n",
       "      <td>-0.847635</td>\n",
       "      <td>0.66079</td>\n",
       "      <td>2.916199</td>\n",
       "      <td>-0.503541</td>\n",
       "    </tr>\n",
       "    <tr>\n",
       "      <th>2000-01-07</th>\n",
       "      <td>-0.847635</td>\n",
       "      <td>0.66079</td>\n",
       "      <td>2.916199</td>\n",
       "      <td>-0.503541</td>\n",
       "    </tr>\n",
       "    <tr>\n",
       "      <th>2000-01-08</th>\n",
       "      <td>-0.847635</td>\n",
       "      <td>0.66079</td>\n",
       "      <td>2.916199</td>\n",
       "      <td>-0.503541</td>\n",
       "    </tr>\n",
       "    <tr>\n",
       "      <th>2000-01-09</th>\n",
       "      <td>-0.847635</td>\n",
       "      <td>0.66079</td>\n",
       "      <td>2.916199</td>\n",
       "      <td>-0.503541</td>\n",
       "    </tr>\n",
       "    <tr>\n",
       "      <th>2000-01-10</th>\n",
       "      <td>-0.847635</td>\n",
       "      <td>0.66079</td>\n",
       "      <td>2.916199</td>\n",
       "      <td>-0.503541</td>\n",
       "    </tr>\n",
       "    <tr>\n",
       "      <th>2000-01-11</th>\n",
       "      <td>-0.847635</td>\n",
       "      <td>0.66079</td>\n",
       "      <td>2.916199</td>\n",
       "      <td>-0.503541</td>\n",
       "    </tr>\n",
       "    <tr>\n",
       "      <th>2000-01-12</th>\n",
       "      <td>0.052009</td>\n",
       "      <td>-0.76434</td>\n",
       "      <td>-1.662339</td>\n",
       "      <td>0.125280</td>\n",
       "    </tr>\n",
       "  </tbody>\n",
       "</table>\n",
       "</div>"
      ],
      "text/plain": [
       "            Colorado    Texas  New York      Ohio\n",
       "2000-01-05 -0.847635  0.66079  2.916199 -0.503541\n",
       "2000-01-06 -0.847635  0.66079  2.916199 -0.503541\n",
       "2000-01-07 -0.847635  0.66079  2.916199 -0.503541\n",
       "2000-01-08 -0.847635  0.66079  2.916199 -0.503541\n",
       "2000-01-09 -0.847635  0.66079  2.916199 -0.503541\n",
       "2000-01-10 -0.847635  0.66079  2.916199 -0.503541\n",
       "2000-01-11 -0.847635  0.66079  2.916199 -0.503541\n",
       "2000-01-12  0.052009 -0.76434 -1.662339  0.125280"
      ]
     },
     "execution_count": 34,
     "metadata": {},
     "output_type": "execute_result"
    }
   ],
   "source": [
    "# 可以跟fillna和reindex一样进行填充\n",
    "frame.resample('D').ffill()"
   ]
  },
  {
   "cell_type": "code",
   "execution_count": 37,
   "metadata": {
    "collapsed": false
   },
   "outputs": [
    {
     "data": {
      "text/html": [
       "<div>\n",
       "<table border=\"1\" class=\"dataframe\">\n",
       "  <thead>\n",
       "    <tr style=\"text-align: right;\">\n",
       "      <th></th>\n",
       "      <th>Colorado</th>\n",
       "      <th>Texas</th>\n",
       "      <th>New York</th>\n",
       "      <th>Ohio</th>\n",
       "    </tr>\n",
       "  </thead>\n",
       "  <tbody>\n",
       "    <tr>\n",
       "      <th>2000-01-05</th>\n",
       "      <td>-0.847635</td>\n",
       "      <td>0.66079</td>\n",
       "      <td>2.916199</td>\n",
       "      <td>-0.503541</td>\n",
       "    </tr>\n",
       "    <tr>\n",
       "      <th>2000-01-06</th>\n",
       "      <td>-0.847635</td>\n",
       "      <td>0.66079</td>\n",
       "      <td>2.916199</td>\n",
       "      <td>-0.503541</td>\n",
       "    </tr>\n",
       "    <tr>\n",
       "      <th>2000-01-07</th>\n",
       "      <td>-0.847635</td>\n",
       "      <td>0.66079</td>\n",
       "      <td>2.916199</td>\n",
       "      <td>-0.503541</td>\n",
       "    </tr>\n",
       "    <tr>\n",
       "      <th>2000-01-08</th>\n",
       "      <td>NaN</td>\n",
       "      <td>NaN</td>\n",
       "      <td>NaN</td>\n",
       "      <td>NaN</td>\n",
       "    </tr>\n",
       "    <tr>\n",
       "      <th>2000-01-09</th>\n",
       "      <td>NaN</td>\n",
       "      <td>NaN</td>\n",
       "      <td>NaN</td>\n",
       "      <td>NaN</td>\n",
       "    </tr>\n",
       "    <tr>\n",
       "      <th>2000-01-10</th>\n",
       "      <td>NaN</td>\n",
       "      <td>NaN</td>\n",
       "      <td>NaN</td>\n",
       "      <td>NaN</td>\n",
       "    </tr>\n",
       "    <tr>\n",
       "      <th>2000-01-11</th>\n",
       "      <td>NaN</td>\n",
       "      <td>NaN</td>\n",
       "      <td>NaN</td>\n",
       "      <td>NaN</td>\n",
       "    </tr>\n",
       "    <tr>\n",
       "      <th>2000-01-12</th>\n",
       "      <td>0.052009</td>\n",
       "      <td>-0.76434</td>\n",
       "      <td>-1.662339</td>\n",
       "      <td>0.125280</td>\n",
       "    </tr>\n",
       "  </tbody>\n",
       "</table>\n",
       "</div>"
      ],
      "text/plain": [
       "            Colorado    Texas  New York      Ohio\n",
       "2000-01-05 -0.847635  0.66079  2.916199 -0.503541\n",
       "2000-01-06 -0.847635  0.66079  2.916199 -0.503541\n",
       "2000-01-07 -0.847635  0.66079  2.916199 -0.503541\n",
       "2000-01-08       NaN      NaN       NaN       NaN\n",
       "2000-01-09       NaN      NaN       NaN       NaN\n",
       "2000-01-10       NaN      NaN       NaN       NaN\n",
       "2000-01-11       NaN      NaN       NaN       NaN\n",
       "2000-01-12  0.052009 -0.76434 -1.662339  0.125280"
      ]
     },
     "execution_count": 37,
     "metadata": {},
     "output_type": "execute_result"
    }
   ],
   "source": [
    "# 只填充指定的时期数（目的是限制前面的观测值的持续使用距离）\n",
    "frame.resample('D').ffill(limit=2)"
   ]
  },
  {
   "cell_type": "code",
   "execution_count": 38,
   "metadata": {
    "collapsed": false
   },
   "outputs": [
    {
     "data": {
      "text/html": [
       "<div>\n",
       "<table border=\"1\" class=\"dataframe\">\n",
       "  <thead>\n",
       "    <tr style=\"text-align: right;\">\n",
       "      <th></th>\n",
       "      <th>Colorado</th>\n",
       "      <th>Texas</th>\n",
       "      <th>New York</th>\n",
       "      <th>Ohio</th>\n",
       "    </tr>\n",
       "  </thead>\n",
       "  <tbody>\n",
       "    <tr>\n",
       "      <th>2000-01-06</th>\n",
       "      <td>-0.847635</td>\n",
       "      <td>0.66079</td>\n",
       "      <td>2.916199</td>\n",
       "      <td>-0.503541</td>\n",
       "    </tr>\n",
       "    <tr>\n",
       "      <th>2000-01-13</th>\n",
       "      <td>0.052009</td>\n",
       "      <td>-0.76434</td>\n",
       "      <td>-1.662339</td>\n",
       "      <td>0.125280</td>\n",
       "    </tr>\n",
       "  </tbody>\n",
       "</table>\n",
       "</div>"
      ],
      "text/plain": [
       "            Colorado    Texas  New York      Ohio\n",
       "2000-01-06 -0.847635  0.66079  2.916199 -0.503541\n",
       "2000-01-13  0.052009 -0.76434 -1.662339  0.125280"
      ]
     },
     "execution_count": 38,
     "metadata": {},
     "output_type": "execute_result"
    }
   ],
   "source": [
    "# 注意，新的日期索引完全没必要跟旧的相交,注意这个例子展现了数据日期可以延长\n",
    "frame.resample('W-THU').ffill()"
   ]
  },
  {
   "cell_type": "markdown",
   "metadata": {},
   "source": [
    "## 通过时期进行重采样\n",
    "\n",
    "对那些使用时期索引的数据进行重采样是一件非常简单的事情。"
   ]
  },
  {
   "cell_type": "code",
   "execution_count": 39,
   "metadata": {
    "collapsed": false
   },
   "outputs": [
    {
     "data": {
      "text/html": [
       "<div>\n",
       "<table border=\"1\" class=\"dataframe\">\n",
       "  <thead>\n",
       "    <tr style=\"text-align: right;\">\n",
       "      <th></th>\n",
       "      <th>Colorado</th>\n",
       "      <th>Texas</th>\n",
       "      <th>New York</th>\n",
       "      <th>Ohio</th>\n",
       "    </tr>\n",
       "  </thead>\n",
       "  <tbody>\n",
       "    <tr>\n",
       "      <th>2000-01</th>\n",
       "      <td>2.001633</td>\n",
       "      <td>0.637625</td>\n",
       "      <td>0.422806</td>\n",
       "      <td>-1.233967</td>\n",
       "    </tr>\n",
       "    <tr>\n",
       "      <th>2000-02</th>\n",
       "      <td>0.214921</td>\n",
       "      <td>-0.561227</td>\n",
       "      <td>-0.155320</td>\n",
       "      <td>-2.211660</td>\n",
       "    </tr>\n",
       "    <tr>\n",
       "      <th>2000-03</th>\n",
       "      <td>-0.584018</td>\n",
       "      <td>-0.205559</td>\n",
       "      <td>1.276460</td>\n",
       "      <td>-2.255439</td>\n",
       "    </tr>\n",
       "    <tr>\n",
       "      <th>2000-04</th>\n",
       "      <td>0.346297</td>\n",
       "      <td>0.188510</td>\n",
       "      <td>-1.720630</td>\n",
       "      <td>-0.742461</td>\n",
       "    </tr>\n",
       "    <tr>\n",
       "      <th>2000-05</th>\n",
       "      <td>-0.908527</td>\n",
       "      <td>0.315601</td>\n",
       "      <td>-0.507128</td>\n",
       "      <td>-0.449549</td>\n",
       "    </tr>\n",
       "  </tbody>\n",
       "</table>\n",
       "</div>"
      ],
      "text/plain": [
       "         Colorado     Texas  New York      Ohio\n",
       "2000-01  2.001633  0.637625  0.422806 -1.233967\n",
       "2000-02  0.214921 -0.561227 -0.155320 -2.211660\n",
       "2000-03 -0.584018 -0.205559  1.276460 -2.255439\n",
       "2000-04  0.346297  0.188510 -1.720630 -0.742461\n",
       "2000-05 -0.908527  0.315601 -0.507128 -0.449549"
      ]
     },
     "execution_count": 39,
     "metadata": {},
     "output_type": "execute_result"
    }
   ],
   "source": [
    "frame = DataFrame(np.random.randn(24, 4),\n",
    "                  index=pd.period_range('1-2000', '12-2001', freq='M'),\n",
    "                  columns=['Colorado', 'Texas', 'New York', 'Ohio'])\n",
    "frame[:5]"
   ]
  },
  {
   "cell_type": "code",
   "execution_count": 42,
   "metadata": {
    "collapsed": false
   },
   "outputs": [
    {
     "data": {
      "text/html": [
       "<div>\n",
       "<table border=\"1\" class=\"dataframe\">\n",
       "  <thead>\n",
       "    <tr style=\"text-align: right;\">\n",
       "      <th></th>\n",
       "      <th>Colorado</th>\n",
       "      <th>Texas</th>\n",
       "      <th>New York</th>\n",
       "      <th>Ohio</th>\n",
       "    </tr>\n",
       "  </thead>\n",
       "  <tbody>\n",
       "    <tr>\n",
       "      <th>2000Q1</th>\n",
       "      <td>0.544178</td>\n",
       "      <td>-0.043054</td>\n",
       "      <td>0.514649</td>\n",
       "      <td>-1.900355</td>\n",
       "    </tr>\n",
       "    <tr>\n",
       "      <th>2000Q2</th>\n",
       "      <td>-0.000791</td>\n",
       "      <td>0.468495</td>\n",
       "      <td>-1.247954</td>\n",
       "      <td>-0.708676</td>\n",
       "    </tr>\n",
       "    <tr>\n",
       "      <th>2000Q3</th>\n",
       "      <td>-0.247497</td>\n",
       "      <td>0.067101</td>\n",
       "      <td>0.512545</td>\n",
       "      <td>0.103532</td>\n",
       "    </tr>\n",
       "    <tr>\n",
       "      <th>2000Q4</th>\n",
       "      <td>-1.126654</td>\n",
       "      <td>-0.190198</td>\n",
       "      <td>0.416364</td>\n",
       "      <td>-0.046905</td>\n",
       "    </tr>\n",
       "    <tr>\n",
       "      <th>2001Q1</th>\n",
       "      <td>-1.081078</td>\n",
       "      <td>-0.259754</td>\n",
       "      <td>-0.861197</td>\n",
       "      <td>-0.235051</td>\n",
       "    </tr>\n",
       "    <tr>\n",
       "      <th>2001Q2</th>\n",
       "      <td>0.010989</td>\n",
       "      <td>0.004505</td>\n",
       "      <td>-1.142694</td>\n",
       "      <td>0.922503</td>\n",
       "    </tr>\n",
       "    <tr>\n",
       "      <th>2001Q3</th>\n",
       "      <td>0.843994</td>\n",
       "      <td>-0.283601</td>\n",
       "      <td>-0.942034</td>\n",
       "      <td>0.787534</td>\n",
       "    </tr>\n",
       "    <tr>\n",
       "      <th>2001Q4</th>\n",
       "      <td>-0.211269</td>\n",
       "      <td>-0.200959</td>\n",
       "      <td>0.103619</td>\n",
       "      <td>-0.239605</td>\n",
       "    </tr>\n",
       "  </tbody>\n",
       "</table>\n",
       "</div>"
      ],
      "text/plain": [
       "        Colorado     Texas  New York      Ohio\n",
       "2000Q1  0.544178 -0.043054  0.514649 -1.900355\n",
       "2000Q2 -0.000791  0.468495 -1.247954 -0.708676\n",
       "2000Q3 -0.247497  0.067101  0.512545  0.103532\n",
       "2000Q4 -1.126654 -0.190198  0.416364 -0.046905\n",
       "2001Q1 -1.081078 -0.259754 -0.861197 -0.235051\n",
       "2001Q2  0.010989  0.004505 -1.142694  0.922503\n",
       "2001Q3  0.843994 -0.283601 -0.942034  0.787534\n",
       "2001Q4 -0.211269 -0.200959  0.103619 -0.239605"
      ]
     },
     "execution_count": 42,
     "metadata": {},
     "output_type": "execute_result"
    }
   ],
   "source": [
    "# 升采样要稍微麻烦些，因为你必须决定在新的频率中各区间的哪端用于放置原来的值\n",
    "# 就像asfreq方法一样，convention默认为'end',可设置为'start'\n",
    "# Q-DEC：季度型（每年以12月结束）\n",
    "annual_frame = frame.resample('Q-DEC').mean()\n",
    "annual_frame"
   ]
  },
  {
   "cell_type": "code",
   "execution_count": 43,
   "metadata": {
    "collapsed": false
   },
   "outputs": [
    {
     "data": {
      "text/html": [
       "<div>\n",
       "<table border=\"1\" class=\"dataframe\">\n",
       "  <thead>\n",
       "    <tr style=\"text-align: right;\">\n",
       "      <th></th>\n",
       "      <th>Colorado</th>\n",
       "      <th>Texas</th>\n",
       "      <th>New York</th>\n",
       "      <th>Ohio</th>\n",
       "    </tr>\n",
       "  </thead>\n",
       "  <tbody>\n",
       "    <tr>\n",
       "      <th>2000Q1</th>\n",
       "      <td>0.544178</td>\n",
       "      <td>-0.043054</td>\n",
       "      <td>0.514649</td>\n",
       "      <td>-1.900355</td>\n",
       "    </tr>\n",
       "    <tr>\n",
       "      <th>2000Q2</th>\n",
       "      <td>-0.000791</td>\n",
       "      <td>0.468495</td>\n",
       "      <td>-1.247954</td>\n",
       "      <td>-0.708676</td>\n",
       "    </tr>\n",
       "    <tr>\n",
       "      <th>2000Q3</th>\n",
       "      <td>-0.247497</td>\n",
       "      <td>0.067101</td>\n",
       "      <td>0.512545</td>\n",
       "      <td>0.103532</td>\n",
       "    </tr>\n",
       "    <tr>\n",
       "      <th>2000Q4</th>\n",
       "      <td>-1.126654</td>\n",
       "      <td>-0.190198</td>\n",
       "      <td>0.416364</td>\n",
       "      <td>-0.046905</td>\n",
       "    </tr>\n",
       "    <tr>\n",
       "      <th>2001Q1</th>\n",
       "      <td>-1.081078</td>\n",
       "      <td>-0.259754</td>\n",
       "      <td>-0.861197</td>\n",
       "      <td>-0.235051</td>\n",
       "    </tr>\n",
       "    <tr>\n",
       "      <th>2001Q2</th>\n",
       "      <td>0.010989</td>\n",
       "      <td>0.004505</td>\n",
       "      <td>-1.142694</td>\n",
       "      <td>0.922503</td>\n",
       "    </tr>\n",
       "    <tr>\n",
       "      <th>2001Q3</th>\n",
       "      <td>0.843994</td>\n",
       "      <td>-0.283601</td>\n",
       "      <td>-0.942034</td>\n",
       "      <td>0.787534</td>\n",
       "    </tr>\n",
       "    <tr>\n",
       "      <th>2001Q4</th>\n",
       "      <td>-0.211269</td>\n",
       "      <td>-0.200959</td>\n",
       "      <td>0.103619</td>\n",
       "      <td>-0.239605</td>\n",
       "    </tr>\n",
       "  </tbody>\n",
       "</table>\n",
       "</div>"
      ],
      "text/plain": [
       "        Colorado     Texas  New York      Ohio\n",
       "2000Q1  0.544178 -0.043054  0.514649 -1.900355\n",
       "2000Q2 -0.000791  0.468495 -1.247954 -0.708676\n",
       "2000Q3 -0.247497  0.067101  0.512545  0.103532\n",
       "2000Q4 -1.126654 -0.190198  0.416364 -0.046905\n",
       "2001Q1 -1.081078 -0.259754 -0.861197 -0.235051\n",
       "2001Q2  0.010989  0.004505 -1.142694  0.922503\n",
       "2001Q3  0.843994 -0.283601 -0.942034  0.787534\n",
       "2001Q4 -0.211269 -0.200959  0.103619 -0.239605"
      ]
     },
     "execution_count": 43,
     "metadata": {},
     "output_type": "execute_result"
    }
   ],
   "source": [
    "annual_frame.resample('Q-DEC').ffill()"
   ]
  },
  {
   "cell_type": "code",
   "execution_count": 45,
   "metadata": {
    "collapsed": false
   },
   "outputs": [
    {
     "data": {
      "text/html": [
       "<div>\n",
       "<table border=\"1\" class=\"dataframe\">\n",
       "  <thead>\n",
       "    <tr style=\"text-align: right;\">\n",
       "      <th></th>\n",
       "      <th>Colorado</th>\n",
       "      <th>Texas</th>\n",
       "      <th>New York</th>\n",
       "      <th>Ohio</th>\n",
       "    </tr>\n",
       "  </thead>\n",
       "  <tbody>\n",
       "    <tr>\n",
       "      <th>2000Q1</th>\n",
       "      <td>0.544178</td>\n",
       "      <td>-0.043054</td>\n",
       "      <td>0.514649</td>\n",
       "      <td>-1.900355</td>\n",
       "    </tr>\n",
       "    <tr>\n",
       "      <th>2000Q2</th>\n",
       "      <td>-0.000791</td>\n",
       "      <td>0.468495</td>\n",
       "      <td>-1.247954</td>\n",
       "      <td>-0.708676</td>\n",
       "    </tr>\n",
       "    <tr>\n",
       "      <th>2000Q3</th>\n",
       "      <td>-0.247497</td>\n",
       "      <td>0.067101</td>\n",
       "      <td>0.512545</td>\n",
       "      <td>0.103532</td>\n",
       "    </tr>\n",
       "    <tr>\n",
       "      <th>2000Q4</th>\n",
       "      <td>-1.126654</td>\n",
       "      <td>-0.190198</td>\n",
       "      <td>0.416364</td>\n",
       "      <td>-0.046905</td>\n",
       "    </tr>\n",
       "    <tr>\n",
       "      <th>2001Q1</th>\n",
       "      <td>-1.081078</td>\n",
       "      <td>-0.259754</td>\n",
       "      <td>-0.861197</td>\n",
       "      <td>-0.235051</td>\n",
       "    </tr>\n",
       "    <tr>\n",
       "      <th>2001Q2</th>\n",
       "      <td>0.010989</td>\n",
       "      <td>0.004505</td>\n",
       "      <td>-1.142694</td>\n",
       "      <td>0.922503</td>\n",
       "    </tr>\n",
       "    <tr>\n",
       "      <th>2001Q3</th>\n",
       "      <td>0.843994</td>\n",
       "      <td>-0.283601</td>\n",
       "      <td>-0.942034</td>\n",
       "      <td>0.787534</td>\n",
       "    </tr>\n",
       "    <tr>\n",
       "      <th>2001Q4</th>\n",
       "      <td>-0.211269</td>\n",
       "      <td>-0.200959</td>\n",
       "      <td>0.103619</td>\n",
       "      <td>-0.239605</td>\n",
       "    </tr>\n",
       "  </tbody>\n",
       "</table>\n",
       "</div>"
      ],
      "text/plain": [
       "        Colorado     Texas  New York      Ohio\n",
       "2000Q1  0.544178 -0.043054  0.514649 -1.900355\n",
       "2000Q2 -0.000791  0.468495 -1.247954 -0.708676\n",
       "2000Q3 -0.247497  0.067101  0.512545  0.103532\n",
       "2000Q4 -1.126654 -0.190198  0.416364 -0.046905\n",
       "2001Q1 -1.081078 -0.259754 -0.861197 -0.235051\n",
       "2001Q2  0.010989  0.004505 -1.142694  0.922503\n",
       "2001Q3  0.843994 -0.283601 -0.942034  0.787534\n",
       "2001Q4 -0.211269 -0.200959  0.103619 -0.239605"
      ]
     },
     "execution_count": 45,
     "metadata": {},
     "output_type": "execute_result"
    }
   ],
   "source": [
    "# Q-DEC: Quarterly, year ending in December\n",
    "\n",
    "# note: output changed, default value changed from convention='end' to convention='start' + 'start' changed to span-like\n",
    "# also the following cells\n",
    "annual_frame.resample('Q-DEC', convention='start').ffill()"
   ]
  },
  {
   "cell_type": "markdown",
   "metadata": {
    "collapsed": false
   },
   "source": [
    "由于时期指的是时间区间，所以升采样和降采样的规则就比较严格:\n",
    "\n",
    "- 在降采样中，目标频率必须是源频率的子时期(subperiod)\n",
    "- 在升采样中，目标频率必须是原频率的超时期(superperiod)\n",
    "\n",
    "如果不满足这些条件，就会引发异常，主要影响的是按季、年、周计算的频率。\n",
    "\n",
    "例如，由Q-MAR定义的时间区间只能升采样为A-MAR、A-JUN等"
   ]
  },
  {
   "cell_type": "code",
   "execution_count": 47,
   "metadata": {
    "collapsed": false
   },
   "outputs": [
    {
     "data": {
      "text/html": [
       "<div>\n",
       "<table border=\"1\" class=\"dataframe\">\n",
       "  <thead>\n",
       "    <tr style=\"text-align: right;\">\n",
       "      <th></th>\n",
       "      <th>Colorado</th>\n",
       "      <th>Texas</th>\n",
       "      <th>New York</th>\n",
       "      <th>Ohio</th>\n",
       "    </tr>\n",
       "  </thead>\n",
       "  <tbody>\n",
       "    <tr>\n",
       "      <th>2000Q4</th>\n",
       "      <td>0.544178</td>\n",
       "      <td>-0.043054</td>\n",
       "      <td>0.514649</td>\n",
       "      <td>-1.900355</td>\n",
       "    </tr>\n",
       "    <tr>\n",
       "      <th>2001Q1</th>\n",
       "      <td>-0.000791</td>\n",
       "      <td>0.468495</td>\n",
       "      <td>-1.247954</td>\n",
       "      <td>-0.708676</td>\n",
       "    </tr>\n",
       "    <tr>\n",
       "      <th>2001Q2</th>\n",
       "      <td>-0.247497</td>\n",
       "      <td>0.067101</td>\n",
       "      <td>0.512545</td>\n",
       "      <td>0.103532</td>\n",
       "    </tr>\n",
       "    <tr>\n",
       "      <th>2001Q3</th>\n",
       "      <td>-1.126654</td>\n",
       "      <td>-0.190198</td>\n",
       "      <td>0.416364</td>\n",
       "      <td>-0.046905</td>\n",
       "    </tr>\n",
       "    <tr>\n",
       "      <th>2001Q4</th>\n",
       "      <td>-1.081078</td>\n",
       "      <td>-0.259754</td>\n",
       "      <td>-0.861197</td>\n",
       "      <td>-0.235051</td>\n",
       "    </tr>\n",
       "    <tr>\n",
       "      <th>2002Q1</th>\n",
       "      <td>0.010989</td>\n",
       "      <td>0.004505</td>\n",
       "      <td>-1.142694</td>\n",
       "      <td>0.922503</td>\n",
       "    </tr>\n",
       "    <tr>\n",
       "      <th>2002Q2</th>\n",
       "      <td>0.843994</td>\n",
       "      <td>-0.283601</td>\n",
       "      <td>-0.942034</td>\n",
       "      <td>0.787534</td>\n",
       "    </tr>\n",
       "    <tr>\n",
       "      <th>2002Q3</th>\n",
       "      <td>-0.211269</td>\n",
       "      <td>-0.200959</td>\n",
       "      <td>0.103619</td>\n",
       "      <td>-0.239605</td>\n",
       "    </tr>\n",
       "  </tbody>\n",
       "</table>\n",
       "</div>"
      ],
      "text/plain": [
       "        Colorado     Texas  New York      Ohio\n",
       "2000Q4  0.544178 -0.043054  0.514649 -1.900355\n",
       "2001Q1 -0.000791  0.468495 -1.247954 -0.708676\n",
       "2001Q2 -0.247497  0.067101  0.512545  0.103532\n",
       "2001Q3 -1.126654 -0.190198  0.416364 -0.046905\n",
       "2001Q4 -1.081078 -0.259754 -0.861197 -0.235051\n",
       "2002Q1  0.010989  0.004505 -1.142694  0.922503\n",
       "2002Q2  0.843994 -0.283601 -0.942034  0.787534\n",
       "2002Q3 -0.211269 -0.200959  0.103619 -0.239605"
      ]
     },
     "execution_count": 47,
     "metadata": {},
     "output_type": "execute_result"
    }
   ],
   "source": [
    "annual_frame.resample('Q-MAR').ffill()"
   ]
  },
  {
   "cell_type": "code",
   "execution_count": null,
   "metadata": {
    "collapsed": true
   },
   "outputs": [],
   "source": []
  }
 ],
 "metadata": {
  "kernelspec": {
   "display_name": "Python 3",
   "language": "python",
   "name": "python3"
  },
  "language_info": {
   "codemirror_mode": {
    "name": "ipython",
    "version": 3
   },
   "file_extension": ".py",
   "mimetype": "text/x-python",
   "name": "python",
   "nbconvert_exporter": "python",
   "pygments_lexer": "ipython3",
   "version": "3.6.0"
  }
 },
 "nbformat": 4,
 "nbformat_minor": 2
}
