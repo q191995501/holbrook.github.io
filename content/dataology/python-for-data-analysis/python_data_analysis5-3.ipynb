{
 "cells": [
  {
   "cell_type": "code",
   "execution_count": 1,
   "metadata": {
    "collapsed": false
   },
   "outputs": [
    {
     "name": "stdout",
     "output_type": "stream",
     "text": [
      "Populating the interactive namespace from numpy and matplotlib\n"
     ]
    }
   ],
   "source": [
    "%pylab inline\n",
    "from pandas import Series, DataFrame\n",
    "import pandas as pd"
   ]
  },
  {
   "cell_type": "markdown",
   "metadata": {},
   "source": [
    "《[利用Python进行数据分析](https://book.douban.com/subject/25779298/)》\n",
    "作者: Wes McKinney\n",
    "译者: 唐学韬\n",
    "\n",
    "汇总和描述性统计\n",
    "\n",
    "Pandas 实现了一些简单简单的汇总和描述性统计功能，更复杂的统计计算可以使用 [Scipy]() 的 `stats`模块。\n",
    "\n",
    "# 基本统计\n",
    "\n",
    "包括：\n",
    "\n",
    "- count: 计数\n",
    "- describe: 各列的汇总统计\n",
    "- min, max: 最小值和最大值\n",
    "- argmin, argmax: 最小值和最大值的索引位置\n",
    "- idxmin, idxmax: 最小值和最大值 的索引值\n",
    "- quantile: 样本的分位数(0--1)\n",
    "- sum: 求和\n",
    "- mean: 平均数\n",
    "- median: 中位数（0.5分位数）\n",
    "- mad: 平均绝对离差\n",
    "- var: 方差\n",
    "- std: 标准差\n",
    "- skew: 偏度（三阶矩）\n",
    "- kurt: 峰度（四阶矩）\n",
    "- cumsum: 累计和\n",
    "- cummin, cummax: 累计最小、最大值\n",
    "- cumprod: 累计积\n",
    "- diff: 一阶差分（用于时间序列）\n",
    "- pct_change: 百分数变化"
   ]
  },
  {
   "cell_type": "code",
   "execution_count": 2,
   "metadata": {
    "collapsed": false
   },
   "outputs": [
    {
     "data": {
      "text/html": [
       "<div>\n",
       "<table border=\"1\" class=\"dataframe\">\n",
       "  <thead>\n",
       "    <tr style=\"text-align: right;\">\n",
       "      <th></th>\n",
       "      <th>one</th>\n",
       "      <th>two</th>\n",
       "    </tr>\n",
       "  </thead>\n",
       "  <tbody>\n",
       "    <tr>\n",
       "      <th>a</th>\n",
       "      <td>1.40</td>\n",
       "      <td>NaN</td>\n",
       "    </tr>\n",
       "    <tr>\n",
       "      <th>b</th>\n",
       "      <td>7.10</td>\n",
       "      <td>-4.5</td>\n",
       "    </tr>\n",
       "    <tr>\n",
       "      <th>c</th>\n",
       "      <td>NaN</td>\n",
       "      <td>NaN</td>\n",
       "    </tr>\n",
       "    <tr>\n",
       "      <th>d</th>\n",
       "      <td>0.75</td>\n",
       "      <td>-1.3</td>\n",
       "    </tr>\n",
       "  </tbody>\n",
       "</table>\n",
       "</div>"
      ],
      "text/plain": [
       "    one  two\n",
       "a  1.40  NaN\n",
       "b  7.10 -4.5\n",
       "c   NaN  NaN\n",
       "d  0.75 -1.3"
      ]
     },
     "execution_count": 2,
     "metadata": {},
     "output_type": "execute_result"
    }
   ],
   "source": [
    "df = DataFrame([[1.4, np.nan], [7.1, -4.5],\n",
    "                [np.nan, np.nan], [0.75, -1.3]],\n",
    "               index=['a', 'b', 'c', 'd'],\n",
    "               columns=['one', 'two'])\n",
    "df"
   ]
  },
  {
   "cell_type": "code",
   "execution_count": 3,
   "metadata": {
    "collapsed": false
   },
   "outputs": [
    {
     "data": {
      "text/plain": [
       "one    9.25\n",
       "two   -5.80\n",
       "dtype: float64"
      ]
     },
     "execution_count": 3,
     "metadata": {},
     "output_type": "execute_result"
    }
   ],
   "source": [
    "# 求和\n",
    "df.sum()"
   ]
  },
  {
   "cell_type": "code",
   "execution_count": 5,
   "metadata": {
    "collapsed": false
   },
   "outputs": [
    {
     "data": {
      "text/plain": [
       "a    1.40\n",
       "b    2.60\n",
       "c    0.00\n",
       "d   -0.55\n",
       "dtype: float64"
      ]
     },
     "execution_count": 5,
     "metadata": {},
     "output_type": "execute_result"
    }
   ],
   "source": [
    "#  按行求和\n",
    "df.sum(axis=1)"
   ]
  },
  {
   "cell_type": "code",
   "execution_count": 6,
   "metadata": {
    "collapsed": false
   },
   "outputs": [
    {
     "data": {
      "text/plain": [
       "a      NaN\n",
       "b    1.300\n",
       "c      NaN\n",
       "d   -0.275\n",
       "dtype: float64"
      ]
     },
     "execution_count": 6,
     "metadata": {},
     "output_type": "execute_result"
    }
   ],
   "source": [
    "# 不忽略 NA\n",
    "df.mean(axis=1, skipna=False)"
   ]
  },
  {
   "cell_type": "code",
   "execution_count": 9,
   "metadata": {
    "collapsed": false
   },
   "outputs": [
    {
     "data": {
      "text/plain": [
       "one    b\n",
       "two    d\n",
       "dtype: object"
      ]
     },
     "execution_count": 9,
     "metadata": {},
     "output_type": "execute_result"
    }
   ],
   "source": [
    "# 返回索引\n",
    "df.idxmax()"
   ]
  },
  {
   "cell_type": "code",
   "execution_count": 10,
   "metadata": {
    "collapsed": false
   },
   "outputs": [
    {
     "data": {
      "text/html": [
       "<div>\n",
       "<table border=\"1\" class=\"dataframe\">\n",
       "  <thead>\n",
       "    <tr style=\"text-align: right;\">\n",
       "      <th></th>\n",
       "      <th>one</th>\n",
       "      <th>two</th>\n",
       "    </tr>\n",
       "  </thead>\n",
       "  <tbody>\n",
       "    <tr>\n",
       "      <th>a</th>\n",
       "      <td>1.40</td>\n",
       "      <td>NaN</td>\n",
       "    </tr>\n",
       "    <tr>\n",
       "      <th>b</th>\n",
       "      <td>8.50</td>\n",
       "      <td>-4.5</td>\n",
       "    </tr>\n",
       "    <tr>\n",
       "      <th>c</th>\n",
       "      <td>NaN</td>\n",
       "      <td>NaN</td>\n",
       "    </tr>\n",
       "    <tr>\n",
       "      <th>d</th>\n",
       "      <td>9.25</td>\n",
       "      <td>-5.8</td>\n",
       "    </tr>\n",
       "  </tbody>\n",
       "</table>\n",
       "</div>"
      ],
      "text/plain": [
       "    one  two\n",
       "a  1.40  NaN\n",
       "b  8.50 -4.5\n",
       "c   NaN  NaN\n",
       "d  9.25 -5.8"
      ]
     },
     "execution_count": 10,
     "metadata": {},
     "output_type": "execute_result"
    }
   ],
   "source": [
    "# 累加型\n",
    "df.cumsum()"
   ]
  },
  {
   "cell_type": "code",
   "execution_count": 11,
   "metadata": {
    "collapsed": false
   },
   "outputs": [
    {
     "data": {
      "text/html": [
       "<div>\n",
       "<table border=\"1\" class=\"dataframe\">\n",
       "  <thead>\n",
       "    <tr style=\"text-align: right;\">\n",
       "      <th></th>\n",
       "      <th>one</th>\n",
       "      <th>two</th>\n",
       "    </tr>\n",
       "  </thead>\n",
       "  <tbody>\n",
       "    <tr>\n",
       "      <th>count</th>\n",
       "      <td>3.000000</td>\n",
       "      <td>2.000000</td>\n",
       "    </tr>\n",
       "    <tr>\n",
       "      <th>mean</th>\n",
       "      <td>3.083333</td>\n",
       "      <td>-2.900000</td>\n",
       "    </tr>\n",
       "    <tr>\n",
       "      <th>std</th>\n",
       "      <td>3.493685</td>\n",
       "      <td>2.262742</td>\n",
       "    </tr>\n",
       "    <tr>\n",
       "      <th>min</th>\n",
       "      <td>0.750000</td>\n",
       "      <td>-4.500000</td>\n",
       "    </tr>\n",
       "    <tr>\n",
       "      <th>25%</th>\n",
       "      <td>1.075000</td>\n",
       "      <td>-3.700000</td>\n",
       "    </tr>\n",
       "    <tr>\n",
       "      <th>50%</th>\n",
       "      <td>1.400000</td>\n",
       "      <td>-2.900000</td>\n",
       "    </tr>\n",
       "    <tr>\n",
       "      <th>75%</th>\n",
       "      <td>4.250000</td>\n",
       "      <td>-2.100000</td>\n",
       "    </tr>\n",
       "    <tr>\n",
       "      <th>max</th>\n",
       "      <td>7.100000</td>\n",
       "      <td>-1.300000</td>\n",
       "    </tr>\n",
       "  </tbody>\n",
       "</table>\n",
       "</div>"
      ],
      "text/plain": [
       "            one       two\n",
       "count  3.000000  2.000000\n",
       "mean   3.083333 -2.900000\n",
       "std    3.493685  2.262742\n",
       "min    0.750000 -4.500000\n",
       "25%    1.075000 -3.700000\n",
       "50%    1.400000 -2.900000\n",
       "75%    4.250000 -2.100000\n",
       "max    7.100000 -1.300000"
      ]
     },
     "execution_count": 11,
     "metadata": {},
     "output_type": "execute_result"
    }
   ],
   "source": [
    "# 描述\n",
    "df.describe()"
   ]
  },
  {
   "cell_type": "code",
   "execution_count": 12,
   "metadata": {
    "collapsed": false
   },
   "outputs": [
    {
     "data": {
      "text/plain": [
       "count     16\n",
       "unique     3\n",
       "top        a\n",
       "freq       8\n",
       "dtype: object"
      ]
     },
     "execution_count": 12,
     "metadata": {},
     "output_type": "execute_result"
    }
   ],
   "source": [
    "# 非数值型的描述\n",
    "obj = Series(['a', 'a', 'b', 'c'] * 4)\n",
    "obj.describe()"
   ]
  },
  {
   "cell_type": "markdown",
   "metadata": {},
   "source": [
    "# 相关系数(Correlation)与协方差(covariance)"
   ]
  },
  {
   "cell_type": "code",
   "execution_count": 26,
   "metadata": {
    "collapsed": false
   },
   "outputs": [],
   "source": [
    "from pandas_datareader import data, wb\n",
    "\n",
    "all_data = {}\n",
    "for ticker in ['AAPL', 'IBM', 'MSFT', 'GOOG']:\n",
    "    all_data[ticker] = data.get_data_yahoo(ticker)\n",
    "\n",
    "price = DataFrame({tic: data['Adj Close']\n",
    "                   for tic, data in all_data.items()})\n",
    "volume = DataFrame({tic: data['Volume']\n",
    "                    for tic, data in all_data.items()})"
   ]
  },
  {
   "cell_type": "code",
   "execution_count": 27,
   "metadata": {
    "collapsed": false
   },
   "outputs": [
    {
     "data": {
      "text/html": [
       "<div>\n",
       "<table border=\"1\" class=\"dataframe\">\n",
       "  <thead>\n",
       "    <tr style=\"text-align: right;\">\n",
       "      <th></th>\n",
       "      <th>AAPL</th>\n",
       "      <th>GOOG</th>\n",
       "      <th>IBM</th>\n",
       "      <th>MSFT</th>\n",
       "    </tr>\n",
       "    <tr>\n",
       "      <th>Date</th>\n",
       "      <th></th>\n",
       "      <th></th>\n",
       "      <th></th>\n",
       "      <th></th>\n",
       "    </tr>\n",
       "  </thead>\n",
       "  <tbody>\n",
       "    <tr>\n",
       "      <th>2010-01-04</th>\n",
       "      <td>27.727039</td>\n",
       "      <td>313.062468</td>\n",
       "      <td>111.405000</td>\n",
       "      <td>25.555485</td>\n",
       "    </tr>\n",
       "    <tr>\n",
       "      <th>2010-01-05</th>\n",
       "      <td>27.774976</td>\n",
       "      <td>311.683844</td>\n",
       "      <td>110.059232</td>\n",
       "      <td>25.563741</td>\n",
       "    </tr>\n",
       "    <tr>\n",
       "      <th>2010-01-06</th>\n",
       "      <td>27.333178</td>\n",
       "      <td>303.826685</td>\n",
       "      <td>109.344283</td>\n",
       "      <td>25.406859</td>\n",
       "    </tr>\n",
       "    <tr>\n",
       "      <th>2010-01-07</th>\n",
       "      <td>27.282650</td>\n",
       "      <td>296.753749</td>\n",
       "      <td>108.965786</td>\n",
       "      <td>25.142634</td>\n",
       "    </tr>\n",
       "    <tr>\n",
       "      <th>2010-01-08</th>\n",
       "      <td>27.464034</td>\n",
       "      <td>300.709808</td>\n",
       "      <td>110.059232</td>\n",
       "      <td>25.316031</td>\n",
       "    </tr>\n",
       "    <tr>\n",
       "      <th>2010-01-11</th>\n",
       "      <td>27.221758</td>\n",
       "      <td>300.255255</td>\n",
       "      <td>108.906903</td>\n",
       "      <td>24.994007</td>\n",
       "    </tr>\n",
       "    <tr>\n",
       "      <th>2010-01-12</th>\n",
       "      <td>26.912110</td>\n",
       "      <td>294.945572</td>\n",
       "      <td>109.773245</td>\n",
       "      <td>24.828866</td>\n",
       "    </tr>\n",
       "    <tr>\n",
       "      <th>2010-01-13</th>\n",
       "      <td>27.291720</td>\n",
       "      <td>293.252243</td>\n",
       "      <td>109.537735</td>\n",
       "      <td>25.060064</td>\n",
       "    </tr>\n",
       "    <tr>\n",
       "      <th>2010-01-14</th>\n",
       "      <td>27.133657</td>\n",
       "      <td>294.630868</td>\n",
       "      <td>111.287245</td>\n",
       "      <td>25.563741</td>\n",
       "    </tr>\n",
       "    <tr>\n",
       "      <th>2010-01-15</th>\n",
       "      <td>26.680198</td>\n",
       "      <td>289.710772</td>\n",
       "      <td>110.841458</td>\n",
       "      <td>25.481172</td>\n",
       "    </tr>\n",
       "    <tr>\n",
       "      <th>2010-01-19</th>\n",
       "      <td>27.860485</td>\n",
       "      <td>293.516976</td>\n",
       "      <td>112.826478</td>\n",
       "      <td>25.679340</td>\n",
       "    </tr>\n",
       "    <tr>\n",
       "      <th>2010-01-20</th>\n",
       "      <td>27.431644</td>\n",
       "      <td>289.915587</td>\n",
       "      <td>109.554561</td>\n",
       "      <td>25.258232</td>\n",
       "    </tr>\n",
       "    <tr>\n",
       "      <th>2010-01-21</th>\n",
       "      <td>26.957455</td>\n",
       "      <td>291.199286</td>\n",
       "      <td>108.503173</td>\n",
       "      <td>24.779325</td>\n",
       "    </tr>\n",
       "    <tr>\n",
       "      <th>2010-01-22</th>\n",
       "      <td>25.620401</td>\n",
       "      <td>274.730736</td>\n",
       "      <td>105.559289</td>\n",
       "      <td>23.912336</td>\n",
       "    </tr>\n",
       "    <tr>\n",
       "      <th>2010-01-25</th>\n",
       "      <td>26.309658</td>\n",
       "      <td>269.730740</td>\n",
       "      <td>106.080779</td>\n",
       "      <td>24.209590</td>\n",
       "    </tr>\n",
       "    <tr>\n",
       "      <th>2010-01-26</th>\n",
       "      <td>26.681494</td>\n",
       "      <td>270.939526</td>\n",
       "      <td>105.769566</td>\n",
       "      <td>24.358216</td>\n",
       "    </tr>\n",
       "    <tr>\n",
       "      <th>2010-01-27</th>\n",
       "      <td>26.932840</td>\n",
       "      <td>270.779695</td>\n",
       "      <td>106.257412</td>\n",
       "      <td>24.498586</td>\n",
       "    </tr>\n",
       "    <tr>\n",
       "      <th>2010-01-28</th>\n",
       "      <td>25.819922</td>\n",
       "      <td>266.878565</td>\n",
       "      <td>104.087347</td>\n",
       "      <td>24.077477</td>\n",
       "    </tr>\n",
       "    <tr>\n",
       "      <th>2010-01-29</th>\n",
       "      <td>24.883208</td>\n",
       "      <td>264.705742</td>\n",
       "      <td>102.943437</td>\n",
       "      <td>23.268290</td>\n",
       "    </tr>\n",
       "    <tr>\n",
       "      <th>2010-02-01</th>\n",
       "      <td>25.229131</td>\n",
       "      <td>266.244198</td>\n",
       "      <td>104.861166</td>\n",
       "      <td>23.458201</td>\n",
       "    </tr>\n",
       "    <tr>\n",
       "      <th>2010-02-02</th>\n",
       "      <td>25.375533</td>\n",
       "      <td>265.295156</td>\n",
       "      <td>105.584521</td>\n",
       "      <td>23.499485</td>\n",
       "    </tr>\n",
       "    <tr>\n",
       "      <th>2010-02-03</th>\n",
       "      <td>25.812149</td>\n",
       "      <td>270.140309</td>\n",
       "      <td>105.693870</td>\n",
       "      <td>23.639855</td>\n",
       "    </tr>\n",
       "    <tr>\n",
       "      <th>2010-02-04</th>\n",
       "      <td>24.881912</td>\n",
       "      <td>263.127321</td>\n",
       "      <td>103.456514</td>\n",
       "      <td>22.987551</td>\n",
       "    </tr>\n",
       "    <tr>\n",
       "      <th>2010-02-05</th>\n",
       "      <td>25.323710</td>\n",
       "      <td>265.380075</td>\n",
       "      <td>103.893889</td>\n",
       "      <td>23.136177</td>\n",
       "    </tr>\n",
       "    <tr>\n",
       "      <th>2010-02-08</th>\n",
       "      <td>25.150100</td>\n",
       "      <td>266.468996</td>\n",
       "      <td>102.972982</td>\n",
       "      <td>22.888466</td>\n",
       "    </tr>\n",
       "    <tr>\n",
       "      <th>2010-02-09</th>\n",
       "      <td>25.418289</td>\n",
       "      <td>267.952522</td>\n",
       "      <td>104.096663</td>\n",
       "      <td>23.127920</td>\n",
       "    </tr>\n",
       "    <tr>\n",
       "      <th>2010-02-10</th>\n",
       "      <td>25.279660</td>\n",
       "      <td>266.958496</td>\n",
       "      <td>103.758713</td>\n",
       "      <td>23.111406</td>\n",
       "    </tr>\n",
       "    <tr>\n",
       "      <th>2010-02-11</th>\n",
       "      <td>25.739595</td>\n",
       "      <td>267.932539</td>\n",
       "      <td>104.536000</td>\n",
       "      <td>23.218748</td>\n",
       "    </tr>\n",
       "    <tr>\n",
       "      <th>2010-02-12</th>\n",
       "      <td>25.961142</td>\n",
       "      <td>266.294170</td>\n",
       "      <td>104.764113</td>\n",
       "      <td>23.061864</td>\n",
       "    </tr>\n",
       "    <tr>\n",
       "      <th>2010-02-16</th>\n",
       "      <td>26.352412</td>\n",
       "      <td>270.380071</td>\n",
       "      <td>105.803308</td>\n",
       "      <td>23.518124</td>\n",
       "    </tr>\n",
       "    <tr>\n",
       "      <th>...</th>\n",
       "      <td>...</td>\n",
       "      <td>...</td>\n",
       "      <td>...</td>\n",
       "      <td>...</td>\n",
       "    </tr>\n",
       "    <tr>\n",
       "      <th>2017-01-12</th>\n",
       "      <td>118.735214</td>\n",
       "      <td>806.359985</td>\n",
       "      <td>166.632452</td>\n",
       "      <td>62.232715</td>\n",
       "    </tr>\n",
       "    <tr>\n",
       "      <th>2017-01-13</th>\n",
       "      <td>118.526121</td>\n",
       "      <td>807.880005</td>\n",
       "      <td>166.027237</td>\n",
       "      <td>62.322172</td>\n",
       "    </tr>\n",
       "    <tr>\n",
       "      <th>2017-01-17</th>\n",
       "      <td>119.481976</td>\n",
       "      <td>804.609985</td>\n",
       "      <td>166.572925</td>\n",
       "      <td>62.153195</td>\n",
       "    </tr>\n",
       "    <tr>\n",
       "      <th>2017-01-18</th>\n",
       "      <td>119.472017</td>\n",
       "      <td>806.070007</td>\n",
       "      <td>165.491479</td>\n",
       "      <td>62.123377</td>\n",
       "    </tr>\n",
       "    <tr>\n",
       "      <th>2017-01-19</th>\n",
       "      <td>119.262925</td>\n",
       "      <td>802.174988</td>\n",
       "      <td>165.501396</td>\n",
       "      <td>61.924581</td>\n",
       "    </tr>\n",
       "    <tr>\n",
       "      <th>2017-01-20</th>\n",
       "      <td>119.481976</td>\n",
       "      <td>805.020020</td>\n",
       "      <td>169.212061</td>\n",
       "      <td>62.361932</td>\n",
       "    </tr>\n",
       "    <tr>\n",
       "      <th>2017-01-23</th>\n",
       "      <td>119.561633</td>\n",
       "      <td>819.309998</td>\n",
       "      <td>169.688291</td>\n",
       "      <td>62.580604</td>\n",
       "    </tr>\n",
       "    <tr>\n",
       "      <th>2017-01-24</th>\n",
       "      <td>119.452107</td>\n",
       "      <td>823.869995</td>\n",
       "      <td>174.520082</td>\n",
       "      <td>63.137231</td>\n",
       "    </tr>\n",
       "    <tr>\n",
       "      <th>2017-01-25</th>\n",
       "      <td>121.353858</td>\n",
       "      <td>835.669983</td>\n",
       "      <td>176.891332</td>\n",
       "      <td>63.296267</td>\n",
       "    </tr>\n",
       "    <tr>\n",
       "      <th>2017-01-26</th>\n",
       "      <td>121.413604</td>\n",
       "      <td>832.150024</td>\n",
       "      <td>177.258440</td>\n",
       "      <td>63.882708</td>\n",
       "    </tr>\n",
       "    <tr>\n",
       "      <th>2017-01-27</th>\n",
       "      <td>121.423555</td>\n",
       "      <td>823.309998</td>\n",
       "      <td>175.909108</td>\n",
       "      <td>65.383610</td>\n",
       "    </tr>\n",
       "    <tr>\n",
       "      <th>2017-01-30</th>\n",
       "      <td>121.104937</td>\n",
       "      <td>802.320007</td>\n",
       "      <td>174.420876</td>\n",
       "      <td>64.737526</td>\n",
       "    </tr>\n",
       "    <tr>\n",
       "      <th>2017-01-31</th>\n",
       "      <td>120.826147</td>\n",
       "      <td>796.789978</td>\n",
       "      <td>173.150918</td>\n",
       "      <td>64.260423</td>\n",
       "    </tr>\n",
       "    <tr>\n",
       "      <th>2017-02-01</th>\n",
       "      <td>128.194203</td>\n",
       "      <td>795.695007</td>\n",
       "      <td>172.922712</td>\n",
       "      <td>63.196871</td>\n",
       "    </tr>\n",
       "    <tr>\n",
       "      <th>2017-02-02</th>\n",
       "      <td>127.975152</td>\n",
       "      <td>798.530029</td>\n",
       "      <td>173.210445</td>\n",
       "      <td>62.789338</td>\n",
       "    </tr>\n",
       "    <tr>\n",
       "      <th>2017-02-03</th>\n",
       "      <td>128.522781</td>\n",
       "      <td>801.489990</td>\n",
       "      <td>174.440723</td>\n",
       "      <td>63.296267</td>\n",
       "    </tr>\n",
       "    <tr>\n",
       "      <th>2017-02-06</th>\n",
       "      <td>129.727549</td>\n",
       "      <td>801.340027</td>\n",
       "      <td>174.480403</td>\n",
       "      <td>63.256507</td>\n",
       "    </tr>\n",
       "    <tr>\n",
       "      <th>2017-02-07</th>\n",
       "      <td>130.962201</td>\n",
       "      <td>806.969971</td>\n",
       "      <td>177.060012</td>\n",
       "      <td>63.047773</td>\n",
       "    </tr>\n",
       "    <tr>\n",
       "      <th>2017-02-08</th>\n",
       "      <td>131.469994</td>\n",
       "      <td>808.380005</td>\n",
       "      <td>176.169998</td>\n",
       "      <td>62.958315</td>\n",
       "    </tr>\n",
       "    <tr>\n",
       "      <th>2017-02-09</th>\n",
       "      <td>132.419998</td>\n",
       "      <td>809.559998</td>\n",
       "      <td>177.210007</td>\n",
       "      <td>63.673974</td>\n",
       "    </tr>\n",
       "    <tr>\n",
       "      <th>2017-02-10</th>\n",
       "      <td>132.119995</td>\n",
       "      <td>813.669983</td>\n",
       "      <td>178.679993</td>\n",
       "      <td>63.614338</td>\n",
       "    </tr>\n",
       "    <tr>\n",
       "      <th>2017-02-13</th>\n",
       "      <td>133.289993</td>\n",
       "      <td>819.239990</td>\n",
       "      <td>179.360001</td>\n",
       "      <td>64.330000</td>\n",
       "    </tr>\n",
       "    <tr>\n",
       "      <th>2017-02-14</th>\n",
       "      <td>135.020004</td>\n",
       "      <td>820.450012</td>\n",
       "      <td>180.130005</td>\n",
       "      <td>64.570000</td>\n",
       "    </tr>\n",
       "    <tr>\n",
       "      <th>2017-02-15</th>\n",
       "      <td>135.509995</td>\n",
       "      <td>818.979980</td>\n",
       "      <td>181.679993</td>\n",
       "      <td>64.529999</td>\n",
       "    </tr>\n",
       "    <tr>\n",
       "      <th>2017-02-16</th>\n",
       "      <td>135.350006</td>\n",
       "      <td>824.159973</td>\n",
       "      <td>181.429993</td>\n",
       "      <td>64.519997</td>\n",
       "    </tr>\n",
       "    <tr>\n",
       "      <th>2017-02-17</th>\n",
       "      <td>135.720001</td>\n",
       "      <td>828.070007</td>\n",
       "      <td>180.669998</td>\n",
       "      <td>64.620003</td>\n",
       "    </tr>\n",
       "    <tr>\n",
       "      <th>2017-02-21</th>\n",
       "      <td>136.699997</td>\n",
       "      <td>831.659973</td>\n",
       "      <td>180.259995</td>\n",
       "      <td>64.489998</td>\n",
       "    </tr>\n",
       "    <tr>\n",
       "      <th>2017-02-22</th>\n",
       "      <td>137.110001</td>\n",
       "      <td>830.760010</td>\n",
       "      <td>181.149994</td>\n",
       "      <td>64.360001</td>\n",
       "    </tr>\n",
       "    <tr>\n",
       "      <th>2017-02-23</th>\n",
       "      <td>136.529999</td>\n",
       "      <td>831.330017</td>\n",
       "      <td>181.649994</td>\n",
       "      <td>64.620003</td>\n",
       "    </tr>\n",
       "    <tr>\n",
       "      <th>2017-02-24</th>\n",
       "      <td>136.660004</td>\n",
       "      <td>828.640015</td>\n",
       "      <td>181.350006</td>\n",
       "      <td>64.620003</td>\n",
       "    </tr>\n",
       "  </tbody>\n",
       "</table>\n",
       "<p>1799 rows × 4 columns</p>\n",
       "</div>"
      ],
      "text/plain": [
       "                  AAPL        GOOG         IBM       MSFT\n",
       "Date                                                     \n",
       "2010-01-04   27.727039  313.062468  111.405000  25.555485\n",
       "2010-01-05   27.774976  311.683844  110.059232  25.563741\n",
       "2010-01-06   27.333178  303.826685  109.344283  25.406859\n",
       "2010-01-07   27.282650  296.753749  108.965786  25.142634\n",
       "2010-01-08   27.464034  300.709808  110.059232  25.316031\n",
       "2010-01-11   27.221758  300.255255  108.906903  24.994007\n",
       "2010-01-12   26.912110  294.945572  109.773245  24.828866\n",
       "2010-01-13   27.291720  293.252243  109.537735  25.060064\n",
       "2010-01-14   27.133657  294.630868  111.287245  25.563741\n",
       "2010-01-15   26.680198  289.710772  110.841458  25.481172\n",
       "2010-01-19   27.860485  293.516976  112.826478  25.679340\n",
       "2010-01-20   27.431644  289.915587  109.554561  25.258232\n",
       "2010-01-21   26.957455  291.199286  108.503173  24.779325\n",
       "2010-01-22   25.620401  274.730736  105.559289  23.912336\n",
       "2010-01-25   26.309658  269.730740  106.080779  24.209590\n",
       "2010-01-26   26.681494  270.939526  105.769566  24.358216\n",
       "2010-01-27   26.932840  270.779695  106.257412  24.498586\n",
       "2010-01-28   25.819922  266.878565  104.087347  24.077477\n",
       "2010-01-29   24.883208  264.705742  102.943437  23.268290\n",
       "2010-02-01   25.229131  266.244198  104.861166  23.458201\n",
       "2010-02-02   25.375533  265.295156  105.584521  23.499485\n",
       "2010-02-03   25.812149  270.140309  105.693870  23.639855\n",
       "2010-02-04   24.881912  263.127321  103.456514  22.987551\n",
       "2010-02-05   25.323710  265.380075  103.893889  23.136177\n",
       "2010-02-08   25.150100  266.468996  102.972982  22.888466\n",
       "2010-02-09   25.418289  267.952522  104.096663  23.127920\n",
       "2010-02-10   25.279660  266.958496  103.758713  23.111406\n",
       "2010-02-11   25.739595  267.932539  104.536000  23.218748\n",
       "2010-02-12   25.961142  266.294170  104.764113  23.061864\n",
       "2010-02-16   26.352412  270.380071  105.803308  23.518124\n",
       "...                ...         ...         ...        ...\n",
       "2017-01-12  118.735214  806.359985  166.632452  62.232715\n",
       "2017-01-13  118.526121  807.880005  166.027237  62.322172\n",
       "2017-01-17  119.481976  804.609985  166.572925  62.153195\n",
       "2017-01-18  119.472017  806.070007  165.491479  62.123377\n",
       "2017-01-19  119.262925  802.174988  165.501396  61.924581\n",
       "2017-01-20  119.481976  805.020020  169.212061  62.361932\n",
       "2017-01-23  119.561633  819.309998  169.688291  62.580604\n",
       "2017-01-24  119.452107  823.869995  174.520082  63.137231\n",
       "2017-01-25  121.353858  835.669983  176.891332  63.296267\n",
       "2017-01-26  121.413604  832.150024  177.258440  63.882708\n",
       "2017-01-27  121.423555  823.309998  175.909108  65.383610\n",
       "2017-01-30  121.104937  802.320007  174.420876  64.737526\n",
       "2017-01-31  120.826147  796.789978  173.150918  64.260423\n",
       "2017-02-01  128.194203  795.695007  172.922712  63.196871\n",
       "2017-02-02  127.975152  798.530029  173.210445  62.789338\n",
       "2017-02-03  128.522781  801.489990  174.440723  63.296267\n",
       "2017-02-06  129.727549  801.340027  174.480403  63.256507\n",
       "2017-02-07  130.962201  806.969971  177.060012  63.047773\n",
       "2017-02-08  131.469994  808.380005  176.169998  62.958315\n",
       "2017-02-09  132.419998  809.559998  177.210007  63.673974\n",
       "2017-02-10  132.119995  813.669983  178.679993  63.614338\n",
       "2017-02-13  133.289993  819.239990  179.360001  64.330000\n",
       "2017-02-14  135.020004  820.450012  180.130005  64.570000\n",
       "2017-02-15  135.509995  818.979980  181.679993  64.529999\n",
       "2017-02-16  135.350006  824.159973  181.429993  64.519997\n",
       "2017-02-17  135.720001  828.070007  180.669998  64.620003\n",
       "2017-02-21  136.699997  831.659973  180.259995  64.489998\n",
       "2017-02-22  137.110001  830.760010  181.149994  64.360001\n",
       "2017-02-23  136.529999  831.330017  181.649994  64.620003\n",
       "2017-02-24  136.660004  828.640015  181.350006  64.620003\n",
       "\n",
       "[1799 rows x 4 columns]"
      ]
     },
     "execution_count": 27,
     "metadata": {},
     "output_type": "execute_result"
    }
   ],
   "source": [
    "price"
   ]
  },
  {
   "cell_type": "code",
   "execution_count": 28,
   "metadata": {
    "collapsed": false
   },
   "outputs": [
    {
     "data": {
      "text/html": [
       "<div>\n",
       "<table border=\"1\" class=\"dataframe\">\n",
       "  <thead>\n",
       "    <tr style=\"text-align: right;\">\n",
       "      <th></th>\n",
       "      <th>AAPL</th>\n",
       "      <th>GOOG</th>\n",
       "      <th>IBM</th>\n",
       "      <th>MSFT</th>\n",
       "    </tr>\n",
       "    <tr>\n",
       "      <th>Date</th>\n",
       "      <th></th>\n",
       "      <th></th>\n",
       "      <th></th>\n",
       "      <th></th>\n",
       "    </tr>\n",
       "  </thead>\n",
       "  <tbody>\n",
       "    <tr>\n",
       "      <th>2017-02-17</th>\n",
       "      <td>0.002734</td>\n",
       "      <td>0.004744</td>\n",
       "      <td>-0.004189</td>\n",
       "      <td>0.001550</td>\n",
       "    </tr>\n",
       "    <tr>\n",
       "      <th>2017-02-21</th>\n",
       "      <td>0.007221</td>\n",
       "      <td>0.004335</td>\n",
       "      <td>-0.002269</td>\n",
       "      <td>-0.002012</td>\n",
       "    </tr>\n",
       "    <tr>\n",
       "      <th>2017-02-22</th>\n",
       "      <td>0.002999</td>\n",
       "      <td>-0.001082</td>\n",
       "      <td>0.004937</td>\n",
       "      <td>-0.002016</td>\n",
       "    </tr>\n",
       "    <tr>\n",
       "      <th>2017-02-23</th>\n",
       "      <td>-0.004230</td>\n",
       "      <td>0.000686</td>\n",
       "      <td>0.002760</td>\n",
       "      <td>0.004040</td>\n",
       "    </tr>\n",
       "    <tr>\n",
       "      <th>2017-02-24</th>\n",
       "      <td>0.000952</td>\n",
       "      <td>-0.003236</td>\n",
       "      <td>-0.001651</td>\n",
       "      <td>0.000000</td>\n",
       "    </tr>\n",
       "  </tbody>\n",
       "</table>\n",
       "</div>"
      ],
      "text/plain": [
       "                AAPL      GOOG       IBM      MSFT\n",
       "Date                                              \n",
       "2017-02-17  0.002734  0.004744 -0.004189  0.001550\n",
       "2017-02-21  0.007221  0.004335 -0.002269 -0.002012\n",
       "2017-02-22  0.002999 -0.001082  0.004937 -0.002016\n",
       "2017-02-23 -0.004230  0.000686  0.002760  0.004040\n",
       "2017-02-24  0.000952 -0.003236 -0.001651  0.000000"
      ]
     },
     "execution_count": 28,
     "metadata": {},
     "output_type": "execute_result"
    }
   ],
   "source": [
    "returns = price.pct_change()\n",
    "returns.tail()"
   ]
  },
  {
   "cell_type": "code",
   "execution_count": 39,
   "metadata": {
    "collapsed": false
   },
   "outputs": [
    {
     "name": "stdout",
     "output_type": "stream",
     "text": [
      "0.495166900181\n",
      "8.58872503835e-05\n"
     ]
    }
   ],
   "source": [
    "# 相关系数\n",
    "print(returns.MSFT.corr(returns.IBM))\n",
    "# 协方差\n",
    "print(returns.MSFT.cov(returns.IBM))"
   ]
  },
  {
   "cell_type": "code",
   "execution_count": 40,
   "metadata": {
    "collapsed": false
   },
   "outputs": [
    {
     "data": {
      "text/html": [
       "<div>\n",
       "<table border=\"1\" class=\"dataframe\">\n",
       "  <thead>\n",
       "    <tr style=\"text-align: right;\">\n",
       "      <th></th>\n",
       "      <th>AAPL</th>\n",
       "      <th>GOOG</th>\n",
       "      <th>IBM</th>\n",
       "      <th>MSFT</th>\n",
       "    </tr>\n",
       "  </thead>\n",
       "  <tbody>\n",
       "    <tr>\n",
       "      <th>AAPL</th>\n",
       "      <td>1.000000</td>\n",
       "      <td>0.409523</td>\n",
       "      <td>0.381495</td>\n",
       "      <td>0.388913</td>\n",
       "    </tr>\n",
       "    <tr>\n",
       "      <th>GOOG</th>\n",
       "      <td>0.409523</td>\n",
       "      <td>1.000000</td>\n",
       "      <td>0.402880</td>\n",
       "      <td>0.470810</td>\n",
       "    </tr>\n",
       "    <tr>\n",
       "      <th>IBM</th>\n",
       "      <td>0.381495</td>\n",
       "      <td>0.402880</td>\n",
       "      <td>1.000000</td>\n",
       "      <td>0.495167</td>\n",
       "    </tr>\n",
       "    <tr>\n",
       "      <th>MSFT</th>\n",
       "      <td>0.388913</td>\n",
       "      <td>0.470810</td>\n",
       "      <td>0.495167</td>\n",
       "      <td>1.000000</td>\n",
       "    </tr>\n",
       "  </tbody>\n",
       "</table>\n",
       "</div>"
      ],
      "text/plain": [
       "          AAPL      GOOG       IBM      MSFT\n",
       "AAPL  1.000000  0.409523  0.381495  0.388913\n",
       "GOOG  0.409523  1.000000  0.402880  0.470810\n",
       "IBM   0.381495  0.402880  1.000000  0.495167\n",
       "MSFT  0.388913  0.470810  0.495167  1.000000"
      ]
     },
     "execution_count": 40,
     "metadata": {},
     "output_type": "execute_result"
    }
   ],
   "source": [
    "#  相关系数矩阵\n",
    "returns.corr()"
   ]
  },
  {
   "cell_type": "code",
   "execution_count": 41,
   "metadata": {
    "collapsed": false
   },
   "outputs": [
    {
     "data": {
      "text/html": [
       "<div>\n",
       "<table border=\"1\" class=\"dataframe\">\n",
       "  <thead>\n",
       "    <tr style=\"text-align: right;\">\n",
       "      <th></th>\n",
       "      <th>AAPL</th>\n",
       "      <th>GOOG</th>\n",
       "      <th>IBM</th>\n",
       "      <th>MSFT</th>\n",
       "    </tr>\n",
       "  </thead>\n",
       "  <tbody>\n",
       "    <tr>\n",
       "      <th>AAPL</th>\n",
       "      <td>0.000269</td>\n",
       "      <td>0.000105</td>\n",
       "      <td>0.000075</td>\n",
       "      <td>0.000092</td>\n",
       "    </tr>\n",
       "    <tr>\n",
       "      <th>GOOG</th>\n",
       "      <td>0.000105</td>\n",
       "      <td>0.000244</td>\n",
       "      <td>0.000075</td>\n",
       "      <td>0.000106</td>\n",
       "    </tr>\n",
       "    <tr>\n",
       "      <th>IBM</th>\n",
       "      <td>0.000075</td>\n",
       "      <td>0.000075</td>\n",
       "      <td>0.000144</td>\n",
       "      <td>0.000086</td>\n",
       "    </tr>\n",
       "    <tr>\n",
       "      <th>MSFT</th>\n",
       "      <td>0.000092</td>\n",
       "      <td>0.000106</td>\n",
       "      <td>0.000086</td>\n",
       "      <td>0.000209</td>\n",
       "    </tr>\n",
       "  </tbody>\n",
       "</table>\n",
       "</div>"
      ],
      "text/plain": [
       "          AAPL      GOOG       IBM      MSFT\n",
       "AAPL  0.000269  0.000105  0.000075  0.000092\n",
       "GOOG  0.000105  0.000244  0.000075  0.000106\n",
       "IBM   0.000075  0.000075  0.000144  0.000086\n",
       "MSFT  0.000092  0.000106  0.000086  0.000209"
      ]
     },
     "execution_count": 41,
     "metadata": {},
     "output_type": "execute_result"
    }
   ],
   "source": [
    "# 协方差矩阵\n",
    "returns.cov()"
   ]
  },
  {
   "cell_type": "code",
   "execution_count": 44,
   "metadata": {
    "collapsed": false
   },
   "outputs": [
    {
     "data": {
      "text/plain": [
       "AAPL    0.381495\n",
       "GOOG    0.402880\n",
       "IBM     1.000000\n",
       "MSFT    0.495167\n",
       "dtype: float64"
      ]
     },
     "execution_count": 44,
     "metadata": {},
     "output_type": "execute_result"
    }
   ],
   "source": [
    "# 一组相关系数\n",
    "returns.corrwith(returns.IBM)"
   ]
  },
  {
   "cell_type": "code",
   "execution_count": 45,
   "metadata": {
    "collapsed": false
   },
   "outputs": [
    {
     "data": {
      "text/plain": [
       "AAPL   -0.074047\n",
       "GOOG   -0.009542\n",
       "IBM    -0.194405\n",
       "MSFT   -0.091078\n",
       "dtype: float64"
      ]
     },
     "execution_count": 45,
     "metadata": {},
     "output_type": "execute_result"
    }
   ],
   "source": [
    "# 一组相关系数( 回报百分比与成交量之间)\n",
    "returns.corrwith(volume)"
   ]
  },
  {
   "cell_type": "markdown",
   "metadata": {},
   "source": [
    "# 唯一值，值计数和成员资格"
   ]
  },
  {
   "cell_type": "code",
   "execution_count": 46,
   "metadata": {
    "collapsed": false
   },
   "outputs": [],
   "source": [
    "obj = Series(['c', 'a', 'd', 'a', 'a', 'b', 'b', 'c', 'c'])"
   ]
  },
  {
   "cell_type": "code",
   "execution_count": 47,
   "metadata": {
    "collapsed": false
   },
   "outputs": [
    {
     "data": {
      "text/plain": [
       "array(['c', 'a', 'd', 'b'], dtype=object)"
      ]
     },
     "execution_count": 47,
     "metadata": {},
     "output_type": "execute_result"
    }
   ],
   "source": [
    "uniques = obj.unique()\n",
    "uniques"
   ]
  },
  {
   "cell_type": "code",
   "execution_count": 48,
   "metadata": {
    "collapsed": false
   },
   "outputs": [
    {
     "data": {
      "text/plain": [
       "a    3\n",
       "c    3\n",
       "b    2\n",
       "d    1\n",
       "dtype: int64"
      ]
     },
     "execution_count": 48,
     "metadata": {},
     "output_type": "execute_result"
    }
   ],
   "source": [
    "obj.value_counts()"
   ]
  },
  {
   "cell_type": "code",
   "execution_count": 49,
   "metadata": {
    "collapsed": false
   },
   "outputs": [
    {
     "data": {
      "text/plain": [
       "b    2\n",
       "d    1\n",
       "c    3\n",
       "a    3\n",
       "dtype: int64"
      ]
     },
     "execution_count": 49,
     "metadata": {},
     "output_type": "execute_result"
    }
   ],
   "source": [
    "pd.value_counts(obj.values, sort=False)"
   ]
  },
  {
   "cell_type": "code",
   "execution_count": 50,
   "metadata": {
    "collapsed": false
   },
   "outputs": [
    {
     "data": {
      "text/plain": [
       "0     True\n",
       "1    False\n",
       "2    False\n",
       "3    False\n",
       "4    False\n",
       "5     True\n",
       "6     True\n",
       "7     True\n",
       "8     True\n",
       "dtype: bool"
      ]
     },
     "execution_count": 50,
     "metadata": {},
     "output_type": "execute_result"
    }
   ],
   "source": [
    "mask = obj.isin(['b', 'c'])\n",
    "mask"
   ]
  },
  {
   "cell_type": "code",
   "execution_count": 54,
   "metadata": {
    "collapsed": false
   },
   "outputs": [
    {
     "data": {
      "text/plain": [
       "0    c\n",
       "5    b\n",
       "6    b\n",
       "7    c\n",
       "8    c\n",
       "dtype: object"
      ]
     },
     "execution_count": 54,
     "metadata": {},
     "output_type": "execute_result"
    }
   ],
   "source": [
    "# 通过 `isin()`的结果进行筛选\n",
    "obj[mask]"
   ]
  },
  {
   "cell_type": "code",
   "execution_count": 52,
   "metadata": {
    "collapsed": false
   },
   "outputs": [
    {
     "data": {
      "text/html": [
       "<div>\n",
       "<table border=\"1\" class=\"dataframe\">\n",
       "  <thead>\n",
       "    <tr style=\"text-align: right;\">\n",
       "      <th></th>\n",
       "      <th>Qu1</th>\n",
       "      <th>Qu2</th>\n",
       "      <th>Qu3</th>\n",
       "    </tr>\n",
       "  </thead>\n",
       "  <tbody>\n",
       "    <tr>\n",
       "      <th>0</th>\n",
       "      <td>1</td>\n",
       "      <td>2</td>\n",
       "      <td>1</td>\n",
       "    </tr>\n",
       "    <tr>\n",
       "      <th>1</th>\n",
       "      <td>3</td>\n",
       "      <td>3</td>\n",
       "      <td>5</td>\n",
       "    </tr>\n",
       "    <tr>\n",
       "      <th>2</th>\n",
       "      <td>4</td>\n",
       "      <td>1</td>\n",
       "      <td>2</td>\n",
       "    </tr>\n",
       "    <tr>\n",
       "      <th>3</th>\n",
       "      <td>3</td>\n",
       "      <td>2</td>\n",
       "      <td>4</td>\n",
       "    </tr>\n",
       "    <tr>\n",
       "      <th>4</th>\n",
       "      <td>4</td>\n",
       "      <td>3</td>\n",
       "      <td>4</td>\n",
       "    </tr>\n",
       "  </tbody>\n",
       "</table>\n",
       "</div>"
      ],
      "text/plain": [
       "   Qu1  Qu2  Qu3\n",
       "0    1    2    1\n",
       "1    3    3    5\n",
       "2    4    1    2\n",
       "3    3    2    4\n",
       "4    4    3    4"
      ]
     },
     "execution_count": 52,
     "metadata": {},
     "output_type": "execute_result"
    }
   ],
   "source": [
    "data = DataFrame({'Qu1': [1, 3, 4, 3, 4],\n",
    "                  'Qu2': [2, 3, 1, 2, 3],\n",
    "                  'Qu3': [1, 5, 2, 4, 4]})\n",
    "data"
   ]
  },
  {
   "cell_type": "code",
   "execution_count": 55,
   "metadata": {
    "collapsed": false
   },
   "outputs": [
    {
     "data": {
      "text/html": [
       "<div>\n",
       "<table border=\"1\" class=\"dataframe\">\n",
       "  <thead>\n",
       "    <tr style=\"text-align: right;\">\n",
       "      <th></th>\n",
       "      <th>Qu1</th>\n",
       "      <th>Qu2</th>\n",
       "      <th>Qu3</th>\n",
       "    </tr>\n",
       "  </thead>\n",
       "  <tbody>\n",
       "    <tr>\n",
       "      <th>1</th>\n",
       "      <td>1.0</td>\n",
       "      <td>1.0</td>\n",
       "      <td>1.0</td>\n",
       "    </tr>\n",
       "    <tr>\n",
       "      <th>2</th>\n",
       "      <td>0.0</td>\n",
       "      <td>2.0</td>\n",
       "      <td>1.0</td>\n",
       "    </tr>\n",
       "    <tr>\n",
       "      <th>3</th>\n",
       "      <td>2.0</td>\n",
       "      <td>2.0</td>\n",
       "      <td>0.0</td>\n",
       "    </tr>\n",
       "    <tr>\n",
       "      <th>4</th>\n",
       "      <td>2.0</td>\n",
       "      <td>0.0</td>\n",
       "      <td>2.0</td>\n",
       "    </tr>\n",
       "    <tr>\n",
       "      <th>5</th>\n",
       "      <td>0.0</td>\n",
       "      <td>0.0</td>\n",
       "      <td>1.0</td>\n",
       "    </tr>\n",
       "  </tbody>\n",
       "</table>\n",
       "</div>"
      ],
      "text/plain": [
       "   Qu1  Qu2  Qu3\n",
       "1  1.0  1.0  1.0\n",
       "2  0.0  2.0  1.0\n",
       "3  2.0  2.0  0.0\n",
       "4  2.0  0.0  2.0\n",
       "5  0.0  0.0  1.0"
      ]
     },
     "execution_count": 55,
     "metadata": {},
     "output_type": "execute_result"
    }
   ],
   "source": [
    "result = data.apply(pd.value_counts).fillna(0)\n",
    "result"
   ]
  },
  {
   "cell_type": "code",
   "execution_count": null,
   "metadata": {
    "collapsed": true
   },
   "outputs": [],
   "source": []
  }
 ],
 "metadata": {
  "kernelspec": {
   "display_name": "Python 3",
   "language": "python",
   "name": "python3"
  },
  "language_info": {
   "codemirror_mode": {
    "name": "ipython",
    "version": 3
   },
   "file_extension": ".py",
   "mimetype": "text/x-python",
   "name": "python",
   "nbconvert_exporter": "python",
   "pygments_lexer": "ipython3",
   "version": "3.6.0"
  }
 },
 "nbformat": 4,
 "nbformat_minor": 0
}
